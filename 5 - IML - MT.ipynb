{
 "cells": [
  {
   "cell_type": "code",
   "execution_count": 1,
   "id": "3f8f73a8",
   "metadata": {},
   "outputs": [],
   "source": [
    "import pandas as pd\n",
    "import numpy as np\n",
    "import matplotlib.pyplot as plt"
   ]
  },
  {
   "cell_type": "code",
   "execution_count": 2,
   "id": "ee9a9a77",
   "metadata": {},
   "outputs": [],
   "source": [
    "emp = pd.read_csv('attrition.csv')"
   ]
  },
  {
   "cell_type": "code",
   "execution_count": 3,
   "id": "bc2e4964",
   "metadata": {},
   "outputs": [],
   "source": [
    "emp1= emp[emp.Attrition==1]\n",
    "emp0= emp[emp.Attrition==0]"
   ]
  },
  {
   "cell_type": "code",
   "execution_count": 4,
   "id": "2e41f526",
   "metadata": {},
   "outputs": [
    {
     "data": {
      "text/html": [
       "<div>\n",
       "<style scoped>\n",
       "    .dataframe tbody tr th:only-of-type {\n",
       "        vertical-align: middle;\n",
       "    }\n",
       "\n",
       "    .dataframe tbody tr th {\n",
       "        vertical-align: top;\n",
       "    }\n",
       "\n",
       "    .dataframe thead th {\n",
       "        text-align: right;\n",
       "    }\n",
       "</style>\n",
       "<table border=\"1\" class=\"dataframe\">\n",
       "  <thead>\n",
       "    <tr style=\"text-align: right;\">\n",
       "      <th></th>\n",
       "      <th>Age</th>\n",
       "      <th>Attrition</th>\n",
       "      <th>BusinessTravel</th>\n",
       "      <th>Department</th>\n",
       "      <th>EducationField</th>\n",
       "      <th>EnvironmentSatisfaction</th>\n",
       "      <th>Gender</th>\n",
       "      <th>JobInvolvement</th>\n",
       "      <th>JobLevel</th>\n",
       "      <th>JobSatisfaction</th>\n",
       "      <th>MaritalStatus</th>\n",
       "      <th>MonthlyIncome</th>\n",
       "      <th>OverTime</th>\n",
       "      <th>TotalWorkingYears</th>\n",
       "      <th>WorkLifeBalance</th>\n",
       "      <th>YearsAtCompany</th>\n",
       "      <th>YearsInCurrentRole</th>\n",
       "      <th>YearsSinceLastPromotion</th>\n",
       "      <th>YearsWithCurrManager</th>\n",
       "      <th>DistanceFromHome</th>\n",
       "    </tr>\n",
       "  </thead>\n",
       "  <tbody>\n",
       "    <tr>\n",
       "      <th>0</th>\n",
       "      <td>41</td>\n",
       "      <td>1</td>\n",
       "      <td>Travel_Rarely</td>\n",
       "      <td>Sales</td>\n",
       "      <td>Life Sciences</td>\n",
       "      <td>2</td>\n",
       "      <td>Female</td>\n",
       "      <td>3</td>\n",
       "      <td>2</td>\n",
       "      <td>4</td>\n",
       "      <td>Single</td>\n",
       "      <td>5993</td>\n",
       "      <td>Yes</td>\n",
       "      <td>8</td>\n",
       "      <td>1</td>\n",
       "      <td>6</td>\n",
       "      <td>4</td>\n",
       "      <td>0</td>\n",
       "      <td>5</td>\n",
       "      <td>1</td>\n",
       "    </tr>\n",
       "    <tr>\n",
       "      <th>1</th>\n",
       "      <td>49</td>\n",
       "      <td>0</td>\n",
       "      <td>Travel_Frequently</td>\n",
       "      <td>Research &amp; Development</td>\n",
       "      <td>Life Sciences</td>\n",
       "      <td>3</td>\n",
       "      <td>Male</td>\n",
       "      <td>2</td>\n",
       "      <td>2</td>\n",
       "      <td>2</td>\n",
       "      <td>Married</td>\n",
       "      <td>5130</td>\n",
       "      <td>No</td>\n",
       "      <td>10</td>\n",
       "      <td>3</td>\n",
       "      <td>10</td>\n",
       "      <td>7</td>\n",
       "      <td>1</td>\n",
       "      <td>7</td>\n",
       "      <td>8</td>\n",
       "    </tr>\n",
       "    <tr>\n",
       "      <th>2</th>\n",
       "      <td>37</td>\n",
       "      <td>1</td>\n",
       "      <td>Travel_Rarely</td>\n",
       "      <td>Research &amp; Development</td>\n",
       "      <td>Other</td>\n",
       "      <td>4</td>\n",
       "      <td>Male</td>\n",
       "      <td>2</td>\n",
       "      <td>1</td>\n",
       "      <td>3</td>\n",
       "      <td>Single</td>\n",
       "      <td>2090</td>\n",
       "      <td>Yes</td>\n",
       "      <td>7</td>\n",
       "      <td>3</td>\n",
       "      <td>0</td>\n",
       "      <td>0</td>\n",
       "      <td>0</td>\n",
       "      <td>0</td>\n",
       "      <td>2</td>\n",
       "    </tr>\n",
       "    <tr>\n",
       "      <th>3</th>\n",
       "      <td>33</td>\n",
       "      <td>0</td>\n",
       "      <td>Travel_Frequently</td>\n",
       "      <td>Research &amp; Development</td>\n",
       "      <td>Life Sciences</td>\n",
       "      <td>4</td>\n",
       "      <td>Female</td>\n",
       "      <td>3</td>\n",
       "      <td>1</td>\n",
       "      <td>3</td>\n",
       "      <td>Married</td>\n",
       "      <td>2909</td>\n",
       "      <td>Yes</td>\n",
       "      <td>8</td>\n",
       "      <td>3</td>\n",
       "      <td>8</td>\n",
       "      <td>7</td>\n",
       "      <td>3</td>\n",
       "      <td>0</td>\n",
       "      <td>3</td>\n",
       "    </tr>\n",
       "    <tr>\n",
       "      <th>4</th>\n",
       "      <td>27</td>\n",
       "      <td>0</td>\n",
       "      <td>Travel_Rarely</td>\n",
       "      <td>Research &amp; Development</td>\n",
       "      <td>Medical</td>\n",
       "      <td>1</td>\n",
       "      <td>Male</td>\n",
       "      <td>3</td>\n",
       "      <td>1</td>\n",
       "      <td>2</td>\n",
       "      <td>Married</td>\n",
       "      <td>3468</td>\n",
       "      <td>No</td>\n",
       "      <td>6</td>\n",
       "      <td>3</td>\n",
       "      <td>2</td>\n",
       "      <td>2</td>\n",
       "      <td>2</td>\n",
       "      <td>2</td>\n",
       "      <td>2</td>\n",
       "    </tr>\n",
       "  </tbody>\n",
       "</table>\n",
       "</div>"
      ],
      "text/plain": [
       "   Age  Attrition     BusinessTravel              Department EducationField  \\\n",
       "0   41          1      Travel_Rarely                   Sales  Life Sciences   \n",
       "1   49          0  Travel_Frequently  Research & Development  Life Sciences   \n",
       "2   37          1      Travel_Rarely  Research & Development          Other   \n",
       "3   33          0  Travel_Frequently  Research & Development  Life Sciences   \n",
       "4   27          0      Travel_Rarely  Research & Development        Medical   \n",
       "\n",
       "   EnvironmentSatisfaction  Gender  JobInvolvement  JobLevel  JobSatisfaction  \\\n",
       "0                        2  Female               3         2                4   \n",
       "1                        3    Male               2         2                2   \n",
       "2                        4    Male               2         1                3   \n",
       "3                        4  Female               3         1                3   \n",
       "4                        1    Male               3         1                2   \n",
       "\n",
       "  MaritalStatus  MonthlyIncome OverTime  TotalWorkingYears  WorkLifeBalance  \\\n",
       "0        Single           5993      Yes                  8                1   \n",
       "1       Married           5130       No                 10                3   \n",
       "2        Single           2090      Yes                  7                3   \n",
       "3       Married           2909      Yes                  8                3   \n",
       "4       Married           3468       No                  6                3   \n",
       "\n",
       "   YearsAtCompany  YearsInCurrentRole  YearsSinceLastPromotion  \\\n",
       "0               6                   4                        0   \n",
       "1              10                   7                        1   \n",
       "2               0                   0                        0   \n",
       "3               8                   7                        3   \n",
       "4               2                   2                        2   \n",
       "\n",
       "   YearsWithCurrManager  DistanceFromHome  \n",
       "0                     5                 1  \n",
       "1                     7                 8  \n",
       "2                     0                 2  \n",
       "3                     0                 3  \n",
       "4                     2                 2  "
      ]
     },
     "execution_count": 4,
     "metadata": {},
     "output_type": "execute_result"
    }
   ],
   "source": [
    "emp.head()"
   ]
  },
  {
   "cell_type": "markdown",
   "id": "203eea03",
   "metadata": {},
   "source": [
    "## Univariate Analysis"
   ]
  },
  {
   "cell_type": "code",
   "execution_count": 5,
   "id": "38024729",
   "metadata": {},
   "outputs": [
    {
     "data": {
      "text/plain": [
       "(1470, 20)"
      ]
     },
     "execution_count": 5,
     "metadata": {},
     "output_type": "execute_result"
    }
   ],
   "source": [
    "emp.shape"
   ]
  },
  {
   "cell_type": "code",
   "execution_count": 6,
   "id": "79b6c1d7",
   "metadata": {},
   "outputs": [
    {
     "data": {
      "text/html": [
       "<div>\n",
       "<style scoped>\n",
       "    .dataframe tbody tr th:only-of-type {\n",
       "        vertical-align: middle;\n",
       "    }\n",
       "\n",
       "    .dataframe tbody tr th {\n",
       "        vertical-align: top;\n",
       "    }\n",
       "\n",
       "    .dataframe thead th {\n",
       "        text-align: right;\n",
       "    }\n",
       "</style>\n",
       "<table border=\"1\" class=\"dataframe\">\n",
       "  <thead>\n",
       "    <tr style=\"text-align: right;\">\n",
       "      <th></th>\n",
       "      <th>Age</th>\n",
       "      <th>Attrition</th>\n",
       "      <th>EnvironmentSatisfaction</th>\n",
       "      <th>JobInvolvement</th>\n",
       "      <th>JobLevel</th>\n",
       "      <th>JobSatisfaction</th>\n",
       "      <th>MonthlyIncome</th>\n",
       "      <th>TotalWorkingYears</th>\n",
       "      <th>WorkLifeBalance</th>\n",
       "      <th>YearsAtCompany</th>\n",
       "      <th>YearsInCurrentRole</th>\n",
       "      <th>YearsSinceLastPromotion</th>\n",
       "      <th>YearsWithCurrManager</th>\n",
       "      <th>DistanceFromHome</th>\n",
       "    </tr>\n",
       "  </thead>\n",
       "  <tbody>\n",
       "    <tr>\n",
       "      <th>count</th>\n",
       "      <td>1470.000000</td>\n",
       "      <td>1470.000000</td>\n",
       "      <td>1470.000000</td>\n",
       "      <td>1470.000000</td>\n",
       "      <td>1470.000000</td>\n",
       "      <td>1470.000000</td>\n",
       "      <td>1470.000000</td>\n",
       "      <td>1470.000000</td>\n",
       "      <td>1470.000000</td>\n",
       "      <td>1470.000000</td>\n",
       "      <td>1470.000000</td>\n",
       "      <td>1470.000000</td>\n",
       "      <td>1470.000000</td>\n",
       "      <td>1470.000000</td>\n",
       "    </tr>\n",
       "    <tr>\n",
       "      <th>mean</th>\n",
       "      <td>36.923810</td>\n",
       "      <td>0.161224</td>\n",
       "      <td>2.721769</td>\n",
       "      <td>2.729932</td>\n",
       "      <td>2.063946</td>\n",
       "      <td>2.728571</td>\n",
       "      <td>6502.931293</td>\n",
       "      <td>11.279592</td>\n",
       "      <td>2.761224</td>\n",
       "      <td>7.008163</td>\n",
       "      <td>4.229252</td>\n",
       "      <td>2.187755</td>\n",
       "      <td>4.123129</td>\n",
       "      <td>9.192517</td>\n",
       "    </tr>\n",
       "    <tr>\n",
       "      <th>std</th>\n",
       "      <td>9.135373</td>\n",
       "      <td>0.367863</td>\n",
       "      <td>1.093082</td>\n",
       "      <td>0.711561</td>\n",
       "      <td>1.106940</td>\n",
       "      <td>1.102846</td>\n",
       "      <td>4707.956783</td>\n",
       "      <td>7.780782</td>\n",
       "      <td>0.706476</td>\n",
       "      <td>6.126525</td>\n",
       "      <td>3.623137</td>\n",
       "      <td>3.222430</td>\n",
       "      <td>3.568136</td>\n",
       "      <td>8.106864</td>\n",
       "    </tr>\n",
       "    <tr>\n",
       "      <th>min</th>\n",
       "      <td>18.000000</td>\n",
       "      <td>0.000000</td>\n",
       "      <td>1.000000</td>\n",
       "      <td>1.000000</td>\n",
       "      <td>1.000000</td>\n",
       "      <td>1.000000</td>\n",
       "      <td>1009.000000</td>\n",
       "      <td>0.000000</td>\n",
       "      <td>1.000000</td>\n",
       "      <td>0.000000</td>\n",
       "      <td>0.000000</td>\n",
       "      <td>0.000000</td>\n",
       "      <td>0.000000</td>\n",
       "      <td>1.000000</td>\n",
       "    </tr>\n",
       "    <tr>\n",
       "      <th>25%</th>\n",
       "      <td>30.000000</td>\n",
       "      <td>0.000000</td>\n",
       "      <td>2.000000</td>\n",
       "      <td>2.000000</td>\n",
       "      <td>1.000000</td>\n",
       "      <td>2.000000</td>\n",
       "      <td>2911.000000</td>\n",
       "      <td>6.000000</td>\n",
       "      <td>2.000000</td>\n",
       "      <td>3.000000</td>\n",
       "      <td>2.000000</td>\n",
       "      <td>0.000000</td>\n",
       "      <td>2.000000</td>\n",
       "      <td>2.000000</td>\n",
       "    </tr>\n",
       "    <tr>\n",
       "      <th>50%</th>\n",
       "      <td>36.000000</td>\n",
       "      <td>0.000000</td>\n",
       "      <td>3.000000</td>\n",
       "      <td>3.000000</td>\n",
       "      <td>2.000000</td>\n",
       "      <td>3.000000</td>\n",
       "      <td>4919.000000</td>\n",
       "      <td>10.000000</td>\n",
       "      <td>3.000000</td>\n",
       "      <td>5.000000</td>\n",
       "      <td>3.000000</td>\n",
       "      <td>1.000000</td>\n",
       "      <td>3.000000</td>\n",
       "      <td>7.000000</td>\n",
       "    </tr>\n",
       "    <tr>\n",
       "      <th>75%</th>\n",
       "      <td>43.000000</td>\n",
       "      <td>0.000000</td>\n",
       "      <td>4.000000</td>\n",
       "      <td>3.000000</td>\n",
       "      <td>3.000000</td>\n",
       "      <td>4.000000</td>\n",
       "      <td>8379.000000</td>\n",
       "      <td>15.000000</td>\n",
       "      <td>3.000000</td>\n",
       "      <td>9.000000</td>\n",
       "      <td>7.000000</td>\n",
       "      <td>3.000000</td>\n",
       "      <td>7.000000</td>\n",
       "      <td>14.000000</td>\n",
       "    </tr>\n",
       "    <tr>\n",
       "      <th>max</th>\n",
       "      <td>60.000000</td>\n",
       "      <td>1.000000</td>\n",
       "      <td>4.000000</td>\n",
       "      <td>4.000000</td>\n",
       "      <td>5.000000</td>\n",
       "      <td>4.000000</td>\n",
       "      <td>19999.000000</td>\n",
       "      <td>40.000000</td>\n",
       "      <td>4.000000</td>\n",
       "      <td>40.000000</td>\n",
       "      <td>18.000000</td>\n",
       "      <td>15.000000</td>\n",
       "      <td>17.000000</td>\n",
       "      <td>29.000000</td>\n",
       "    </tr>\n",
       "  </tbody>\n",
       "</table>\n",
       "</div>"
      ],
      "text/plain": [
       "               Age    Attrition  EnvironmentSatisfaction  JobInvolvement  \\\n",
       "count  1470.000000  1470.000000              1470.000000     1470.000000   \n",
       "mean     36.923810     0.161224                 2.721769        2.729932   \n",
       "std       9.135373     0.367863                 1.093082        0.711561   \n",
       "min      18.000000     0.000000                 1.000000        1.000000   \n",
       "25%      30.000000     0.000000                 2.000000        2.000000   \n",
       "50%      36.000000     0.000000                 3.000000        3.000000   \n",
       "75%      43.000000     0.000000                 4.000000        3.000000   \n",
       "max      60.000000     1.000000                 4.000000        4.000000   \n",
       "\n",
       "          JobLevel  JobSatisfaction  MonthlyIncome  TotalWorkingYears  \\\n",
       "count  1470.000000      1470.000000    1470.000000        1470.000000   \n",
       "mean      2.063946         2.728571    6502.931293          11.279592   \n",
       "std       1.106940         1.102846    4707.956783           7.780782   \n",
       "min       1.000000         1.000000    1009.000000           0.000000   \n",
       "25%       1.000000         2.000000    2911.000000           6.000000   \n",
       "50%       2.000000         3.000000    4919.000000          10.000000   \n",
       "75%       3.000000         4.000000    8379.000000          15.000000   \n",
       "max       5.000000         4.000000   19999.000000          40.000000   \n",
       "\n",
       "       WorkLifeBalance  YearsAtCompany  YearsInCurrentRole  \\\n",
       "count      1470.000000     1470.000000         1470.000000   \n",
       "mean          2.761224        7.008163            4.229252   \n",
       "std           0.706476        6.126525            3.623137   \n",
       "min           1.000000        0.000000            0.000000   \n",
       "25%           2.000000        3.000000            2.000000   \n",
       "50%           3.000000        5.000000            3.000000   \n",
       "75%           3.000000        9.000000            7.000000   \n",
       "max           4.000000       40.000000           18.000000   \n",
       "\n",
       "       YearsSinceLastPromotion  YearsWithCurrManager  DistanceFromHome  \n",
       "count              1470.000000           1470.000000       1470.000000  \n",
       "mean                  2.187755              4.123129          9.192517  \n",
       "std                   3.222430              3.568136          8.106864  \n",
       "min                   0.000000              0.000000          1.000000  \n",
       "25%                   0.000000              2.000000          2.000000  \n",
       "50%                   1.000000              3.000000          7.000000  \n",
       "75%                   3.000000              7.000000         14.000000  \n",
       "max                  15.000000             17.000000         29.000000  "
      ]
     },
     "execution_count": 6,
     "metadata": {},
     "output_type": "execute_result"
    }
   ],
   "source": [
    "emp.describe()"
   ]
  },
  {
   "cell_type": "markdown",
   "id": "858e9064",
   "metadata": {},
   "source": [
    "#### Age (continuous)"
   ]
  },
  {
   "cell_type": "code",
   "execution_count": 7,
   "id": "60b9b849",
   "metadata": {},
   "outputs": [
    {
     "data": {
      "image/png": "[encoded data removed]",
      "text/plain": [
       "<Figure size 432x288 with 1 Axes>"
      ]
     },
     "metadata": {
      "needs_background": "light"
     },
     "output_type": "display_data"
    }
   ],
   "source": [
    "plt.hist(emp.Age,bins= 10)\n",
    "plt.xlabel('Age')\n",
    "plt.ylabel('Number of employees');"
   ]
  },
  {
   "cell_type": "markdown",
   "id": "99f88185",
   "metadata": {},
   "source": [
    "- In our we observe that company Age is normally distributed\n",
    "- In our company almost 68% of the employees lie in the age bracket of 27-46(mean+-std) as per our analysis  \n",
    "-Age(18-60)"
   ]
  },
  {
   "cell_type": "markdown",
   "id": "20a5845c",
   "metadata": {},
   "source": [
    "##### Attrition (target variable)"
   ]
  },
  {
   "cell_type": "code",
   "execution_count": 8,
   "id": "a8fcaa49",
   "metadata": {},
   "outputs": [
    {
     "data": {
      "text/plain": [
       "1470"
      ]
     },
     "execution_count": 8,
     "metadata": {},
     "output_type": "execute_result"
    }
   ],
   "source": [
    "emp.Attrition.count()"
   ]
  },
  {
   "cell_type": "code",
   "execution_count": 9,
   "id": "70b1fc78",
   "metadata": {},
   "outputs": [],
   "source": [
    "n = len(emp)"
   ]
  },
  {
   "cell_type": "code",
   "execution_count": 84,
   "id": "e346b1a9",
   "metadata": {},
   "outputs": [
    {
     "data": {
      "text/html": [
       "<div>\n",
       "<style scoped>\n",
       "    .dataframe tbody tr th:only-of-type {\n",
       "        vertical-align: middle;\n",
       "    }\n",
       "\n",
       "    .dataframe tbody tr th {\n",
       "        vertical-align: top;\n",
       "    }\n",
       "\n",
       "    .dataframe thead th {\n",
       "        text-align: right;\n",
       "    }\n",
       "</style>\n",
       "<table border=\"1\" class=\"dataframe\">\n",
       "  <thead>\n",
       "    <tr style=\"text-align: right;\">\n",
       "      <th>col_0</th>\n",
       "      <th>Frequency</th>\n",
       "    </tr>\n",
       "    <tr>\n",
       "      <th>Attrition</th>\n",
       "      <th></th>\n",
       "    </tr>\n",
       "  </thead>\n",
       "  <tbody>\n",
       "    <tr>\n",
       "      <th>0</th>\n",
       "      <td>83.877551</td>\n",
       "    </tr>\n",
       "    <tr>\n",
       "      <th>1</th>\n",
       "      <td>16.122449</td>\n",
       "    </tr>\n",
       "  </tbody>\n",
       "</table>\n",
       "</div>"
      ],
      "text/plain": [
       "col_0      Frequency\n",
       "Attrition           \n",
       "0          83.877551\n",
       "1          16.122449"
      ]
     },
     "execution_count": 84,
     "metadata": {},
     "output_type": "execute_result"
    }
   ],
   "source": [
    "tab = pd.crosstab(emp.Attrition,columns='Frequency')/n *100\n",
    "tab"
   ]
  },
  {
   "cell_type": "markdown",
   "id": "7c394f49",
   "metadata": {},
   "source": [
    "- In our company Attrition rate is around 16%.\n",
    "- Categorical nominal variable"
   ]
  },
  {
   "cell_type": "markdown",
   "id": "f5af518f",
   "metadata": {},
   "source": [
    "#### Business Travel"
   ]
  },
  {
   "cell_type": "code",
   "execution_count": 12,
   "id": "170ec7b4",
   "metadata": {},
   "outputs": [
    {
     "data": {
      "text/html": [
       "<div>\n",
       "<style scoped>\n",
       "    .dataframe tbody tr th:only-of-type {\n",
       "        vertical-align: middle;\n",
       "    }\n",
       "\n",
       "    .dataframe tbody tr th {\n",
       "        vertical-align: top;\n",
       "    }\n",
       "\n",
       "    .dataframe thead th {\n",
       "        text-align: right;\n",
       "    }\n",
       "</style>\n",
       "<table border=\"1\" class=\"dataframe\">\n",
       "  <thead>\n",
       "    <tr style=\"text-align: right;\">\n",
       "      <th>col_0</th>\n",
       "      <th>Frequency</th>\n",
       "    </tr>\n",
       "    <tr>\n",
       "      <th>BusinessTravel</th>\n",
       "      <th></th>\n",
       "    </tr>\n",
       "  </thead>\n",
       "  <tbody>\n",
       "    <tr>\n",
       "      <th>Non-Travel</th>\n",
       "      <td>10.204082</td>\n",
       "    </tr>\n",
       "    <tr>\n",
       "      <th>Travel_Frequently</th>\n",
       "      <td>18.843537</td>\n",
       "    </tr>\n",
       "    <tr>\n",
       "      <th>Travel_Rarely</th>\n",
       "      <td>70.952381</td>\n",
       "    </tr>\n",
       "  </tbody>\n",
       "</table>\n",
       "</div>"
      ],
      "text/plain": [
       "col_0              Frequency\n",
       "BusinessTravel              \n",
       "Non-Travel         10.204082\n",
       "Travel_Frequently  18.843537\n",
       "Travel_Rarely      70.952381"
      ]
     },
     "execution_count": 12,
     "metadata": {},
     "output_type": "execute_result"
    }
   ],
   "source": [
    "pd.crosstab(emp.BusinessTravel, columns='Frequency')/n *100"
   ]
  },
  {
   "cell_type": "markdown",
   "id": "75dcab63",
   "metadata": {},
   "source": [
    "- Under our analysis in the company employees who do not travel is 10.20%.\n",
    "- Under our analysis in the company employees who travel frequently are about 18.84%\n",
    "- Under our analysis in the company employees who travel rarely are about 70.95%"
   ]
  },
  {
   "cell_type": "markdown",
   "id": "5f0c824b",
   "metadata": {},
   "source": [
    "#### Department"
   ]
  },
  {
   "cell_type": "code",
   "execution_count": 13,
   "id": "c8853383",
   "metadata": {},
   "outputs": [
    {
     "data": {
      "text/html": [
       "<div>\n",
       "<style scoped>\n",
       "    .dataframe tbody tr th:only-of-type {\n",
       "        vertical-align: middle;\n",
       "    }\n",
       "\n",
       "    .dataframe tbody tr th {\n",
       "        vertical-align: top;\n",
       "    }\n",
       "\n",
       "    .dataframe thead th {\n",
       "        text-align: right;\n",
       "    }\n",
       "</style>\n",
       "<table border=\"1\" class=\"dataframe\">\n",
       "  <thead>\n",
       "    <tr style=\"text-align: right;\">\n",
       "      <th>col_0</th>\n",
       "      <th>Frequency</th>\n",
       "    </tr>\n",
       "    <tr>\n",
       "      <th>Department</th>\n",
       "      <th></th>\n",
       "    </tr>\n",
       "  </thead>\n",
       "  <tbody>\n",
       "    <tr>\n",
       "      <th>Human Resources</th>\n",
       "      <td>4.285714</td>\n",
       "    </tr>\n",
       "    <tr>\n",
       "      <th>Research &amp; Development</th>\n",
       "      <td>65.374150</td>\n",
       "    </tr>\n",
       "    <tr>\n",
       "      <th>Sales</th>\n",
       "      <td>30.340136</td>\n",
       "    </tr>\n",
       "  </tbody>\n",
       "</table>\n",
       "</div>"
      ],
      "text/plain": [
       "col_0                   Frequency\n",
       "Department                       \n",
       "Human Resources          4.285714\n",
       "Research & Development  65.374150\n",
       "Sales                   30.340136"
      ]
     },
     "execution_count": 13,
     "metadata": {},
     "output_type": "execute_result"
    }
   ],
   "source": [
    "pd.crosstab(emp.Department, columns='Frequency')/n *100"
   ]
  },
  {
   "cell_type": "markdown",
   "id": "c91a55b7",
   "metadata": {},
   "source": [
    "- Under our analysis in the company employees who travel rarely are about 70.95%"
   ]
  },
  {
   "cell_type": "markdown",
   "id": "346d96c6",
   "metadata": {},
   "source": [
    "#### Environment Satisfaction"
   ]
  },
  {
   "cell_type": "code",
   "execution_count": 14,
   "id": "b1c6321c",
   "metadata": {},
   "outputs": [
    {
     "data": {
      "text/plain": [
       "3    30.816327\n",
       "4    30.340136\n",
       "2    19.523810\n",
       "1    19.319728\n",
       "Name: EnvironmentSatisfaction, dtype: float64"
      ]
     },
     "execution_count": 14,
     "metadata": {},
     "output_type": "execute_result"
    }
   ],
   "source": [
    "emp.EnvironmentSatisfaction.value_counts()/len(emp) *100"
   ]
  },
  {
   "cell_type": "markdown",
   "id": "44d44981",
   "metadata": {},
   "source": [
    "- In the company only 60% of employees have marked satisfaction above 3. \n",
    "- 20% of employees have marked environment satisfaction as 1.\n",
    "- Are these 20% of employess not satisfied with their job?\n",
    "- Is this feature effecting attrition"
   ]
  },
  {
   "cell_type": "markdown",
   "id": "8bf27e22",
   "metadata": {},
   "source": [
    "#### Job Involvement "
   ]
  },
  {
   "cell_type": "code",
   "execution_count": 15,
   "id": "3552a5ef",
   "metadata": {},
   "outputs": [
    {
     "data": {
      "text/plain": [
       "3    868\n",
       "2    375\n",
       "4    144\n",
       "1     83\n",
       "Name: JobInvolvement, dtype: int64"
      ]
     },
     "execution_count": 15,
     "metadata": {},
     "output_type": "execute_result"
    }
   ],
   "source": [
    "emp.JobInvolvement.value_counts()"
   ]
  },
  {
   "cell_type": "code",
   "execution_count": 16,
   "id": "223460e0",
   "metadata": {},
   "outputs": [
    {
     "data": {
      "text/plain": [
       "3    59.047619\n",
       "2    25.510204\n",
       "4     9.795918\n",
       "1     5.646259\n",
       "Name: JobInvolvement, dtype: float64"
      ]
     },
     "execution_count": 16,
     "metadata": {},
     "output_type": "execute_result"
    }
   ],
   "source": [
    "emp.JobInvolvement.value_counts()/n *100"
   ]
  },
  {
   "cell_type": "markdown",
   "id": "aa6951d5",
   "metadata": {},
   "source": [
    "- Only 5%  of employees are least involved. (are these employees leaving the company)\n",
    "- Only 9% have given job involvement as 4 rating(ask why?)\n",
    "- 68.83 % of the employees are actively involved in their jobs"
   ]
  },
  {
   "cell_type": "markdown",
   "id": "65a22497",
   "metadata": {},
   "source": [
    "#### Job Level"
   ]
  },
  {
   "cell_type": "code",
   "execution_count": 17,
   "id": "218cd836",
   "metadata": {},
   "outputs": [
    {
     "data": {
      "text/plain": [
       "1    36.938776\n",
       "2    36.326531\n",
       "3    14.829932\n",
       "4     7.210884\n",
       "5     4.693878\n",
       "Name: JobLevel, dtype: float64"
      ]
     },
     "execution_count": 17,
     "metadata": {},
     "output_type": "execute_result"
    }
   ],
   "source": [
    "emp.JobLevel.value_counts()/len(emp) *100"
   ]
  },
  {
   "cell_type": "code",
   "execution_count": 87,
   "id": "32cd4954",
   "metadata": {},
   "outputs": [
    {
     "data": {
      "image/png": "[encoded data removed]",
      "text/plain": [
       "<Figure size 432x288 with 1 Axes>"
      ]
     },
     "metadata": {
      "needs_background": "light"
     },
     "output_type": "display_data"
    }
   ],
   "source": [
    "plt.plot(emp.JobLevel.value_counts()/len(emp));"
   ]
  },
  {
   "cell_type": "markdown",
   "id": "68779d49",
   "metadata": {},
   "source": [
    "- More than 72% of the employees are at level 1 and 2\n",
    "- Is this a feature effecting attrition?"
   ]
  },
  {
   "cell_type": "markdown",
   "id": "f81a75bf",
   "metadata": {},
   "source": [
    "#### Job Satisfaction"
   ]
  },
  {
   "cell_type": "code",
   "execution_count": 19,
   "id": "bf7d3642",
   "metadata": {},
   "outputs": [
    {
     "data": {
      "text/plain": [
       "4    31.224490\n",
       "3    30.068027\n",
       "1    19.659864\n",
       "2    19.047619\n",
       "Name: JobSatisfaction, dtype: float64"
      ]
     },
     "execution_count": 19,
     "metadata": {},
     "output_type": "execute_result"
    }
   ],
   "source": [
    "emp.JobSatisfaction.value_counts()/n *100"
   ]
  },
  {
   "cell_type": "markdown",
   "id": "ac4153c7",
   "metadata": {},
   "source": [
    "- Around 60% of the employees have rated job satisfaction 3 or higher\n",
    "- Are the rest of employees(40%) have high probability of leaving the job?\n",
    "- If yes why is this happening\n",
    "- Is environment satisfaction and job satisfaction related in any way?\n",
    "- Is job Satisfaction and environment satisfaction effecting the attrition rate?"
   ]
  },
  {
   "cell_type": "markdown",
   "id": "6f081491",
   "metadata": {},
   "source": [
    "#### Monthly Income"
   ]
  },
  {
   "cell_type": "code",
   "execution_count": 20,
   "id": "6f8463bc",
   "metadata": {},
   "outputs": [
    {
     "data": {
      "text/plain": [
       "count     1470.000000\n",
       "mean      6502.931293\n",
       "std       4707.956783\n",
       "min       1009.000000\n",
       "25%       2911.000000\n",
       "50%       4919.000000\n",
       "75%       8379.000000\n",
       "max      19999.000000\n",
       "Name: MonthlyIncome, dtype: float64"
      ]
     },
     "execution_count": 20,
     "metadata": {},
     "output_type": "execute_result"
    }
   ],
   "source": [
    "emp.MonthlyIncome.describe()"
   ]
  },
  {
   "cell_type": "code",
   "execution_count": 21,
   "id": "f3bd56c6",
   "metadata": {},
   "outputs": [
    {
     "data": {
      "image/png": "[encoded data removed]",
      "text/plain": [
       "<Figure size 432x288 with 1 Axes>"
      ]
     },
     "metadata": {
      "needs_background": "light"
     },
     "output_type": "display_data"
    }
   ],
   "source": [
    "plt.hist(emp['MonthlyIncome'], bins=10)\n",
    "plt.xlabel('Monthly Income')\n",
    "plt.ylabel('Number of employees');"
   ]
  },
  {
   "cell_type": "markdown",
   "id": "d4e1701b",
   "metadata": {},
   "source": [
    "- Monthly Income(1000-20000)\n",
    "- Rightly skewed data so there is a possibilities of outliers \n",
    "- only 25% of employees have monthly income more than 8300\n",
    "- Is monthly income and age of employee effecting attrition rate?\n",
    "- Around 25% of employees have monthly income less than 2900\n",
    "- is less monthly income effecting the attrition rate?\n",
    "- why is the spread so high(boxplot)?"
   ]
  },
  {
   "cell_type": "code",
   "execution_count": 22,
   "id": "f5752999",
   "metadata": {},
   "outputs": [
    {
     "data": {
      "text/plain": [
       "<AxesSubplot:>"
      ]
     },
     "execution_count": 22,
     "metadata": {},
     "output_type": "execute_result"
    },
    {
     "data": {
      "image/png": "[encoded data removed]",
      "text/plain": [
       "<Figure size 432x288 with 1 Axes>"
      ]
     },
     "metadata": {
      "needs_background": "light"
     },
     "output_type": "display_data"
    }
   ],
   "source": [
    "emp.boxplot('MonthlyIncome',grid = False, color='black')"
   ]
  },
  {
   "cell_type": "markdown",
   "id": "77611efd",
   "metadata": {},
   "source": [
    "#### Total Working Years (Continuous) "
   ]
  },
  {
   "cell_type": "code",
   "execution_count": 23,
   "id": "416b074c",
   "metadata": {},
   "outputs": [
    {
     "data": {
      "image/png": "[encoded data removed]",
      "text/plain": [
       "<Figure size 432x288 with 1 Axes>"
      ]
     },
     "metadata": {
      "needs_background": "light"
     },
     "output_type": "display_data"
    }
   ],
   "source": [
    "plt.hist(emp['TotalWorkingYears'], bins=10)\n",
    "plt.xlabel('Total Working Years')\n",
    "plt.ylabel('Number of employees');"
   ]
  },
  {
   "cell_type": "code",
   "execution_count": 24,
   "id": "3fa82844",
   "metadata": {},
   "outputs": [
    {
     "data": {
      "image/png": "[encoded data removed]",
      "text/plain": [
       "<Figure size 432x288 with 1 Axes>"
      ]
     },
     "metadata": {
      "needs_background": "light"
     },
     "output_type": "display_data"
    }
   ],
   "source": [
    "plt.boxplot(emp.TotalWorkingYears);"
   ]
  },
  {
   "cell_type": "code",
   "execution_count": 25,
   "id": "bc7940aa",
   "metadata": {},
   "outputs": [
    {
     "data": {
      "text/plain": [
       "count    1470.000000\n",
       "mean       11.279592\n",
       "std         7.780782\n",
       "min         0.000000\n",
       "25%         6.000000\n",
       "50%        10.000000\n",
       "75%        15.000000\n",
       "max        40.000000\n",
       "Name: TotalWorkingYears, dtype: float64"
      ]
     },
     "execution_count": 25,
     "metadata": {},
     "output_type": "execute_result"
    }
   ],
   "source": [
    "emp.TotalWorkingYears.describe()"
   ]
  },
  {
   "cell_type": "markdown",
   "id": "b1ce5173",
   "metadata": {},
   "source": [
    "- In the company range of total working experience of employees is between 0-40\n",
    "- Only 25% of employees have experience more than 15 years (why?, Are the experienced employees leaving the company)"
   ]
  },
  {
   "cell_type": "markdown",
   "id": "33dffa87",
   "metadata": {},
   "source": [
    "#### Work life Balance"
   ]
  },
  {
   "cell_type": "code",
   "execution_count": 26,
   "id": "2b32eb01",
   "metadata": {},
   "outputs": [
    {
     "data": {
      "text/plain": [
       "3    0.607483\n",
       "2    0.234014\n",
       "4    0.104082\n",
       "1    0.054422\n",
       "Name: WorkLifeBalance, dtype: float64"
      ]
     },
     "execution_count": 26,
     "metadata": {},
     "output_type": "execute_result"
    }
   ],
   "source": [
    "emp.WorkLifeBalance.value_counts()/n"
   ]
  },
  {
   "cell_type": "markdown",
   "id": "90b6e542",
   "metadata": {},
   "source": [
    "- In the company around 70 percent of the employees have rated 3 and 4\n",
    "- In the company aprox 30 percent of the employees have rated 1 and 2, are these employees not happy with the work life balance?\n",
    "- Is work life balance, job satisfaction and distance from home related?\n",
    "- Is work life balance effecting the attrition rate?"
   ]
  },
  {
   "cell_type": "markdown",
   "id": "814bd5c2",
   "metadata": {},
   "source": [
    "#### Years At Company"
   ]
  },
  {
   "cell_type": "code",
   "execution_count": 27,
   "id": "353c9be6",
   "metadata": {},
   "outputs": [
    {
     "data": {
      "image/png": "[encoded data removed]",
      "text/plain": [
       "<Figure size 432x288 with 1 Axes>"
      ]
     },
     "metadata": {
      "needs_background": "light"
     },
     "output_type": "display_data"
    }
   ],
   "source": [
    "plt.hist(emp['YearsAtCompany'], bins=5)\n",
    "plt.xlabel('Years At Company')\n",
    "plt.ylabel('Number of employees');"
   ]
  },
  {
   "cell_type": "code",
   "execution_count": 28,
   "id": "63977a80",
   "metadata": {},
   "outputs": [
    {
     "data": {
      "text/plain": [
       "count    1470.000000\n",
       "mean        7.008163\n",
       "std         6.126525\n",
       "min         0.000000\n",
       "25%         3.000000\n",
       "50%         5.000000\n",
       "75%         9.000000\n",
       "max        40.000000\n",
       "Name: YearsAtCompany, dtype: float64"
      ]
     },
     "execution_count": 28,
     "metadata": {},
     "output_type": "execute_result"
    }
   ],
   "source": [
    "emp.YearsAtCompany.describe()"
   ]
  },
  {
   "cell_type": "markdown",
   "id": "b31bb680",
   "metadata": {},
   "source": [
    "- In the company only 25% of employees have been working more than 9 years\n",
    "- Years At Company(0-40)"
   ]
  },
  {
   "cell_type": "markdown",
   "id": "10d95f34",
   "metadata": {},
   "source": [
    "#### Years In Current Role"
   ]
  },
  {
   "cell_type": "code",
   "execution_count": 29,
   "id": "719191b5",
   "metadata": {},
   "outputs": [
    {
     "data": {
      "image/png": "[encoded data removed]",
      "text/plain": [
       "<Figure size 432x288 with 1 Axes>"
      ]
     },
     "metadata": {
      "needs_background": "light"
     },
     "output_type": "display_data"
    }
   ],
   "source": [
    "plt.hist(emp['YearsInCurrentRole'], bins=5)\n",
    "plt.xlabel('Years in Current Role')\n",
    "plt.ylabel('Number of employees');"
   ]
  },
  {
   "cell_type": "markdown",
   "id": "85fb1430",
   "metadata": {},
   "source": [
    "#### Years since last promotion"
   ]
  },
  {
   "cell_type": "code",
   "execution_count": 30,
   "id": "96b0b4a2",
   "metadata": {},
   "outputs": [
    {
     "data": {
      "image/png": "[encoded data removed]",
      "text/plain": [
       "<Figure size 432x288 with 1 Axes>"
      ]
     },
     "metadata": {
      "needs_background": "light"
     },
     "output_type": "display_data"
    }
   ],
   "source": [
    "plt.hist(emp['YearsSinceLastPromotion'], bins=5)\n",
    "plt.xlabel('Years since last promotion')\n",
    "plt.ylabel('Number of employees');"
   ]
  },
  {
   "cell_type": "markdown",
   "id": "af3e65a0",
   "metadata": {},
   "source": [
    "#### Years with Current Manager"
   ]
  },
  {
   "cell_type": "code",
   "execution_count": 31,
   "id": "b37cc937",
   "metadata": {},
   "outputs": [
    {
     "data": {
      "image/png": "[encoded data removed]",
      "text/plain": [
       "<Figure size 432x288 with 1 Axes>"
      ]
     },
     "metadata": {
      "needs_background": "light"
     },
     "output_type": "display_data"
    }
   ],
   "source": [
    "plt.hist(emp['YearsWithCurrManager'], bins=5)\n",
    "plt.xlabel('Years with Current Manager')\n",
    "plt.ylabel('Number of employees');"
   ]
  },
  {
   "cell_type": "markdown",
   "id": "a7a993d4",
   "metadata": {},
   "source": [
    "- Does total working exp and years with current manager have any relation?"
   ]
  },
  {
   "cell_type": "markdown",
   "id": "e0f469e9",
   "metadata": {},
   "source": [
    "#### Distance From Home"
   ]
  },
  {
   "cell_type": "code",
   "execution_count": 32,
   "id": "2b9323b1",
   "metadata": {},
   "outputs": [
    {
     "data": {
      "text/plain": [
       "count    1470.000000\n",
       "mean        9.192517\n",
       "std         8.106864\n",
       "min         1.000000\n",
       "25%         2.000000\n",
       "50%         7.000000\n",
       "75%        14.000000\n",
       "max        29.000000\n",
       "Name: DistanceFromHome, dtype: float64"
      ]
     },
     "execution_count": 32,
     "metadata": {},
     "output_type": "execute_result"
    }
   ],
   "source": [
    "emp['DistanceFromHome'].describe()"
   ]
  },
  {
   "cell_type": "markdown",
   "id": "ce1f2de5",
   "metadata": {},
   "source": [
    "#### Gender"
   ]
  },
  {
   "cell_type": "code",
   "execution_count": 33,
   "id": "906e5f29",
   "metadata": {},
   "outputs": [
    {
     "data": {
      "text/html": [
       "<div>\n",
       "<style scoped>\n",
       "    .dataframe tbody tr th:only-of-type {\n",
       "        vertical-align: middle;\n",
       "    }\n",
       "\n",
       "    .dataframe tbody tr th {\n",
       "        vertical-align: top;\n",
       "    }\n",
       "\n",
       "    .dataframe thead th {\n",
       "        text-align: right;\n",
       "    }\n",
       "</style>\n",
       "<table border=\"1\" class=\"dataframe\">\n",
       "  <thead>\n",
       "    <tr style=\"text-align: right;\">\n",
       "      <th>col_0</th>\n",
       "      <th>Frequency</th>\n",
       "    </tr>\n",
       "    <tr>\n",
       "      <th>Gender</th>\n",
       "      <th></th>\n",
       "    </tr>\n",
       "  </thead>\n",
       "  <tbody>\n",
       "    <tr>\n",
       "      <th>Female</th>\n",
       "      <td>40.0</td>\n",
       "    </tr>\n",
       "    <tr>\n",
       "      <th>Male</th>\n",
       "      <td>60.0</td>\n",
       "    </tr>\n",
       "  </tbody>\n",
       "</table>\n",
       "</div>"
      ],
      "text/plain": [
       "col_0   Frequency\n",
       "Gender           \n",
       "Female       40.0\n",
       "Male         60.0"
      ]
     },
     "execution_count": 33,
     "metadata": {},
     "output_type": "execute_result"
    }
   ],
   "source": [
    "pd.crosstab(emp.Gender, columns='Frequency')/n *100"
   ]
  },
  {
   "cell_type": "markdown",
   "id": "72a5769c",
   "metadata": {},
   "source": [
    "- In the company more employees travel rarely"
   ]
  },
  {
   "cell_type": "markdown",
   "id": "f9abd573",
   "metadata": {},
   "source": [
    "#### EducationField"
   ]
  },
  {
   "cell_type": "code",
   "execution_count": 34,
   "id": "e4db62b0",
   "metadata": {},
   "outputs": [
    {
     "data": {
      "text/html": [
       "<div>\n",
       "<style scoped>\n",
       "    .dataframe tbody tr th:only-of-type {\n",
       "        vertical-align: middle;\n",
       "    }\n",
       "\n",
       "    .dataframe tbody tr th {\n",
       "        vertical-align: top;\n",
       "    }\n",
       "\n",
       "    .dataframe thead th {\n",
       "        text-align: right;\n",
       "    }\n",
       "</style>\n",
       "<table border=\"1\" class=\"dataframe\">\n",
       "  <thead>\n",
       "    <tr style=\"text-align: right;\">\n",
       "      <th>col_0</th>\n",
       "      <th>Frequency</th>\n",
       "    </tr>\n",
       "    <tr>\n",
       "      <th>EducationField</th>\n",
       "      <th></th>\n",
       "    </tr>\n",
       "  </thead>\n",
       "  <tbody>\n",
       "    <tr>\n",
       "      <th>Human Resources</th>\n",
       "      <td>1.836735</td>\n",
       "    </tr>\n",
       "    <tr>\n",
       "      <th>Life Sciences</th>\n",
       "      <td>41.224490</td>\n",
       "    </tr>\n",
       "    <tr>\n",
       "      <th>Marketing</th>\n",
       "      <td>10.816327</td>\n",
       "    </tr>\n",
       "    <tr>\n",
       "      <th>Medical</th>\n",
       "      <td>31.564626</td>\n",
       "    </tr>\n",
       "    <tr>\n",
       "      <th>Other</th>\n",
       "      <td>5.578231</td>\n",
       "    </tr>\n",
       "    <tr>\n",
       "      <th>Technical Degree</th>\n",
       "      <td>8.979592</td>\n",
       "    </tr>\n",
       "  </tbody>\n",
       "</table>\n",
       "</div>"
      ],
      "text/plain": [
       "col_0             Frequency\n",
       "EducationField             \n",
       "Human Resources    1.836735\n",
       "Life Sciences     41.224490\n",
       "Marketing         10.816327\n",
       "Medical           31.564626\n",
       "Other              5.578231\n",
       "Technical Degree   8.979592"
      ]
     },
     "execution_count": 34,
     "metadata": {},
     "output_type": "execute_result"
    }
   ],
   "source": [
    "pd.crosstab(emp.EducationField, columns='Frequency')/n *100"
   ]
  },
  {
   "cell_type": "markdown",
   "id": "abcbd441",
   "metadata": {},
   "source": [
    "#### Marital Status"
   ]
  },
  {
   "cell_type": "code",
   "execution_count": 35,
   "id": "eca1eef1",
   "metadata": {},
   "outputs": [
    {
     "data": {
      "text/html": [
       "<div>\n",
       "<style scoped>\n",
       "    .dataframe tbody tr th:only-of-type {\n",
       "        vertical-align: middle;\n",
       "    }\n",
       "\n",
       "    .dataframe tbody tr th {\n",
       "        vertical-align: top;\n",
       "    }\n",
       "\n",
       "    .dataframe thead th {\n",
       "        text-align: right;\n",
       "    }\n",
       "</style>\n",
       "<table border=\"1\" class=\"dataframe\">\n",
       "  <thead>\n",
       "    <tr style=\"text-align: right;\">\n",
       "      <th>col_0</th>\n",
       "      <th>Frequency</th>\n",
       "    </tr>\n",
       "    <tr>\n",
       "      <th>MaritalStatus</th>\n",
       "      <th></th>\n",
       "    </tr>\n",
       "  </thead>\n",
       "  <tbody>\n",
       "    <tr>\n",
       "      <th>Divorced</th>\n",
       "      <td>22.244898</td>\n",
       "    </tr>\n",
       "    <tr>\n",
       "      <th>Married</th>\n",
       "      <td>45.782313</td>\n",
       "    </tr>\n",
       "    <tr>\n",
       "      <th>Single</th>\n",
       "      <td>31.972789</td>\n",
       "    </tr>\n",
       "  </tbody>\n",
       "</table>\n",
       "</div>"
      ],
      "text/plain": [
       "col_0          Frequency\n",
       "MaritalStatus           \n",
       "Divorced       22.244898\n",
       "Married        45.782313\n",
       "Single         31.972789"
      ]
     },
     "execution_count": 35,
     "metadata": {},
     "output_type": "execute_result"
    }
   ],
   "source": [
    "pd.crosstab(emp.MaritalStatus, columns='Frequency')/n *100"
   ]
  },
  {
   "cell_type": "markdown",
   "id": "fc648725",
   "metadata": {},
   "source": [
    "#### OverTime"
   ]
  },
  {
   "cell_type": "code",
   "execution_count": 36,
   "id": "556ef77f",
   "metadata": {},
   "outputs": [
    {
     "data": {
      "text/html": [
       "<div>\n",
       "<style scoped>\n",
       "    .dataframe tbody tr th:only-of-type {\n",
       "        vertical-align: middle;\n",
       "    }\n",
       "\n",
       "    .dataframe tbody tr th {\n",
       "        vertical-align: top;\n",
       "    }\n",
       "\n",
       "    .dataframe thead th {\n",
       "        text-align: right;\n",
       "    }\n",
       "</style>\n",
       "<table border=\"1\" class=\"dataframe\">\n",
       "  <thead>\n",
       "    <tr style=\"text-align: right;\">\n",
       "      <th>col_0</th>\n",
       "      <th>Frequency</th>\n",
       "    </tr>\n",
       "    <tr>\n",
       "      <th>OverTime</th>\n",
       "      <th></th>\n",
       "    </tr>\n",
       "  </thead>\n",
       "  <tbody>\n",
       "    <tr>\n",
       "      <th>No</th>\n",
       "      <td>71.70068</td>\n",
       "    </tr>\n",
       "    <tr>\n",
       "      <th>Yes</th>\n",
       "      <td>28.29932</td>\n",
       "    </tr>\n",
       "  </tbody>\n",
       "</table>\n",
       "</div>"
      ],
      "text/plain": [
       "col_0     Frequency\n",
       "OverTime           \n",
       "No         71.70068\n",
       "Yes        28.29932"
      ]
     },
     "execution_count": 36,
     "metadata": {},
     "output_type": "execute_result"
    }
   ],
   "source": [
    "pd.crosstab(emp.OverTime, columns='Frequency')/n *100"
   ]
  },
  {
   "cell_type": "markdown",
   "id": "a78b8d21",
   "metadata": {},
   "source": [
    "#### Distance From Home"
   ]
  },
  {
   "cell_type": "code",
   "execution_count": 37,
   "id": "9757aaac",
   "metadata": {},
   "outputs": [
    {
     "data": {
      "text/plain": [
       "count    1470.000000\n",
       "mean        9.192517\n",
       "std         8.106864\n",
       "min         1.000000\n",
       "25%         2.000000\n",
       "50%         7.000000\n",
       "75%        14.000000\n",
       "max        29.000000\n",
       "Name: DistanceFromHome, dtype: float64"
      ]
     },
     "execution_count": 37,
     "metadata": {},
     "output_type": "execute_result"
    }
   ],
   "source": [
    "emp['DistanceFromHome'].describe()"
   ]
  },
  {
   "cell_type": "code",
   "execution_count": 38,
   "id": "262e6e6d",
   "metadata": {},
   "outputs": [
    {
     "data": {
      "text/plain": [
       "count    1233.000000\n",
       "mean        8.915653\n",
       "std         8.012633\n",
       "min         1.000000\n",
       "25%         2.000000\n",
       "50%         7.000000\n",
       "75%        13.000000\n",
       "max        29.000000\n",
       "Name: DistanceFromHome, dtype: float64"
      ]
     },
     "execution_count": 38,
     "metadata": {},
     "output_type": "execute_result"
    }
   ],
   "source": [
    "emp0['DistanceFromHome'].describe()"
   ]
  },
  {
   "cell_type": "code",
   "execution_count": 39,
   "id": "efea5c28",
   "metadata": {},
   "outputs": [
    {
     "data": {
      "text/plain": [
       "count    237.000000\n",
       "mean      10.632911\n",
       "std        8.452525\n",
       "min        1.000000\n",
       "25%        3.000000\n",
       "50%        9.000000\n",
       "75%       17.000000\n",
       "max       29.000000\n",
       "Name: DistanceFromHome, dtype: float64"
      ]
     },
     "execution_count": 39,
     "metadata": {},
     "output_type": "execute_result"
    }
   ],
   "source": [
    "emp1['DistanceFromHome'].describe()"
   ]
  },
  {
   "cell_type": "code",
   "execution_count": 40,
   "id": "16daccfb",
   "metadata": {},
   "outputs": [
    {
     "data": {
      "image/png": "[encoded data removed]",
      "text/plain": [
       "<Figure size 432x288 with 1 Axes>"
      ]
     },
     "metadata": {
      "needs_background": "light"
     },
     "output_type": "display_data"
    }
   ],
   "source": [
    "plt.hist(emp.DistanceFromHome, )\n",
    "plt.xlabel('Distance from Home')\n",
    "plt.ylabel('Number of employees');"
   ]
  },
  {
   "cell_type": "code",
   "execution_count": 41,
   "id": "f7e41f10",
   "metadata": {},
   "outputs": [
    {
     "data": {
      "text/plain": [
       "Department\n",
       "Human Resources            63\n",
       "Research & Development    961\n",
       "Sales                     446\n",
       "Name: Attrition, dtype: int64"
      ]
     },
     "execution_count": 41,
     "metadata": {},
     "output_type": "execute_result"
    }
   ],
   "source": [
    "emp.Attrition.groupby(emp.Department).count()"
   ]
  },
  {
   "cell_type": "code",
   "execution_count": 42,
   "id": "77225701",
   "metadata": {},
   "outputs": [
    {
     "data": {
      "image/png": "[encoded data removed]",
      "text/plain": [
       "<Figure size 432x288 with 1 Axes>"
      ]
     },
     "metadata": {
      "needs_background": "light"
     },
     "output_type": "display_data"
    }
   ],
   "source": [
    "plt.hist(emp0.DistanceFromHome );"
   ]
  },
  {
   "cell_type": "markdown",
   "id": "473d0216",
   "metadata": {},
   "source": [
    "## Bivariate Analysis"
   ]
  },
  {
   "cell_type": "code",
   "execution_count": 88,
   "id": "eab7dab1",
   "metadata": {},
   "outputs": [
    {
     "name": "stdout",
     "output_type": "stream",
     "text": [
      "Frequency Table of  BusinessTravel\n"
     ]
    },
    {
     "data": {
      "text/html": [
       "<div>\n",
       "<style scoped>\n",
       "    .dataframe tbody tr th:only-of-type {\n",
       "        vertical-align: middle;\n",
       "    }\n",
       "\n",
       "    .dataframe tbody tr th {\n",
       "        vertical-align: top;\n",
       "    }\n",
       "\n",
       "    .dataframe thead th {\n",
       "        text-align: right;\n",
       "    }\n",
       "</style>\n",
       "<table border=\"1\" class=\"dataframe\">\n",
       "  <thead>\n",
       "    <tr style=\"text-align: right;\">\n",
       "      <th>BusinessTravel</th>\n",
       "      <th>Non-Travel</th>\n",
       "      <th>Travel_Frequently</th>\n",
       "      <th>Travel_Rarely</th>\n",
       "    </tr>\n",
       "    <tr>\n",
       "      <th>Attrition</th>\n",
       "      <th></th>\n",
       "      <th></th>\n",
       "      <th></th>\n",
       "    </tr>\n",
       "  </thead>\n",
       "  <tbody>\n",
       "    <tr>\n",
       "      <th>0</th>\n",
       "      <td>138</td>\n",
       "      <td>208</td>\n",
       "      <td>887</td>\n",
       "    </tr>\n",
       "    <tr>\n",
       "      <th>1</th>\n",
       "      <td>12</td>\n",
       "      <td>69</td>\n",
       "      <td>156</td>\n",
       "    </tr>\n",
       "  </tbody>\n",
       "</table>\n",
       "</div>"
      ],
      "text/plain": [
       "BusinessTravel  Non-Travel  Travel_Frequently  Travel_Rarely\n",
       "Attrition                                                   \n",
       "0                      138                208            887\n",
       "1                       12                 69            156"
      ]
     },
     "metadata": {},
     "output_type": "display_data"
    },
    {
     "name": "stdout",
     "output_type": "stream",
     "text": [
      "Joint Prob of BusinessTravel\n"
     ]
    },
    {
     "data": {
      "text/html": [
       "<div>\n",
       "<style scoped>\n",
       "    .dataframe tbody tr th:only-of-type {\n",
       "        vertical-align: middle;\n",
       "    }\n",
       "\n",
       "    .dataframe tbody tr th {\n",
       "        vertical-align: top;\n",
       "    }\n",
       "\n",
       "    .dataframe thead th {\n",
       "        text-align: right;\n",
       "    }\n",
       "</style>\n",
       "<table border=\"1\" class=\"dataframe\">\n",
       "  <thead>\n",
       "    <tr style=\"text-align: right;\">\n",
       "      <th>BusinessTravel</th>\n",
       "      <th>Non-Travel</th>\n",
       "      <th>Travel_Frequently</th>\n",
       "      <th>Travel_Rarely</th>\n",
       "    </tr>\n",
       "    <tr>\n",
       "      <th>Attrition</th>\n",
       "      <th></th>\n",
       "      <th></th>\n",
       "      <th></th>\n",
       "    </tr>\n",
       "  </thead>\n",
       "  <tbody>\n",
       "    <tr>\n",
       "      <th>0</th>\n",
       "      <td>9.39</td>\n",
       "      <td>14.15</td>\n",
       "      <td>60.34</td>\n",
       "    </tr>\n",
       "    <tr>\n",
       "      <th>1</th>\n",
       "      <td>0.82</td>\n",
       "      <td>4.69</td>\n",
       "      <td>10.61</td>\n",
       "    </tr>\n",
       "  </tbody>\n",
       "</table>\n",
       "</div>"
      ],
      "text/plain": [
       "BusinessTravel  Non-Travel  Travel_Frequently  Travel_Rarely\n",
       "Attrition                                                   \n",
       "0                     9.39              14.15          60.34\n",
       "1                     0.82               4.69          10.61"
      ]
     },
     "metadata": {},
     "output_type": "display_data"
    },
    {
     "name": "stdout",
     "output_type": "stream",
     "text": [
      "Condition on rows of BusinessTravel\n"
     ]
    },
    {
     "data": {
      "text/html": [
       "<div>\n",
       "<style scoped>\n",
       "    .dataframe tbody tr th:only-of-type {\n",
       "        vertical-align: middle;\n",
       "    }\n",
       "\n",
       "    .dataframe tbody tr th {\n",
       "        vertical-align: top;\n",
       "    }\n",
       "\n",
       "    .dataframe thead th {\n",
       "        text-align: right;\n",
       "    }\n",
       "</style>\n",
       "<table border=\"1\" class=\"dataframe\">\n",
       "  <thead>\n",
       "    <tr style=\"text-align: right;\">\n",
       "      <th>BusinessTravel</th>\n",
       "      <th>Non-Travel</th>\n",
       "      <th>Travel_Frequently</th>\n",
       "      <th>Travel_Rarely</th>\n",
       "    </tr>\n",
       "    <tr>\n",
       "      <th>Attrition</th>\n",
       "      <th></th>\n",
       "      <th></th>\n",
       "      <th></th>\n",
       "    </tr>\n",
       "  </thead>\n",
       "  <tbody>\n",
       "    <tr>\n",
       "      <th>0</th>\n",
       "      <td>11.19</td>\n",
       "      <td>16.87</td>\n",
       "      <td>71.94</td>\n",
       "    </tr>\n",
       "    <tr>\n",
       "      <th>1</th>\n",
       "      <td>5.06</td>\n",
       "      <td>29.11</td>\n",
       "      <td>65.82</td>\n",
       "    </tr>\n",
       "  </tbody>\n",
       "</table>\n",
       "</div>"
      ],
      "text/plain": [
       "BusinessTravel  Non-Travel  Travel_Frequently  Travel_Rarely\n",
       "Attrition                                                   \n",
       "0                    11.19              16.87          71.94\n",
       "1                     5.06              29.11          65.82"
      ]
     },
     "metadata": {},
     "output_type": "display_data"
    },
    {
     "name": "stdout",
     "output_type": "stream",
     "text": [
      "Condition on columns of BusinessTravel\n"
     ]
    },
    {
     "data": {
      "text/html": [
       "<div>\n",
       "<style scoped>\n",
       "    .dataframe tbody tr th:only-of-type {\n",
       "        vertical-align: middle;\n",
       "    }\n",
       "\n",
       "    .dataframe tbody tr th {\n",
       "        vertical-align: top;\n",
       "    }\n",
       "\n",
       "    .dataframe thead th {\n",
       "        text-align: right;\n",
       "    }\n",
       "</style>\n",
       "<table border=\"1\" class=\"dataframe\">\n",
       "  <thead>\n",
       "    <tr style=\"text-align: right;\">\n",
       "      <th>BusinessTravel</th>\n",
       "      <th>Non-Travel</th>\n",
       "      <th>Travel_Frequently</th>\n",
       "      <th>Travel_Rarely</th>\n",
       "    </tr>\n",
       "    <tr>\n",
       "      <th>Attrition</th>\n",
       "      <th></th>\n",
       "      <th></th>\n",
       "      <th></th>\n",
       "    </tr>\n",
       "  </thead>\n",
       "  <tbody>\n",
       "    <tr>\n",
       "      <th>0</th>\n",
       "      <td>92.0</td>\n",
       "      <td>75.09</td>\n",
       "      <td>85.04</td>\n",
       "    </tr>\n",
       "    <tr>\n",
       "      <th>1</th>\n",
       "      <td>8.0</td>\n",
       "      <td>24.91</td>\n",
       "      <td>14.96</td>\n",
       "    </tr>\n",
       "  </tbody>\n",
       "</table>\n",
       "</div>"
      ],
      "text/plain": [
       "BusinessTravel  Non-Travel  Travel_Frequently  Travel_Rarely\n",
       "Attrition                                                   \n",
       "0                     92.0              75.09          85.04\n",
       "1                      8.0              24.91          14.96"
      ]
     },
     "metadata": {},
     "output_type": "display_data"
    },
    {
     "name": "stdout",
     "output_type": "stream",
     "text": [
      "-----------------------------------------------------------------------------------------------------------------\n",
      "\n",
      "Frequency Table of  Department\n"
     ]
    },
    {
     "data": {
      "text/html": [
       "<div>\n",
       "<style scoped>\n",
       "    .dataframe tbody tr th:only-of-type {\n",
       "        vertical-align: middle;\n",
       "    }\n",
       "\n",
       "    .dataframe tbody tr th {\n",
       "        vertical-align: top;\n",
       "    }\n",
       "\n",
       "    .dataframe thead th {\n",
       "        text-align: right;\n",
       "    }\n",
       "</style>\n",
       "<table border=\"1\" class=\"dataframe\">\n",
       "  <thead>\n",
       "    <tr style=\"text-align: right;\">\n",
       "      <th>Department</th>\n",
       "      <th>Human Resources</th>\n",
       "      <th>Research &amp; Development</th>\n",
       "      <th>Sales</th>\n",
       "    </tr>\n",
       "    <tr>\n",
       "      <th>Attrition</th>\n",
       "      <th></th>\n",
       "      <th></th>\n",
       "      <th></th>\n",
       "    </tr>\n",
       "  </thead>\n",
       "  <tbody>\n",
       "    <tr>\n",
       "      <th>0</th>\n",
       "      <td>51</td>\n",
       "      <td>828</td>\n",
       "      <td>354</td>\n",
       "    </tr>\n",
       "    <tr>\n",
       "      <th>1</th>\n",
       "      <td>12</td>\n",
       "      <td>133</td>\n",
       "      <td>92</td>\n",
       "    </tr>\n",
       "  </tbody>\n",
       "</table>\n",
       "</div>"
      ],
      "text/plain": [
       "Department  Human Resources  Research & Development  Sales\n",
       "Attrition                                                 \n",
       "0                        51                     828    354\n",
       "1                        12                     133     92"
      ]
     },
     "metadata": {},
     "output_type": "display_data"
    },
    {
     "name": "stdout",
     "output_type": "stream",
     "text": [
      "Joint Prob of Department\n"
     ]
    },
    {
     "data": {
      "text/html": [
       "<div>\n",
       "<style scoped>\n",
       "    .dataframe tbody tr th:only-of-type {\n",
       "        vertical-align: middle;\n",
       "    }\n",
       "\n",
       "    .dataframe tbody tr th {\n",
       "        vertical-align: top;\n",
       "    }\n",
       "\n",
       "    .dataframe thead th {\n",
       "        text-align: right;\n",
       "    }\n",
       "</style>\n",
       "<table border=\"1\" class=\"dataframe\">\n",
       "  <thead>\n",
       "    <tr style=\"text-align: right;\">\n",
       "      <th>Department</th>\n",
       "      <th>Human Resources</th>\n",
       "      <th>Research &amp; Development</th>\n",
       "      <th>Sales</th>\n",
       "    </tr>\n",
       "    <tr>\n",
       "      <th>Attrition</th>\n",
       "      <th></th>\n",
       "      <th></th>\n",
       "      <th></th>\n",
       "    </tr>\n",
       "  </thead>\n",
       "  <tbody>\n",
       "    <tr>\n",
       "      <th>0</th>\n",
       "      <td>3.47</td>\n",
       "      <td>56.33</td>\n",
       "      <td>24.08</td>\n",
       "    </tr>\n",
       "    <tr>\n",
       "      <th>1</th>\n",
       "      <td>0.82</td>\n",
       "      <td>9.05</td>\n",
       "      <td>6.26</td>\n",
       "    </tr>\n",
       "  </tbody>\n",
       "</table>\n",
       "</div>"
      ],
      "text/plain": [
       "Department  Human Resources  Research & Development  Sales\n",
       "Attrition                                                 \n",
       "0                      3.47                   56.33  24.08\n",
       "1                      0.82                    9.05   6.26"
      ]
     },
     "metadata": {},
     "output_type": "display_data"
    },
    {
     "name": "stdout",
     "output_type": "stream",
     "text": [
      "Condition on rows of Department\n"
     ]
    },
    {
     "data": {
      "text/html": [
       "<div>\n",
       "<style scoped>\n",
       "    .dataframe tbody tr th:only-of-type {\n",
       "        vertical-align: middle;\n",
       "    }\n",
       "\n",
       "    .dataframe tbody tr th {\n",
       "        vertical-align: top;\n",
       "    }\n",
       "\n",
       "    .dataframe thead th {\n",
       "        text-align: right;\n",
       "    }\n",
       "</style>\n",
       "<table border=\"1\" class=\"dataframe\">\n",
       "  <thead>\n",
       "    <tr style=\"text-align: right;\">\n",
       "      <th>Department</th>\n",
       "      <th>Human Resources</th>\n",
       "      <th>Research &amp; Development</th>\n",
       "      <th>Sales</th>\n",
       "    </tr>\n",
       "    <tr>\n",
       "      <th>Attrition</th>\n",
       "      <th></th>\n",
       "      <th></th>\n",
       "      <th></th>\n",
       "    </tr>\n",
       "  </thead>\n",
       "  <tbody>\n",
       "    <tr>\n",
       "      <th>0</th>\n",
       "      <td>4.14</td>\n",
       "      <td>67.15</td>\n",
       "      <td>28.71</td>\n",
       "    </tr>\n",
       "    <tr>\n",
       "      <th>1</th>\n",
       "      <td>5.06</td>\n",
       "      <td>56.12</td>\n",
       "      <td>38.82</td>\n",
       "    </tr>\n",
       "  </tbody>\n",
       "</table>\n",
       "</div>"
      ],
      "text/plain": [
       "Department  Human Resources  Research & Development  Sales\n",
       "Attrition                                                 \n",
       "0                      4.14                   67.15  28.71\n",
       "1                      5.06                   56.12  38.82"
      ]
     },
     "metadata": {},
     "output_type": "display_data"
    },
    {
     "name": "stdout",
     "output_type": "stream",
     "text": [
      "Condition on columns of Department\n"
     ]
    },
    {
     "data": {
      "text/html": [
       "<div>\n",
       "<style scoped>\n",
       "    .dataframe tbody tr th:only-of-type {\n",
       "        vertical-align: middle;\n",
       "    }\n",
       "\n",
       "    .dataframe tbody tr th {\n",
       "        vertical-align: top;\n",
       "    }\n",
       "\n",
       "    .dataframe thead th {\n",
       "        text-align: right;\n",
       "    }\n",
       "</style>\n",
       "<table border=\"1\" class=\"dataframe\">\n",
       "  <thead>\n",
       "    <tr style=\"text-align: right;\">\n",
       "      <th>Department</th>\n",
       "      <th>Human Resources</th>\n",
       "      <th>Research &amp; Development</th>\n",
       "      <th>Sales</th>\n",
       "    </tr>\n",
       "    <tr>\n",
       "      <th>Attrition</th>\n",
       "      <th></th>\n",
       "      <th></th>\n",
       "      <th></th>\n",
       "    </tr>\n",
       "  </thead>\n",
       "  <tbody>\n",
       "    <tr>\n",
       "      <th>0</th>\n",
       "      <td>80.95</td>\n",
       "      <td>86.16</td>\n",
       "      <td>79.37</td>\n",
       "    </tr>\n",
       "    <tr>\n",
       "      <th>1</th>\n",
       "      <td>19.05</td>\n",
       "      <td>13.84</td>\n",
       "      <td>20.63</td>\n",
       "    </tr>\n",
       "  </tbody>\n",
       "</table>\n",
       "</div>"
      ],
      "text/plain": [
       "Department  Human Resources  Research & Development  Sales\n",
       "Attrition                                                 \n",
       "0                     80.95                   86.16  79.37\n",
       "1                     19.05                   13.84  20.63"
      ]
     },
     "metadata": {},
     "output_type": "display_data"
    },
    {
     "name": "stdout",
     "output_type": "stream",
     "text": [
      "-----------------------------------------------------------------------------------------------------------------\n",
      "\n",
      "Frequency Table of  EducationField\n"
     ]
    },
    {
     "data": {
      "text/html": [
       "<div>\n",
       "<style scoped>\n",
       "    .dataframe tbody tr th:only-of-type {\n",
       "        vertical-align: middle;\n",
       "    }\n",
       "\n",
       "    .dataframe tbody tr th {\n",
       "        vertical-align: top;\n",
       "    }\n",
       "\n",
       "    .dataframe thead th {\n",
       "        text-align: right;\n",
       "    }\n",
       "</style>\n",
       "<table border=\"1\" class=\"dataframe\">\n",
       "  <thead>\n",
       "    <tr style=\"text-align: right;\">\n",
       "      <th>EducationField</th>\n",
       "      <th>Human Resources</th>\n",
       "      <th>Life Sciences</th>\n",
       "      <th>Marketing</th>\n",
       "      <th>Medical</th>\n",
       "      <th>Other</th>\n",
       "      <th>Technical Degree</th>\n",
       "    </tr>\n",
       "    <tr>\n",
       "      <th>Attrition</th>\n",
       "      <th></th>\n",
       "      <th></th>\n",
       "      <th></th>\n",
       "      <th></th>\n",
       "      <th></th>\n",
       "      <th></th>\n",
       "    </tr>\n",
       "  </thead>\n",
       "  <tbody>\n",
       "    <tr>\n",
       "      <th>0</th>\n",
       "      <td>20</td>\n",
       "      <td>517</td>\n",
       "      <td>124</td>\n",
       "      <td>401</td>\n",
       "      <td>71</td>\n",
       "      <td>100</td>\n",
       "    </tr>\n",
       "    <tr>\n",
       "      <th>1</th>\n",
       "      <td>7</td>\n",
       "      <td>89</td>\n",
       "      <td>35</td>\n",
       "      <td>63</td>\n",
       "      <td>11</td>\n",
       "      <td>32</td>\n",
       "    </tr>\n",
       "  </tbody>\n",
       "</table>\n",
       "</div>"
      ],
      "text/plain": [
       "EducationField  Human Resources  Life Sciences  Marketing  Medical  Other  \\\n",
       "Attrition                                                                   \n",
       "0                            20            517        124      401     71   \n",
       "1                             7             89         35       63     11   \n",
       "\n",
       "EducationField  Technical Degree  \n",
       "Attrition                         \n",
       "0                            100  \n",
       "1                             32  "
      ]
     },
     "metadata": {},
     "output_type": "display_data"
    },
    {
     "name": "stdout",
     "output_type": "stream",
     "text": [
      "Joint Prob of EducationField\n"
     ]
    },
    {
     "data": {
      "text/html": [
       "<div>\n",
       "<style scoped>\n",
       "    .dataframe tbody tr th:only-of-type {\n",
       "        vertical-align: middle;\n",
       "    }\n",
       "\n",
       "    .dataframe tbody tr th {\n",
       "        vertical-align: top;\n",
       "    }\n",
       "\n",
       "    .dataframe thead th {\n",
       "        text-align: right;\n",
       "    }\n",
       "</style>\n",
       "<table border=\"1\" class=\"dataframe\">\n",
       "  <thead>\n",
       "    <tr style=\"text-align: right;\">\n",
       "      <th>EducationField</th>\n",
       "      <th>Human Resources</th>\n",
       "      <th>Life Sciences</th>\n",
       "      <th>Marketing</th>\n",
       "      <th>Medical</th>\n",
       "      <th>Other</th>\n",
       "      <th>Technical Degree</th>\n",
       "    </tr>\n",
       "    <tr>\n",
       "      <th>Attrition</th>\n",
       "      <th></th>\n",
       "      <th></th>\n",
       "      <th></th>\n",
       "      <th></th>\n",
       "      <th></th>\n",
       "      <th></th>\n",
       "    </tr>\n",
       "  </thead>\n",
       "  <tbody>\n",
       "    <tr>\n",
       "      <th>0</th>\n",
       "      <td>1.36</td>\n",
       "      <td>35.17</td>\n",
       "      <td>8.44</td>\n",
       "      <td>27.28</td>\n",
       "      <td>4.83</td>\n",
       "      <td>6.80</td>\n",
       "    </tr>\n",
       "    <tr>\n",
       "      <th>1</th>\n",
       "      <td>0.48</td>\n",
       "      <td>6.05</td>\n",
       "      <td>2.38</td>\n",
       "      <td>4.29</td>\n",
       "      <td>0.75</td>\n",
       "      <td>2.18</td>\n",
       "    </tr>\n",
       "  </tbody>\n",
       "</table>\n",
       "</div>"
      ],
      "text/plain": [
       "EducationField  Human Resources  Life Sciences  Marketing  Medical  Other  \\\n",
       "Attrition                                                                   \n",
       "0                          1.36          35.17       8.44    27.28   4.83   \n",
       "1                          0.48           6.05       2.38     4.29   0.75   \n",
       "\n",
       "EducationField  Technical Degree  \n",
       "Attrition                         \n",
       "0                           6.80  \n",
       "1                           2.18  "
      ]
     },
     "metadata": {},
     "output_type": "display_data"
    },
    {
     "name": "stdout",
     "output_type": "stream",
     "text": [
      "Condition on rows of EducationField\n"
     ]
    },
    {
     "data": {
      "text/html": [
       "<div>\n",
       "<style scoped>\n",
       "    .dataframe tbody tr th:only-of-type {\n",
       "        vertical-align: middle;\n",
       "    }\n",
       "\n",
       "    .dataframe tbody tr th {\n",
       "        vertical-align: top;\n",
       "    }\n",
       "\n",
       "    .dataframe thead th {\n",
       "        text-align: right;\n",
       "    }\n",
       "</style>\n",
       "<table border=\"1\" class=\"dataframe\">\n",
       "  <thead>\n",
       "    <tr style=\"text-align: right;\">\n",
       "      <th>EducationField</th>\n",
       "      <th>Human Resources</th>\n",
       "      <th>Life Sciences</th>\n",
       "      <th>Marketing</th>\n",
       "      <th>Medical</th>\n",
       "      <th>Other</th>\n",
       "      <th>Technical Degree</th>\n",
       "    </tr>\n",
       "    <tr>\n",
       "      <th>Attrition</th>\n",
       "      <th></th>\n",
       "      <th></th>\n",
       "      <th></th>\n",
       "      <th></th>\n",
       "      <th></th>\n",
       "      <th></th>\n",
       "    </tr>\n",
       "  </thead>\n",
       "  <tbody>\n",
       "    <tr>\n",
       "      <th>0</th>\n",
       "      <td>1.62</td>\n",
       "      <td>41.93</td>\n",
       "      <td>10.06</td>\n",
       "      <td>32.52</td>\n",
       "      <td>5.76</td>\n",
       "      <td>8.11</td>\n",
       "    </tr>\n",
       "    <tr>\n",
       "      <th>1</th>\n",
       "      <td>2.95</td>\n",
       "      <td>37.55</td>\n",
       "      <td>14.77</td>\n",
       "      <td>26.58</td>\n",
       "      <td>4.64</td>\n",
       "      <td>13.50</td>\n",
       "    </tr>\n",
       "  </tbody>\n",
       "</table>\n",
       "</div>"
      ],
      "text/plain": [
       "EducationField  Human Resources  Life Sciences  Marketing  Medical  Other  \\\n",
       "Attrition                                                                   \n",
       "0                          1.62          41.93      10.06    32.52   5.76   \n",
       "1                          2.95          37.55      14.77    26.58   4.64   \n",
       "\n",
       "EducationField  Technical Degree  \n",
       "Attrition                         \n",
       "0                           8.11  \n",
       "1                          13.50  "
      ]
     },
     "metadata": {},
     "output_type": "display_data"
    },
    {
     "name": "stdout",
     "output_type": "stream",
     "text": [
      "Condition on columns of EducationField\n"
     ]
    },
    {
     "data": {
      "text/html": [
       "<div>\n",
       "<style scoped>\n",
       "    .dataframe tbody tr th:only-of-type {\n",
       "        vertical-align: middle;\n",
       "    }\n",
       "\n",
       "    .dataframe tbody tr th {\n",
       "        vertical-align: top;\n",
       "    }\n",
       "\n",
       "    .dataframe thead th {\n",
       "        text-align: right;\n",
       "    }\n",
       "</style>\n",
       "<table border=\"1\" class=\"dataframe\">\n",
       "  <thead>\n",
       "    <tr style=\"text-align: right;\">\n",
       "      <th>EducationField</th>\n",
       "      <th>Human Resources</th>\n",
       "      <th>Life Sciences</th>\n",
       "      <th>Marketing</th>\n",
       "      <th>Medical</th>\n",
       "      <th>Other</th>\n",
       "      <th>Technical Degree</th>\n",
       "    </tr>\n",
       "    <tr>\n",
       "      <th>Attrition</th>\n",
       "      <th></th>\n",
       "      <th></th>\n",
       "      <th></th>\n",
       "      <th></th>\n",
       "      <th></th>\n",
       "      <th></th>\n",
       "    </tr>\n",
       "  </thead>\n",
       "  <tbody>\n",
       "    <tr>\n",
       "      <th>0</th>\n",
       "      <td>74.07</td>\n",
       "      <td>85.31</td>\n",
       "      <td>77.99</td>\n",
       "      <td>86.42</td>\n",
       "      <td>86.59</td>\n",
       "      <td>75.76</td>\n",
       "    </tr>\n",
       "    <tr>\n",
       "      <th>1</th>\n",
       "      <td>25.93</td>\n",
       "      <td>14.69</td>\n",
       "      <td>22.01</td>\n",
       "      <td>13.58</td>\n",
       "      <td>13.41</td>\n",
       "      <td>24.24</td>\n",
       "    </tr>\n",
       "  </tbody>\n",
       "</table>\n",
       "</div>"
      ],
      "text/plain": [
       "EducationField  Human Resources  Life Sciences  Marketing  Medical  Other  \\\n",
       "Attrition                                                                   \n",
       "0                         74.07          85.31      77.99    86.42  86.59   \n",
       "1                         25.93          14.69      22.01    13.58  13.41   \n",
       "\n",
       "EducationField  Technical Degree  \n",
       "Attrition                         \n",
       "0                          75.76  \n",
       "1                          24.24  "
      ]
     },
     "metadata": {},
     "output_type": "display_data"
    },
    {
     "name": "stdout",
     "output_type": "stream",
     "text": [
      "-----------------------------------------------------------------------------------------------------------------\n",
      "\n",
      "Frequency Table of  Gender\n"
     ]
    },
    {
     "data": {
      "text/html": [
       "<div>\n",
       "<style scoped>\n",
       "    .dataframe tbody tr th:only-of-type {\n",
       "        vertical-align: middle;\n",
       "    }\n",
       "\n",
       "    .dataframe tbody tr th {\n",
       "        vertical-align: top;\n",
       "    }\n",
       "\n",
       "    .dataframe thead th {\n",
       "        text-align: right;\n",
       "    }\n",
       "</style>\n",
       "<table border=\"1\" class=\"dataframe\">\n",
       "  <thead>\n",
       "    <tr style=\"text-align: right;\">\n",
       "      <th>Gender</th>\n",
       "      <th>Female</th>\n",
       "      <th>Male</th>\n",
       "    </tr>\n",
       "    <tr>\n",
       "      <th>Attrition</th>\n",
       "      <th></th>\n",
       "      <th></th>\n",
       "    </tr>\n",
       "  </thead>\n",
       "  <tbody>\n",
       "    <tr>\n",
       "      <th>0</th>\n",
       "      <td>501</td>\n",
       "      <td>732</td>\n",
       "    </tr>\n",
       "    <tr>\n",
       "      <th>1</th>\n",
       "      <td>87</td>\n",
       "      <td>150</td>\n",
       "    </tr>\n",
       "  </tbody>\n",
       "</table>\n",
       "</div>"
      ],
      "text/plain": [
       "Gender     Female  Male\n",
       "Attrition              \n",
       "0             501   732\n",
       "1              87   150"
      ]
     },
     "metadata": {},
     "output_type": "display_data"
    },
    {
     "name": "stdout",
     "output_type": "stream",
     "text": [
      "Joint Prob of Gender\n"
     ]
    },
    {
     "data": {
      "text/html": [
       "<div>\n",
       "<style scoped>\n",
       "    .dataframe tbody tr th:only-of-type {\n",
       "        vertical-align: middle;\n",
       "    }\n",
       "\n",
       "    .dataframe tbody tr th {\n",
       "        vertical-align: top;\n",
       "    }\n",
       "\n",
       "    .dataframe thead th {\n",
       "        text-align: right;\n",
       "    }\n",
       "</style>\n",
       "<table border=\"1\" class=\"dataframe\">\n",
       "  <thead>\n",
       "    <tr style=\"text-align: right;\">\n",
       "      <th>Gender</th>\n",
       "      <th>Female</th>\n",
       "      <th>Male</th>\n",
       "    </tr>\n",
       "    <tr>\n",
       "      <th>Attrition</th>\n",
       "      <th></th>\n",
       "      <th></th>\n",
       "    </tr>\n",
       "  </thead>\n",
       "  <tbody>\n",
       "    <tr>\n",
       "      <th>0</th>\n",
       "      <td>34.08</td>\n",
       "      <td>49.8</td>\n",
       "    </tr>\n",
       "    <tr>\n",
       "      <th>1</th>\n",
       "      <td>5.92</td>\n",
       "      <td>10.2</td>\n",
       "    </tr>\n",
       "  </tbody>\n",
       "</table>\n",
       "</div>"
      ],
      "text/plain": [
       "Gender     Female  Male\n",
       "Attrition              \n",
       "0           34.08  49.8\n",
       "1            5.92  10.2"
      ]
     },
     "metadata": {},
     "output_type": "display_data"
    },
    {
     "name": "stdout",
     "output_type": "stream",
     "text": [
      "Condition on rows of Gender\n"
     ]
    },
    {
     "data": {
      "text/html": [
       "<div>\n",
       "<style scoped>\n",
       "    .dataframe tbody tr th:only-of-type {\n",
       "        vertical-align: middle;\n",
       "    }\n",
       "\n",
       "    .dataframe tbody tr th {\n",
       "        vertical-align: top;\n",
       "    }\n",
       "\n",
       "    .dataframe thead th {\n",
       "        text-align: right;\n",
       "    }\n",
       "</style>\n",
       "<table border=\"1\" class=\"dataframe\">\n",
       "  <thead>\n",
       "    <tr style=\"text-align: right;\">\n",
       "      <th>Gender</th>\n",
       "      <th>Female</th>\n",
       "      <th>Male</th>\n",
       "    </tr>\n",
       "    <tr>\n",
       "      <th>Attrition</th>\n",
       "      <th></th>\n",
       "      <th></th>\n",
       "    </tr>\n",
       "  </thead>\n",
       "  <tbody>\n",
       "    <tr>\n",
       "      <th>0</th>\n",
       "      <td>40.63</td>\n",
       "      <td>59.37</td>\n",
       "    </tr>\n",
       "    <tr>\n",
       "      <th>1</th>\n",
       "      <td>36.71</td>\n",
       "      <td>63.29</td>\n",
       "    </tr>\n",
       "  </tbody>\n",
       "</table>\n",
       "</div>"
      ],
      "text/plain": [
       "Gender     Female   Male\n",
       "Attrition               \n",
       "0           40.63  59.37\n",
       "1           36.71  63.29"
      ]
     },
     "metadata": {},
     "output_type": "display_data"
    },
    {
     "name": "stdout",
     "output_type": "stream",
     "text": [
      "Condition on columns of Gender\n"
     ]
    },
    {
     "data": {
      "text/html": [
       "<div>\n",
       "<style scoped>\n",
       "    .dataframe tbody tr th:only-of-type {\n",
       "        vertical-align: middle;\n",
       "    }\n",
       "\n",
       "    .dataframe tbody tr th {\n",
       "        vertical-align: top;\n",
       "    }\n",
       "\n",
       "    .dataframe thead th {\n",
       "        text-align: right;\n",
       "    }\n",
       "</style>\n",
       "<table border=\"1\" class=\"dataframe\">\n",
       "  <thead>\n",
       "    <tr style=\"text-align: right;\">\n",
       "      <th>Gender</th>\n",
       "      <th>Female</th>\n",
       "      <th>Male</th>\n",
       "    </tr>\n",
       "    <tr>\n",
       "      <th>Attrition</th>\n",
       "      <th></th>\n",
       "      <th></th>\n",
       "    </tr>\n",
       "  </thead>\n",
       "  <tbody>\n",
       "    <tr>\n",
       "      <th>0</th>\n",
       "      <td>85.2</td>\n",
       "      <td>82.99</td>\n",
       "    </tr>\n",
       "    <tr>\n",
       "      <th>1</th>\n",
       "      <td>14.8</td>\n",
       "      <td>17.01</td>\n",
       "    </tr>\n",
       "  </tbody>\n",
       "</table>\n",
       "</div>"
      ],
      "text/plain": [
       "Gender     Female   Male\n",
       "Attrition               \n",
       "0            85.2  82.99\n",
       "1            14.8  17.01"
      ]
     },
     "metadata": {},
     "output_type": "display_data"
    },
    {
     "name": "stdout",
     "output_type": "stream",
     "text": [
      "-----------------------------------------------------------------------------------------------------------------\n",
      "\n",
      "Frequency Table of  MaritalStatus\n"
     ]
    },
    {
     "data": {
      "text/html": [
       "<div>\n",
       "<style scoped>\n",
       "    .dataframe tbody tr th:only-of-type {\n",
       "        vertical-align: middle;\n",
       "    }\n",
       "\n",
       "    .dataframe tbody tr th {\n",
       "        vertical-align: top;\n",
       "    }\n",
       "\n",
       "    .dataframe thead th {\n",
       "        text-align: right;\n",
       "    }\n",
       "</style>\n",
       "<table border=\"1\" class=\"dataframe\">\n",
       "  <thead>\n",
       "    <tr style=\"text-align: right;\">\n",
       "      <th>MaritalStatus</th>\n",
       "      <th>Divorced</th>\n",
       "      <th>Married</th>\n",
       "      <th>Single</th>\n",
       "    </tr>\n",
       "    <tr>\n",
       "      <th>Attrition</th>\n",
       "      <th></th>\n",
       "      <th></th>\n",
       "      <th></th>\n",
       "    </tr>\n",
       "  </thead>\n",
       "  <tbody>\n",
       "    <tr>\n",
       "      <th>0</th>\n",
       "      <td>294</td>\n",
       "      <td>589</td>\n",
       "      <td>350</td>\n",
       "    </tr>\n",
       "    <tr>\n",
       "      <th>1</th>\n",
       "      <td>33</td>\n",
       "      <td>84</td>\n",
       "      <td>120</td>\n",
       "    </tr>\n",
       "  </tbody>\n",
       "</table>\n",
       "</div>"
      ],
      "text/plain": [
       "MaritalStatus  Divorced  Married  Single\n",
       "Attrition                               \n",
       "0                   294      589     350\n",
       "1                    33       84     120"
      ]
     },
     "metadata": {},
     "output_type": "display_data"
    },
    {
     "name": "stdout",
     "output_type": "stream",
     "text": [
      "Joint Prob of MaritalStatus\n"
     ]
    },
    {
     "data": {
      "text/html": [
       "<div>\n",
       "<style scoped>\n",
       "    .dataframe tbody tr th:only-of-type {\n",
       "        vertical-align: middle;\n",
       "    }\n",
       "\n",
       "    .dataframe tbody tr th {\n",
       "        vertical-align: top;\n",
       "    }\n",
       "\n",
       "    .dataframe thead th {\n",
       "        text-align: right;\n",
       "    }\n",
       "</style>\n",
       "<table border=\"1\" class=\"dataframe\">\n",
       "  <thead>\n",
       "    <tr style=\"text-align: right;\">\n",
       "      <th>MaritalStatus</th>\n",
       "      <th>Divorced</th>\n",
       "      <th>Married</th>\n",
       "      <th>Single</th>\n",
       "    </tr>\n",
       "    <tr>\n",
       "      <th>Attrition</th>\n",
       "      <th></th>\n",
       "      <th></th>\n",
       "      <th></th>\n",
       "    </tr>\n",
       "  </thead>\n",
       "  <tbody>\n",
       "    <tr>\n",
       "      <th>0</th>\n",
       "      <td>20.00</td>\n",
       "      <td>40.07</td>\n",
       "      <td>23.81</td>\n",
       "    </tr>\n",
       "    <tr>\n",
       "      <th>1</th>\n",
       "      <td>2.24</td>\n",
       "      <td>5.71</td>\n",
       "      <td>8.16</td>\n",
       "    </tr>\n",
       "  </tbody>\n",
       "</table>\n",
       "</div>"
      ],
      "text/plain": [
       "MaritalStatus  Divorced  Married  Single\n",
       "Attrition                               \n",
       "0                 20.00    40.07   23.81\n",
       "1                  2.24     5.71    8.16"
      ]
     },
     "metadata": {},
     "output_type": "display_data"
    },
    {
     "name": "stdout",
     "output_type": "stream",
     "text": [
      "Condition on rows of MaritalStatus\n"
     ]
    },
    {
     "data": {
      "text/html": [
       "<div>\n",
       "<style scoped>\n",
       "    .dataframe tbody tr th:only-of-type {\n",
       "        vertical-align: middle;\n",
       "    }\n",
       "\n",
       "    .dataframe tbody tr th {\n",
       "        vertical-align: top;\n",
       "    }\n",
       "\n",
       "    .dataframe thead th {\n",
       "        text-align: right;\n",
       "    }\n",
       "</style>\n",
       "<table border=\"1\" class=\"dataframe\">\n",
       "  <thead>\n",
       "    <tr style=\"text-align: right;\">\n",
       "      <th>MaritalStatus</th>\n",
       "      <th>Divorced</th>\n",
       "      <th>Married</th>\n",
       "      <th>Single</th>\n",
       "    </tr>\n",
       "    <tr>\n",
       "      <th>Attrition</th>\n",
       "      <th></th>\n",
       "      <th></th>\n",
       "      <th></th>\n",
       "    </tr>\n",
       "  </thead>\n",
       "  <tbody>\n",
       "    <tr>\n",
       "      <th>0</th>\n",
       "      <td>23.84</td>\n",
       "      <td>47.77</td>\n",
       "      <td>28.39</td>\n",
       "    </tr>\n",
       "    <tr>\n",
       "      <th>1</th>\n",
       "      <td>13.92</td>\n",
       "      <td>35.44</td>\n",
       "      <td>50.63</td>\n",
       "    </tr>\n",
       "  </tbody>\n",
       "</table>\n",
       "</div>"
      ],
      "text/plain": [
       "MaritalStatus  Divorced  Married  Single\n",
       "Attrition                               \n",
       "0                 23.84    47.77   28.39\n",
       "1                 13.92    35.44   50.63"
      ]
     },
     "metadata": {},
     "output_type": "display_data"
    },
    {
     "name": "stdout",
     "output_type": "stream",
     "text": [
      "Condition on columns of MaritalStatus\n"
     ]
    },
    {
     "data": {
      "text/html": [
       "<div>\n",
       "<style scoped>\n",
       "    .dataframe tbody tr th:only-of-type {\n",
       "        vertical-align: middle;\n",
       "    }\n",
       "\n",
       "    .dataframe tbody tr th {\n",
       "        vertical-align: top;\n",
       "    }\n",
       "\n",
       "    .dataframe thead th {\n",
       "        text-align: right;\n",
       "    }\n",
       "</style>\n",
       "<table border=\"1\" class=\"dataframe\">\n",
       "  <thead>\n",
       "    <tr style=\"text-align: right;\">\n",
       "      <th>MaritalStatus</th>\n",
       "      <th>Divorced</th>\n",
       "      <th>Married</th>\n",
       "      <th>Single</th>\n",
       "    </tr>\n",
       "    <tr>\n",
       "      <th>Attrition</th>\n",
       "      <th></th>\n",
       "      <th></th>\n",
       "      <th></th>\n",
       "    </tr>\n",
       "  </thead>\n",
       "  <tbody>\n",
       "    <tr>\n",
       "      <th>0</th>\n",
       "      <td>89.91</td>\n",
       "      <td>87.52</td>\n",
       "      <td>74.47</td>\n",
       "    </tr>\n",
       "    <tr>\n",
       "      <th>1</th>\n",
       "      <td>10.09</td>\n",
       "      <td>12.48</td>\n",
       "      <td>25.53</td>\n",
       "    </tr>\n",
       "  </tbody>\n",
       "</table>\n",
       "</div>"
      ],
      "text/plain": [
       "MaritalStatus  Divorced  Married  Single\n",
       "Attrition                               \n",
       "0                 89.91    87.52   74.47\n",
       "1                 10.09    12.48   25.53"
      ]
     },
     "metadata": {},
     "output_type": "display_data"
    },
    {
     "name": "stdout",
     "output_type": "stream",
     "text": [
      "-----------------------------------------------------------------------------------------------------------------\n",
      "\n",
      "Frequency Table of  OverTime\n"
     ]
    },
    {
     "data": {
      "text/html": [
       "<div>\n",
       "<style scoped>\n",
       "    .dataframe tbody tr th:only-of-type {\n",
       "        vertical-align: middle;\n",
       "    }\n",
       "\n",
       "    .dataframe tbody tr th {\n",
       "        vertical-align: top;\n",
       "    }\n",
       "\n",
       "    .dataframe thead th {\n",
       "        text-align: right;\n",
       "    }\n",
       "</style>\n",
       "<table border=\"1\" class=\"dataframe\">\n",
       "  <thead>\n",
       "    <tr style=\"text-align: right;\">\n",
       "      <th>OverTime</th>\n",
       "      <th>No</th>\n",
       "      <th>Yes</th>\n",
       "    </tr>\n",
       "    <tr>\n",
       "      <th>Attrition</th>\n",
       "      <th></th>\n",
       "      <th></th>\n",
       "    </tr>\n",
       "  </thead>\n",
       "  <tbody>\n",
       "    <tr>\n",
       "      <th>0</th>\n",
       "      <td>944</td>\n",
       "      <td>289</td>\n",
       "    </tr>\n",
       "    <tr>\n",
       "      <th>1</th>\n",
       "      <td>110</td>\n",
       "      <td>127</td>\n",
       "    </tr>\n",
       "  </tbody>\n",
       "</table>\n",
       "</div>"
      ],
      "text/plain": [
       "OverTime    No  Yes\n",
       "Attrition          \n",
       "0          944  289\n",
       "1          110  127"
      ]
     },
     "metadata": {},
     "output_type": "display_data"
    },
    {
     "name": "stdout",
     "output_type": "stream",
     "text": [
      "Joint Prob of OverTime\n"
     ]
    },
    {
     "data": {
      "text/html": [
       "<div>\n",
       "<style scoped>\n",
       "    .dataframe tbody tr th:only-of-type {\n",
       "        vertical-align: middle;\n",
       "    }\n",
       "\n",
       "    .dataframe tbody tr th {\n",
       "        vertical-align: top;\n",
       "    }\n",
       "\n",
       "    .dataframe thead th {\n",
       "        text-align: right;\n",
       "    }\n",
       "</style>\n",
       "<table border=\"1\" class=\"dataframe\">\n",
       "  <thead>\n",
       "    <tr style=\"text-align: right;\">\n",
       "      <th>OverTime</th>\n",
       "      <th>No</th>\n",
       "      <th>Yes</th>\n",
       "    </tr>\n",
       "    <tr>\n",
       "      <th>Attrition</th>\n",
       "      <th></th>\n",
       "      <th></th>\n",
       "    </tr>\n",
       "  </thead>\n",
       "  <tbody>\n",
       "    <tr>\n",
       "      <th>0</th>\n",
       "      <td>64.22</td>\n",
       "      <td>19.66</td>\n",
       "    </tr>\n",
       "    <tr>\n",
       "      <th>1</th>\n",
       "      <td>7.48</td>\n",
       "      <td>8.64</td>\n",
       "    </tr>\n",
       "  </tbody>\n",
       "</table>\n",
       "</div>"
      ],
      "text/plain": [
       "OverTime      No    Yes\n",
       "Attrition              \n",
       "0          64.22  19.66\n",
       "1           7.48   8.64"
      ]
     },
     "metadata": {},
     "output_type": "display_data"
    },
    {
     "name": "stdout",
     "output_type": "stream",
     "text": [
      "Condition on rows of OverTime\n"
     ]
    },
    {
     "data": {
      "text/html": [
       "<div>\n",
       "<style scoped>\n",
       "    .dataframe tbody tr th:only-of-type {\n",
       "        vertical-align: middle;\n",
       "    }\n",
       "\n",
       "    .dataframe tbody tr th {\n",
       "        vertical-align: top;\n",
       "    }\n",
       "\n",
       "    .dataframe thead th {\n",
       "        text-align: right;\n",
       "    }\n",
       "</style>\n",
       "<table border=\"1\" class=\"dataframe\">\n",
       "  <thead>\n",
       "    <tr style=\"text-align: right;\">\n",
       "      <th>OverTime</th>\n",
       "      <th>No</th>\n",
       "      <th>Yes</th>\n",
       "    </tr>\n",
       "    <tr>\n",
       "      <th>Attrition</th>\n",
       "      <th></th>\n",
       "      <th></th>\n",
       "    </tr>\n",
       "  </thead>\n",
       "  <tbody>\n",
       "    <tr>\n",
       "      <th>0</th>\n",
       "      <td>76.56</td>\n",
       "      <td>23.44</td>\n",
       "    </tr>\n",
       "    <tr>\n",
       "      <th>1</th>\n",
       "      <td>46.41</td>\n",
       "      <td>53.59</td>\n",
       "    </tr>\n",
       "  </tbody>\n",
       "</table>\n",
       "</div>"
      ],
      "text/plain": [
       "OverTime      No    Yes\n",
       "Attrition              \n",
       "0          76.56  23.44\n",
       "1          46.41  53.59"
      ]
     },
     "metadata": {},
     "output_type": "display_data"
    },
    {
     "name": "stdout",
     "output_type": "stream",
     "text": [
      "Condition on columns of OverTime\n"
     ]
    },
    {
     "data": {
      "text/html": [
       "<div>\n",
       "<style scoped>\n",
       "    .dataframe tbody tr th:only-of-type {\n",
       "        vertical-align: middle;\n",
       "    }\n",
       "\n",
       "    .dataframe tbody tr th {\n",
       "        vertical-align: top;\n",
       "    }\n",
       "\n",
       "    .dataframe thead th {\n",
       "        text-align: right;\n",
       "    }\n",
       "</style>\n",
       "<table border=\"1\" class=\"dataframe\">\n",
       "  <thead>\n",
       "    <tr style=\"text-align: right;\">\n",
       "      <th>OverTime</th>\n",
       "      <th>No</th>\n",
       "      <th>Yes</th>\n",
       "    </tr>\n",
       "    <tr>\n",
       "      <th>Attrition</th>\n",
       "      <th></th>\n",
       "      <th></th>\n",
       "    </tr>\n",
       "  </thead>\n",
       "  <tbody>\n",
       "    <tr>\n",
       "      <th>0</th>\n",
       "      <td>89.56</td>\n",
       "      <td>69.47</td>\n",
       "    </tr>\n",
       "    <tr>\n",
       "      <th>1</th>\n",
       "      <td>10.44</td>\n",
       "      <td>30.53</td>\n",
       "    </tr>\n",
       "  </tbody>\n",
       "</table>\n",
       "</div>"
      ],
      "text/plain": [
       "OverTime      No    Yes\n",
       "Attrition              \n",
       "0          89.56  69.47\n",
       "1          10.44  30.53"
      ]
     },
     "metadata": {},
     "output_type": "display_data"
    },
    {
     "name": "stdout",
     "output_type": "stream",
     "text": [
      "-----------------------------------------------------------------------------------------------------------------\n",
      "\n",
      "Frequency Table of  JobLevel\n"
     ]
    },
    {
     "data": {
      "text/html": [
       "<div>\n",
       "<style scoped>\n",
       "    .dataframe tbody tr th:only-of-type {\n",
       "        vertical-align: middle;\n",
       "    }\n",
       "\n",
       "    .dataframe tbody tr th {\n",
       "        vertical-align: top;\n",
       "    }\n",
       "\n",
       "    .dataframe thead th {\n",
       "        text-align: right;\n",
       "    }\n",
       "</style>\n",
       "<table border=\"1\" class=\"dataframe\">\n",
       "  <thead>\n",
       "    <tr style=\"text-align: right;\">\n",
       "      <th>JobLevel</th>\n",
       "      <th>1</th>\n",
       "      <th>2</th>\n",
       "      <th>3</th>\n",
       "      <th>4</th>\n",
       "      <th>5</th>\n",
       "    </tr>\n",
       "    <tr>\n",
       "      <th>Attrition</th>\n",
       "      <th></th>\n",
       "      <th></th>\n",
       "      <th></th>\n",
       "      <th></th>\n",
       "      <th></th>\n",
       "    </tr>\n",
       "  </thead>\n",
       "  <tbody>\n",
       "    <tr>\n",
       "      <th>0</th>\n",
       "      <td>400</td>\n",
       "      <td>482</td>\n",
       "      <td>186</td>\n",
       "      <td>101</td>\n",
       "      <td>64</td>\n",
       "    </tr>\n",
       "    <tr>\n",
       "      <th>1</th>\n",
       "      <td>143</td>\n",
       "      <td>52</td>\n",
       "      <td>32</td>\n",
       "      <td>5</td>\n",
       "      <td>5</td>\n",
       "    </tr>\n",
       "  </tbody>\n",
       "</table>\n",
       "</div>"
      ],
      "text/plain": [
       "JobLevel     1    2    3    4   5\n",
       "Attrition                        \n",
       "0          400  482  186  101  64\n",
       "1          143   52   32    5   5"
      ]
     },
     "metadata": {},
     "output_type": "display_data"
    },
    {
     "name": "stdout",
     "output_type": "stream",
     "text": [
      "Joint Prob of JobLevel\n"
     ]
    },
    {
     "data": {
      "text/html": [
       "<div>\n",
       "<style scoped>\n",
       "    .dataframe tbody tr th:only-of-type {\n",
       "        vertical-align: middle;\n",
       "    }\n",
       "\n",
       "    .dataframe tbody tr th {\n",
       "        vertical-align: top;\n",
       "    }\n",
       "\n",
       "    .dataframe thead th {\n",
       "        text-align: right;\n",
       "    }\n",
       "</style>\n",
       "<table border=\"1\" class=\"dataframe\">\n",
       "  <thead>\n",
       "    <tr style=\"text-align: right;\">\n",
       "      <th>JobLevel</th>\n",
       "      <th>1</th>\n",
       "      <th>2</th>\n",
       "      <th>3</th>\n",
       "      <th>4</th>\n",
       "      <th>5</th>\n",
       "    </tr>\n",
       "    <tr>\n",
       "      <th>Attrition</th>\n",
       "      <th></th>\n",
       "      <th></th>\n",
       "      <th></th>\n",
       "      <th></th>\n",
       "      <th></th>\n",
       "    </tr>\n",
       "  </thead>\n",
       "  <tbody>\n",
       "    <tr>\n",
       "      <th>0</th>\n",
       "      <td>27.21</td>\n",
       "      <td>32.79</td>\n",
       "      <td>12.65</td>\n",
       "      <td>6.87</td>\n",
       "      <td>4.35</td>\n",
       "    </tr>\n",
       "    <tr>\n",
       "      <th>1</th>\n",
       "      <td>9.73</td>\n",
       "      <td>3.54</td>\n",
       "      <td>2.18</td>\n",
       "      <td>0.34</td>\n",
       "      <td>0.34</td>\n",
       "    </tr>\n",
       "  </tbody>\n",
       "</table>\n",
       "</div>"
      ],
      "text/plain": [
       "JobLevel       1      2      3     4     5\n",
       "Attrition                                 \n",
       "0          27.21  32.79  12.65  6.87  4.35\n",
       "1           9.73   3.54   2.18  0.34  0.34"
      ]
     },
     "metadata": {},
     "output_type": "display_data"
    },
    {
     "name": "stdout",
     "output_type": "stream",
     "text": [
      "Condition on rows of JobLevel\n"
     ]
    },
    {
     "data": {
      "text/html": [
       "<div>\n",
       "<style scoped>\n",
       "    .dataframe tbody tr th:only-of-type {\n",
       "        vertical-align: middle;\n",
       "    }\n",
       "\n",
       "    .dataframe tbody tr th {\n",
       "        vertical-align: top;\n",
       "    }\n",
       "\n",
       "    .dataframe thead th {\n",
       "        text-align: right;\n",
       "    }\n",
       "</style>\n",
       "<table border=\"1\" class=\"dataframe\">\n",
       "  <thead>\n",
       "    <tr style=\"text-align: right;\">\n",
       "      <th>JobLevel</th>\n",
       "      <th>1</th>\n",
       "      <th>2</th>\n",
       "      <th>3</th>\n",
       "      <th>4</th>\n",
       "      <th>5</th>\n",
       "    </tr>\n",
       "    <tr>\n",
       "      <th>Attrition</th>\n",
       "      <th></th>\n",
       "      <th></th>\n",
       "      <th></th>\n",
       "      <th></th>\n",
       "      <th></th>\n",
       "    </tr>\n",
       "  </thead>\n",
       "  <tbody>\n",
       "    <tr>\n",
       "      <th>0</th>\n",
       "      <td>32.44</td>\n",
       "      <td>39.09</td>\n",
       "      <td>15.09</td>\n",
       "      <td>8.19</td>\n",
       "      <td>5.19</td>\n",
       "    </tr>\n",
       "    <tr>\n",
       "      <th>1</th>\n",
       "      <td>60.34</td>\n",
       "      <td>21.94</td>\n",
       "      <td>13.50</td>\n",
       "      <td>2.11</td>\n",
       "      <td>2.11</td>\n",
       "    </tr>\n",
       "  </tbody>\n",
       "</table>\n",
       "</div>"
      ],
      "text/plain": [
       "JobLevel       1      2      3     4     5\n",
       "Attrition                                 \n",
       "0          32.44  39.09  15.09  8.19  5.19\n",
       "1          60.34  21.94  13.50  2.11  2.11"
      ]
     },
     "metadata": {},
     "output_type": "display_data"
    },
    {
     "name": "stdout",
     "output_type": "stream",
     "text": [
      "Condition on columns of JobLevel\n"
     ]
    },
    {
     "data": {
      "text/html": [
       "<div>\n",
       "<style scoped>\n",
       "    .dataframe tbody tr th:only-of-type {\n",
       "        vertical-align: middle;\n",
       "    }\n",
       "\n",
       "    .dataframe tbody tr th {\n",
       "        vertical-align: top;\n",
       "    }\n",
       "\n",
       "    .dataframe thead th {\n",
       "        text-align: right;\n",
       "    }\n",
       "</style>\n",
       "<table border=\"1\" class=\"dataframe\">\n",
       "  <thead>\n",
       "    <tr style=\"text-align: right;\">\n",
       "      <th>JobLevel</th>\n",
       "      <th>1</th>\n",
       "      <th>2</th>\n",
       "      <th>3</th>\n",
       "      <th>4</th>\n",
       "      <th>5</th>\n",
       "    </tr>\n",
       "    <tr>\n",
       "      <th>Attrition</th>\n",
       "      <th></th>\n",
       "      <th></th>\n",
       "      <th></th>\n",
       "      <th></th>\n",
       "      <th></th>\n",
       "    </tr>\n",
       "  </thead>\n",
       "  <tbody>\n",
       "    <tr>\n",
       "      <th>0</th>\n",
       "      <td>73.66</td>\n",
       "      <td>90.26</td>\n",
       "      <td>85.32</td>\n",
       "      <td>95.28</td>\n",
       "      <td>92.75</td>\n",
       "    </tr>\n",
       "    <tr>\n",
       "      <th>1</th>\n",
       "      <td>26.34</td>\n",
       "      <td>9.74</td>\n",
       "      <td>14.68</td>\n",
       "      <td>4.72</td>\n",
       "      <td>7.25</td>\n",
       "    </tr>\n",
       "  </tbody>\n",
       "</table>\n",
       "</div>"
      ],
      "text/plain": [
       "JobLevel       1      2      3      4      5\n",
       "Attrition                                   \n",
       "0          73.66  90.26  85.32  95.28  92.75\n",
       "1          26.34   9.74  14.68   4.72   7.25"
      ]
     },
     "metadata": {},
     "output_type": "display_data"
    },
    {
     "name": "stdout",
     "output_type": "stream",
     "text": [
      "-----------------------------------------------------------------------------------------------------------------\n",
      "\n",
      "Frequency Table of  JobSatisfaction\n"
     ]
    },
    {
     "data": {
      "text/html": [
       "<div>\n",
       "<style scoped>\n",
       "    .dataframe tbody tr th:only-of-type {\n",
       "        vertical-align: middle;\n",
       "    }\n",
       "\n",
       "    .dataframe tbody tr th {\n",
       "        vertical-align: top;\n",
       "    }\n",
       "\n",
       "    .dataframe thead th {\n",
       "        text-align: right;\n",
       "    }\n",
       "</style>\n",
       "<table border=\"1\" class=\"dataframe\">\n",
       "  <thead>\n",
       "    <tr style=\"text-align: right;\">\n",
       "      <th>JobSatisfaction</th>\n",
       "      <th>1</th>\n",
       "      <th>2</th>\n",
       "      <th>3</th>\n",
       "      <th>4</th>\n",
       "    </tr>\n",
       "    <tr>\n",
       "      <th>Attrition</th>\n",
       "      <th></th>\n",
       "      <th></th>\n",
       "      <th></th>\n",
       "      <th></th>\n",
       "    </tr>\n",
       "  </thead>\n",
       "  <tbody>\n",
       "    <tr>\n",
       "      <th>0</th>\n",
       "      <td>223</td>\n",
       "      <td>234</td>\n",
       "      <td>369</td>\n",
       "      <td>407</td>\n",
       "    </tr>\n",
       "    <tr>\n",
       "      <th>1</th>\n",
       "      <td>66</td>\n",
       "      <td>46</td>\n",
       "      <td>73</td>\n",
       "      <td>52</td>\n",
       "    </tr>\n",
       "  </tbody>\n",
       "</table>\n",
       "</div>"
      ],
      "text/plain": [
       "JobSatisfaction    1    2    3    4\n",
       "Attrition                          \n",
       "0                223  234  369  407\n",
       "1                 66   46   73   52"
      ]
     },
     "metadata": {},
     "output_type": "display_data"
    },
    {
     "name": "stdout",
     "output_type": "stream",
     "text": [
      "Joint Prob of JobSatisfaction\n"
     ]
    },
    {
     "data": {
      "text/html": [
       "<div>\n",
       "<style scoped>\n",
       "    .dataframe tbody tr th:only-of-type {\n",
       "        vertical-align: middle;\n",
       "    }\n",
       "\n",
       "    .dataframe tbody tr th {\n",
       "        vertical-align: top;\n",
       "    }\n",
       "\n",
       "    .dataframe thead th {\n",
       "        text-align: right;\n",
       "    }\n",
       "</style>\n",
       "<table border=\"1\" class=\"dataframe\">\n",
       "  <thead>\n",
       "    <tr style=\"text-align: right;\">\n",
       "      <th>JobSatisfaction</th>\n",
       "      <th>1</th>\n",
       "      <th>2</th>\n",
       "      <th>3</th>\n",
       "      <th>4</th>\n",
       "    </tr>\n",
       "    <tr>\n",
       "      <th>Attrition</th>\n",
       "      <th></th>\n",
       "      <th></th>\n",
       "      <th></th>\n",
       "      <th></th>\n",
       "    </tr>\n",
       "  </thead>\n",
       "  <tbody>\n",
       "    <tr>\n",
       "      <th>0</th>\n",
       "      <td>15.17</td>\n",
       "      <td>15.92</td>\n",
       "      <td>25.10</td>\n",
       "      <td>27.69</td>\n",
       "    </tr>\n",
       "    <tr>\n",
       "      <th>1</th>\n",
       "      <td>4.49</td>\n",
       "      <td>3.13</td>\n",
       "      <td>4.97</td>\n",
       "      <td>3.54</td>\n",
       "    </tr>\n",
       "  </tbody>\n",
       "</table>\n",
       "</div>"
      ],
      "text/plain": [
       "JobSatisfaction      1      2      3      4\n",
       "Attrition                                  \n",
       "0                15.17  15.92  25.10  27.69\n",
       "1                 4.49   3.13   4.97   3.54"
      ]
     },
     "metadata": {},
     "output_type": "display_data"
    },
    {
     "name": "stdout",
     "output_type": "stream",
     "text": [
      "Condition on rows of JobSatisfaction\n"
     ]
    },
    {
     "data": {
      "text/html": [
       "<div>\n",
       "<style scoped>\n",
       "    .dataframe tbody tr th:only-of-type {\n",
       "        vertical-align: middle;\n",
       "    }\n",
       "\n",
       "    .dataframe tbody tr th {\n",
       "        vertical-align: top;\n",
       "    }\n",
       "\n",
       "    .dataframe thead th {\n",
       "        text-align: right;\n",
       "    }\n",
       "</style>\n",
       "<table border=\"1\" class=\"dataframe\">\n",
       "  <thead>\n",
       "    <tr style=\"text-align: right;\">\n",
       "      <th>JobSatisfaction</th>\n",
       "      <th>1</th>\n",
       "      <th>2</th>\n",
       "      <th>3</th>\n",
       "      <th>4</th>\n",
       "    </tr>\n",
       "    <tr>\n",
       "      <th>Attrition</th>\n",
       "      <th></th>\n",
       "      <th></th>\n",
       "      <th></th>\n",
       "      <th></th>\n",
       "    </tr>\n",
       "  </thead>\n",
       "  <tbody>\n",
       "    <tr>\n",
       "      <th>0</th>\n",
       "      <td>18.09</td>\n",
       "      <td>18.98</td>\n",
       "      <td>29.93</td>\n",
       "      <td>33.01</td>\n",
       "    </tr>\n",
       "    <tr>\n",
       "      <th>1</th>\n",
       "      <td>27.85</td>\n",
       "      <td>19.41</td>\n",
       "      <td>30.80</td>\n",
       "      <td>21.94</td>\n",
       "    </tr>\n",
       "  </tbody>\n",
       "</table>\n",
       "</div>"
      ],
      "text/plain": [
       "JobSatisfaction      1      2      3      4\n",
       "Attrition                                  \n",
       "0                18.09  18.98  29.93  33.01\n",
       "1                27.85  19.41  30.80  21.94"
      ]
     },
     "metadata": {},
     "output_type": "display_data"
    },
    {
     "name": "stdout",
     "output_type": "stream",
     "text": [
      "Condition on columns of JobSatisfaction\n"
     ]
    },
    {
     "data": {
      "text/html": [
       "<div>\n",
       "<style scoped>\n",
       "    .dataframe tbody tr th:only-of-type {\n",
       "        vertical-align: middle;\n",
       "    }\n",
       "\n",
       "    .dataframe tbody tr th {\n",
       "        vertical-align: top;\n",
       "    }\n",
       "\n",
       "    .dataframe thead th {\n",
       "        text-align: right;\n",
       "    }\n",
       "</style>\n",
       "<table border=\"1\" class=\"dataframe\">\n",
       "  <thead>\n",
       "    <tr style=\"text-align: right;\">\n",
       "      <th>JobSatisfaction</th>\n",
       "      <th>1</th>\n",
       "      <th>2</th>\n",
       "      <th>3</th>\n",
       "      <th>4</th>\n",
       "    </tr>\n",
       "    <tr>\n",
       "      <th>Attrition</th>\n",
       "      <th></th>\n",
       "      <th></th>\n",
       "      <th></th>\n",
       "      <th></th>\n",
       "    </tr>\n",
       "  </thead>\n",
       "  <tbody>\n",
       "    <tr>\n",
       "      <th>0</th>\n",
       "      <td>77.16</td>\n",
       "      <td>83.57</td>\n",
       "      <td>83.48</td>\n",
       "      <td>88.67</td>\n",
       "    </tr>\n",
       "    <tr>\n",
       "      <th>1</th>\n",
       "      <td>22.84</td>\n",
       "      <td>16.43</td>\n",
       "      <td>16.52</td>\n",
       "      <td>11.33</td>\n",
       "    </tr>\n",
       "  </tbody>\n",
       "</table>\n",
       "</div>"
      ],
      "text/plain": [
       "JobSatisfaction      1      2      3      4\n",
       "Attrition                                  \n",
       "0                77.16  83.57  83.48  88.67\n",
       "1                22.84  16.43  16.52  11.33"
      ]
     },
     "metadata": {},
     "output_type": "display_data"
    },
    {
     "name": "stdout",
     "output_type": "stream",
     "text": [
      "-----------------------------------------------------------------------------------------------------------------\n",
      "\n",
      "Frequency Table of  WorkLifeBalance\n"
     ]
    },
    {
     "data": {
      "text/html": [
       "<div>\n",
       "<style scoped>\n",
       "    .dataframe tbody tr th:only-of-type {\n",
       "        vertical-align: middle;\n",
       "    }\n",
       "\n",
       "    .dataframe tbody tr th {\n",
       "        vertical-align: top;\n",
       "    }\n",
       "\n",
       "    .dataframe thead th {\n",
       "        text-align: right;\n",
       "    }\n",
       "</style>\n",
       "<table border=\"1\" class=\"dataframe\">\n",
       "  <thead>\n",
       "    <tr style=\"text-align: right;\">\n",
       "      <th>WorkLifeBalance</th>\n",
       "      <th>1</th>\n",
       "      <th>2</th>\n",
       "      <th>3</th>\n",
       "      <th>4</th>\n",
       "    </tr>\n",
       "    <tr>\n",
       "      <th>Attrition</th>\n",
       "      <th></th>\n",
       "      <th></th>\n",
       "      <th></th>\n",
       "      <th></th>\n",
       "    </tr>\n",
       "  </thead>\n",
       "  <tbody>\n",
       "    <tr>\n",
       "      <th>0</th>\n",
       "      <td>55</td>\n",
       "      <td>286</td>\n",
       "      <td>766</td>\n",
       "      <td>126</td>\n",
       "    </tr>\n",
       "    <tr>\n",
       "      <th>1</th>\n",
       "      <td>25</td>\n",
       "      <td>58</td>\n",
       "      <td>127</td>\n",
       "      <td>27</td>\n",
       "    </tr>\n",
       "  </tbody>\n",
       "</table>\n",
       "</div>"
      ],
      "text/plain": [
       "WorkLifeBalance   1    2    3    4\n",
       "Attrition                         \n",
       "0                55  286  766  126\n",
       "1                25   58  127   27"
      ]
     },
     "metadata": {},
     "output_type": "display_data"
    },
    {
     "name": "stdout",
     "output_type": "stream",
     "text": [
      "Joint Prob of WorkLifeBalance\n"
     ]
    },
    {
     "data": {
      "text/html": [
       "<div>\n",
       "<style scoped>\n",
       "    .dataframe tbody tr th:only-of-type {\n",
       "        vertical-align: middle;\n",
       "    }\n",
       "\n",
       "    .dataframe tbody tr th {\n",
       "        vertical-align: top;\n",
       "    }\n",
       "\n",
       "    .dataframe thead th {\n",
       "        text-align: right;\n",
       "    }\n",
       "</style>\n",
       "<table border=\"1\" class=\"dataframe\">\n",
       "  <thead>\n",
       "    <tr style=\"text-align: right;\">\n",
       "      <th>WorkLifeBalance</th>\n",
       "      <th>1</th>\n",
       "      <th>2</th>\n",
       "      <th>3</th>\n",
       "      <th>4</th>\n",
       "    </tr>\n",
       "    <tr>\n",
       "      <th>Attrition</th>\n",
       "      <th></th>\n",
       "      <th></th>\n",
       "      <th></th>\n",
       "      <th></th>\n",
       "    </tr>\n",
       "  </thead>\n",
       "  <tbody>\n",
       "    <tr>\n",
       "      <th>0</th>\n",
       "      <td>3.74</td>\n",
       "      <td>19.46</td>\n",
       "      <td>52.11</td>\n",
       "      <td>8.57</td>\n",
       "    </tr>\n",
       "    <tr>\n",
       "      <th>1</th>\n",
       "      <td>1.70</td>\n",
       "      <td>3.95</td>\n",
       "      <td>8.64</td>\n",
       "      <td>1.84</td>\n",
       "    </tr>\n",
       "  </tbody>\n",
       "</table>\n",
       "</div>"
      ],
      "text/plain": [
       "WorkLifeBalance     1      2      3     4\n",
       "Attrition                                \n",
       "0                3.74  19.46  52.11  8.57\n",
       "1                1.70   3.95   8.64  1.84"
      ]
     },
     "metadata": {},
     "output_type": "display_data"
    },
    {
     "name": "stdout",
     "output_type": "stream",
     "text": [
      "Condition on rows of WorkLifeBalance\n"
     ]
    },
    {
     "data": {
      "text/html": [
       "<div>\n",
       "<style scoped>\n",
       "    .dataframe tbody tr th:only-of-type {\n",
       "        vertical-align: middle;\n",
       "    }\n",
       "\n",
       "    .dataframe tbody tr th {\n",
       "        vertical-align: top;\n",
       "    }\n",
       "\n",
       "    .dataframe thead th {\n",
       "        text-align: right;\n",
       "    }\n",
       "</style>\n",
       "<table border=\"1\" class=\"dataframe\">\n",
       "  <thead>\n",
       "    <tr style=\"text-align: right;\">\n",
       "      <th>WorkLifeBalance</th>\n",
       "      <th>1</th>\n",
       "      <th>2</th>\n",
       "      <th>3</th>\n",
       "      <th>4</th>\n",
       "    </tr>\n",
       "    <tr>\n",
       "      <th>Attrition</th>\n",
       "      <th></th>\n",
       "      <th></th>\n",
       "      <th></th>\n",
       "      <th></th>\n",
       "    </tr>\n",
       "  </thead>\n",
       "  <tbody>\n",
       "    <tr>\n",
       "      <th>0</th>\n",
       "      <td>4.46</td>\n",
       "      <td>23.20</td>\n",
       "      <td>62.12</td>\n",
       "      <td>10.22</td>\n",
       "    </tr>\n",
       "    <tr>\n",
       "      <th>1</th>\n",
       "      <td>10.55</td>\n",
       "      <td>24.47</td>\n",
       "      <td>53.59</td>\n",
       "      <td>11.39</td>\n",
       "    </tr>\n",
       "  </tbody>\n",
       "</table>\n",
       "</div>"
      ],
      "text/plain": [
       "WorkLifeBalance      1      2      3      4\n",
       "Attrition                                  \n",
       "0                 4.46  23.20  62.12  10.22\n",
       "1                10.55  24.47  53.59  11.39"
      ]
     },
     "metadata": {},
     "output_type": "display_data"
    },
    {
     "name": "stdout",
     "output_type": "stream",
     "text": [
      "Condition on columns of WorkLifeBalance\n"
     ]
    },
    {
     "data": {
      "text/html": [
       "<div>\n",
       "<style scoped>\n",
       "    .dataframe tbody tr th:only-of-type {\n",
       "        vertical-align: middle;\n",
       "    }\n",
       "\n",
       "    .dataframe tbody tr th {\n",
       "        vertical-align: top;\n",
       "    }\n",
       "\n",
       "    .dataframe thead th {\n",
       "        text-align: right;\n",
       "    }\n",
       "</style>\n",
       "<table border=\"1\" class=\"dataframe\">\n",
       "  <thead>\n",
       "    <tr style=\"text-align: right;\">\n",
       "      <th>WorkLifeBalance</th>\n",
       "      <th>1</th>\n",
       "      <th>2</th>\n",
       "      <th>3</th>\n",
       "      <th>4</th>\n",
       "    </tr>\n",
       "    <tr>\n",
       "      <th>Attrition</th>\n",
       "      <th></th>\n",
       "      <th></th>\n",
       "      <th></th>\n",
       "      <th></th>\n",
       "    </tr>\n",
       "  </thead>\n",
       "  <tbody>\n",
       "    <tr>\n",
       "      <th>0</th>\n",
       "      <td>68.75</td>\n",
       "      <td>83.14</td>\n",
       "      <td>85.78</td>\n",
       "      <td>82.35</td>\n",
       "    </tr>\n",
       "    <tr>\n",
       "      <th>1</th>\n",
       "      <td>31.25</td>\n",
       "      <td>16.86</td>\n",
       "      <td>14.22</td>\n",
       "      <td>17.65</td>\n",
       "    </tr>\n",
       "  </tbody>\n",
       "</table>\n",
       "</div>"
      ],
      "text/plain": [
       "WorkLifeBalance      1      2      3      4\n",
       "Attrition                                  \n",
       "0                68.75  83.14  85.78  82.35\n",
       "1                31.25  16.86  14.22  17.65"
      ]
     },
     "metadata": {},
     "output_type": "display_data"
    },
    {
     "name": "stdout",
     "output_type": "stream",
     "text": [
      "-----------------------------------------------------------------------------------------------------------------\n",
      "\n",
      "Frequency Table of  EnvironmentSatisfaction\n"
     ]
    },
    {
     "data": {
      "text/html": [
       "<div>\n",
       "<style scoped>\n",
       "    .dataframe tbody tr th:only-of-type {\n",
       "        vertical-align: middle;\n",
       "    }\n",
       "\n",
       "    .dataframe tbody tr th {\n",
       "        vertical-align: top;\n",
       "    }\n",
       "\n",
       "    .dataframe thead th {\n",
       "        text-align: right;\n",
       "    }\n",
       "</style>\n",
       "<table border=\"1\" class=\"dataframe\">\n",
       "  <thead>\n",
       "    <tr style=\"text-align: right;\">\n",
       "      <th>EnvironmentSatisfaction</th>\n",
       "      <th>1</th>\n",
       "      <th>2</th>\n",
       "      <th>3</th>\n",
       "      <th>4</th>\n",
       "    </tr>\n",
       "    <tr>\n",
       "      <th>Attrition</th>\n",
       "      <th></th>\n",
       "      <th></th>\n",
       "      <th></th>\n",
       "      <th></th>\n",
       "    </tr>\n",
       "  </thead>\n",
       "  <tbody>\n",
       "    <tr>\n",
       "      <th>0</th>\n",
       "      <td>212</td>\n",
       "      <td>244</td>\n",
       "      <td>391</td>\n",
       "      <td>386</td>\n",
       "    </tr>\n",
       "    <tr>\n",
       "      <th>1</th>\n",
       "      <td>72</td>\n",
       "      <td>43</td>\n",
       "      <td>62</td>\n",
       "      <td>60</td>\n",
       "    </tr>\n",
       "  </tbody>\n",
       "</table>\n",
       "</div>"
      ],
      "text/plain": [
       "EnvironmentSatisfaction    1    2    3    4\n",
       "Attrition                                  \n",
       "0                        212  244  391  386\n",
       "1                         72   43   62   60"
      ]
     },
     "metadata": {},
     "output_type": "display_data"
    },
    {
     "name": "stdout",
     "output_type": "stream",
     "text": [
      "Joint Prob of EnvironmentSatisfaction\n"
     ]
    },
    {
     "data": {
      "text/html": [
       "<div>\n",
       "<style scoped>\n",
       "    .dataframe tbody tr th:only-of-type {\n",
       "        vertical-align: middle;\n",
       "    }\n",
       "\n",
       "    .dataframe tbody tr th {\n",
       "        vertical-align: top;\n",
       "    }\n",
       "\n",
       "    .dataframe thead th {\n",
       "        text-align: right;\n",
       "    }\n",
       "</style>\n",
       "<table border=\"1\" class=\"dataframe\">\n",
       "  <thead>\n",
       "    <tr style=\"text-align: right;\">\n",
       "      <th>EnvironmentSatisfaction</th>\n",
       "      <th>1</th>\n",
       "      <th>2</th>\n",
       "      <th>3</th>\n",
       "      <th>4</th>\n",
       "    </tr>\n",
       "    <tr>\n",
       "      <th>Attrition</th>\n",
       "      <th></th>\n",
       "      <th></th>\n",
       "      <th></th>\n",
       "      <th></th>\n",
       "    </tr>\n",
       "  </thead>\n",
       "  <tbody>\n",
       "    <tr>\n",
       "      <th>0</th>\n",
       "      <td>14.42</td>\n",
       "      <td>16.60</td>\n",
       "      <td>26.60</td>\n",
       "      <td>26.26</td>\n",
       "    </tr>\n",
       "    <tr>\n",
       "      <th>1</th>\n",
       "      <td>4.90</td>\n",
       "      <td>2.93</td>\n",
       "      <td>4.22</td>\n",
       "      <td>4.08</td>\n",
       "    </tr>\n",
       "  </tbody>\n",
       "</table>\n",
       "</div>"
      ],
      "text/plain": [
       "EnvironmentSatisfaction      1      2      3      4\n",
       "Attrition                                          \n",
       "0                        14.42  16.60  26.60  26.26\n",
       "1                         4.90   2.93   4.22   4.08"
      ]
     },
     "metadata": {},
     "output_type": "display_data"
    },
    {
     "name": "stdout",
     "output_type": "stream",
     "text": [
      "Condition on rows of EnvironmentSatisfaction\n"
     ]
    },
    {
     "data": {
      "text/html": [
       "<div>\n",
       "<style scoped>\n",
       "    .dataframe tbody tr th:only-of-type {\n",
       "        vertical-align: middle;\n",
       "    }\n",
       "\n",
       "    .dataframe tbody tr th {\n",
       "        vertical-align: top;\n",
       "    }\n",
       "\n",
       "    .dataframe thead th {\n",
       "        text-align: right;\n",
       "    }\n",
       "</style>\n",
       "<table border=\"1\" class=\"dataframe\">\n",
       "  <thead>\n",
       "    <tr style=\"text-align: right;\">\n",
       "      <th>EnvironmentSatisfaction</th>\n",
       "      <th>1</th>\n",
       "      <th>2</th>\n",
       "      <th>3</th>\n",
       "      <th>4</th>\n",
       "    </tr>\n",
       "    <tr>\n",
       "      <th>Attrition</th>\n",
       "      <th></th>\n",
       "      <th></th>\n",
       "      <th></th>\n",
       "      <th></th>\n",
       "    </tr>\n",
       "  </thead>\n",
       "  <tbody>\n",
       "    <tr>\n",
       "      <th>0</th>\n",
       "      <td>17.19</td>\n",
       "      <td>19.79</td>\n",
       "      <td>31.71</td>\n",
       "      <td>31.31</td>\n",
       "    </tr>\n",
       "    <tr>\n",
       "      <th>1</th>\n",
       "      <td>30.38</td>\n",
       "      <td>18.14</td>\n",
       "      <td>26.16</td>\n",
       "      <td>25.32</td>\n",
       "    </tr>\n",
       "  </tbody>\n",
       "</table>\n",
       "</div>"
      ],
      "text/plain": [
       "EnvironmentSatisfaction      1      2      3      4\n",
       "Attrition                                          \n",
       "0                        17.19  19.79  31.71  31.31\n",
       "1                        30.38  18.14  26.16  25.32"
      ]
     },
     "metadata": {},
     "output_type": "display_data"
    },
    {
     "name": "stdout",
     "output_type": "stream",
     "text": [
      "Condition on columns of EnvironmentSatisfaction\n"
     ]
    },
    {
     "data": {
      "text/html": [
       "<div>\n",
       "<style scoped>\n",
       "    .dataframe tbody tr th:only-of-type {\n",
       "        vertical-align: middle;\n",
       "    }\n",
       "\n",
       "    .dataframe tbody tr th {\n",
       "        vertical-align: top;\n",
       "    }\n",
       "\n",
       "    .dataframe thead th {\n",
       "        text-align: right;\n",
       "    }\n",
       "</style>\n",
       "<table border=\"1\" class=\"dataframe\">\n",
       "  <thead>\n",
       "    <tr style=\"text-align: right;\">\n",
       "      <th>EnvironmentSatisfaction</th>\n",
       "      <th>1</th>\n",
       "      <th>2</th>\n",
       "      <th>3</th>\n",
       "      <th>4</th>\n",
       "    </tr>\n",
       "    <tr>\n",
       "      <th>Attrition</th>\n",
       "      <th></th>\n",
       "      <th></th>\n",
       "      <th></th>\n",
       "      <th></th>\n",
       "    </tr>\n",
       "  </thead>\n",
       "  <tbody>\n",
       "    <tr>\n",
       "      <th>0</th>\n",
       "      <td>74.65</td>\n",
       "      <td>85.02</td>\n",
       "      <td>86.31</td>\n",
       "      <td>86.55</td>\n",
       "    </tr>\n",
       "    <tr>\n",
       "      <th>1</th>\n",
       "      <td>25.35</td>\n",
       "      <td>14.98</td>\n",
       "      <td>13.69</td>\n",
       "      <td>13.45</td>\n",
       "    </tr>\n",
       "  </tbody>\n",
       "</table>\n",
       "</div>"
      ],
      "text/plain": [
       "EnvironmentSatisfaction      1      2      3      4\n",
       "Attrition                                          \n",
       "0                        74.65  85.02  86.31  86.55\n",
       "1                        25.35  14.98  13.69  13.45"
      ]
     },
     "metadata": {},
     "output_type": "display_data"
    },
    {
     "name": "stdout",
     "output_type": "stream",
     "text": [
      "-----------------------------------------------------------------------------------------------------------------\n",
      "\n",
      "Frequency Table of  JobInvolvement\n"
     ]
    },
    {
     "data": {
      "text/html": [
       "<div>\n",
       "<style scoped>\n",
       "    .dataframe tbody tr th:only-of-type {\n",
       "        vertical-align: middle;\n",
       "    }\n",
       "\n",
       "    .dataframe tbody tr th {\n",
       "        vertical-align: top;\n",
       "    }\n",
       "\n",
       "    .dataframe thead th {\n",
       "        text-align: right;\n",
       "    }\n",
       "</style>\n",
       "<table border=\"1\" class=\"dataframe\">\n",
       "  <thead>\n",
       "    <tr style=\"text-align: right;\">\n",
       "      <th>JobInvolvement</th>\n",
       "      <th>1</th>\n",
       "      <th>2</th>\n",
       "      <th>3</th>\n",
       "      <th>4</th>\n",
       "    </tr>\n",
       "    <tr>\n",
       "      <th>Attrition</th>\n",
       "      <th></th>\n",
       "      <th></th>\n",
       "      <th></th>\n",
       "      <th></th>\n",
       "    </tr>\n",
       "  </thead>\n",
       "  <tbody>\n",
       "    <tr>\n",
       "      <th>0</th>\n",
       "      <td>55</td>\n",
       "      <td>304</td>\n",
       "      <td>743</td>\n",
       "      <td>131</td>\n",
       "    </tr>\n",
       "    <tr>\n",
       "      <th>1</th>\n",
       "      <td>28</td>\n",
       "      <td>71</td>\n",
       "      <td>125</td>\n",
       "      <td>13</td>\n",
       "    </tr>\n",
       "  </tbody>\n",
       "</table>\n",
       "</div>"
      ],
      "text/plain": [
       "JobInvolvement   1    2    3    4\n",
       "Attrition                        \n",
       "0               55  304  743  131\n",
       "1               28   71  125   13"
      ]
     },
     "metadata": {},
     "output_type": "display_data"
    },
    {
     "name": "stdout",
     "output_type": "stream",
     "text": [
      "Joint Prob of JobInvolvement\n"
     ]
    },
    {
     "data": {
      "text/html": [
       "<div>\n",
       "<style scoped>\n",
       "    .dataframe tbody tr th:only-of-type {\n",
       "        vertical-align: middle;\n",
       "    }\n",
       "\n",
       "    .dataframe tbody tr th {\n",
       "        vertical-align: top;\n",
       "    }\n",
       "\n",
       "    .dataframe thead th {\n",
       "        text-align: right;\n",
       "    }\n",
       "</style>\n",
       "<table border=\"1\" class=\"dataframe\">\n",
       "  <thead>\n",
       "    <tr style=\"text-align: right;\">\n",
       "      <th>JobInvolvement</th>\n",
       "      <th>1</th>\n",
       "      <th>2</th>\n",
       "      <th>3</th>\n",
       "      <th>4</th>\n",
       "    </tr>\n",
       "    <tr>\n",
       "      <th>Attrition</th>\n",
       "      <th></th>\n",
       "      <th></th>\n",
       "      <th></th>\n",
       "      <th></th>\n",
       "    </tr>\n",
       "  </thead>\n",
       "  <tbody>\n",
       "    <tr>\n",
       "      <th>0</th>\n",
       "      <td>3.74</td>\n",
       "      <td>20.68</td>\n",
       "      <td>50.54</td>\n",
       "      <td>8.91</td>\n",
       "    </tr>\n",
       "    <tr>\n",
       "      <th>1</th>\n",
       "      <td>1.90</td>\n",
       "      <td>4.83</td>\n",
       "      <td>8.50</td>\n",
       "      <td>0.88</td>\n",
       "    </tr>\n",
       "  </tbody>\n",
       "</table>\n",
       "</div>"
      ],
      "text/plain": [
       "JobInvolvement     1      2      3     4\n",
       "Attrition                               \n",
       "0               3.74  20.68  50.54  8.91\n",
       "1               1.90   4.83   8.50  0.88"
      ]
     },
     "metadata": {},
     "output_type": "display_data"
    },
    {
     "name": "stdout",
     "output_type": "stream",
     "text": [
      "Condition on rows of JobInvolvement\n"
     ]
    },
    {
     "data": {
      "text/html": [
       "<div>\n",
       "<style scoped>\n",
       "    .dataframe tbody tr th:only-of-type {\n",
       "        vertical-align: middle;\n",
       "    }\n",
       "\n",
       "    .dataframe tbody tr th {\n",
       "        vertical-align: top;\n",
       "    }\n",
       "\n",
       "    .dataframe thead th {\n",
       "        text-align: right;\n",
       "    }\n",
       "</style>\n",
       "<table border=\"1\" class=\"dataframe\">\n",
       "  <thead>\n",
       "    <tr style=\"text-align: right;\">\n",
       "      <th>JobInvolvement</th>\n",
       "      <th>1</th>\n",
       "      <th>2</th>\n",
       "      <th>3</th>\n",
       "      <th>4</th>\n",
       "    </tr>\n",
       "    <tr>\n",
       "      <th>Attrition</th>\n",
       "      <th></th>\n",
       "      <th></th>\n",
       "      <th></th>\n",
       "      <th></th>\n",
       "    </tr>\n",
       "  </thead>\n",
       "  <tbody>\n",
       "    <tr>\n",
       "      <th>0</th>\n",
       "      <td>4.46</td>\n",
       "      <td>24.66</td>\n",
       "      <td>60.26</td>\n",
       "      <td>10.62</td>\n",
       "    </tr>\n",
       "    <tr>\n",
       "      <th>1</th>\n",
       "      <td>11.81</td>\n",
       "      <td>29.96</td>\n",
       "      <td>52.74</td>\n",
       "      <td>5.49</td>\n",
       "    </tr>\n",
       "  </tbody>\n",
       "</table>\n",
       "</div>"
      ],
      "text/plain": [
       "JobInvolvement      1      2      3      4\n",
       "Attrition                                 \n",
       "0                4.46  24.66  60.26  10.62\n",
       "1               11.81  29.96  52.74   5.49"
      ]
     },
     "metadata": {},
     "output_type": "display_data"
    },
    {
     "name": "stdout",
     "output_type": "stream",
     "text": [
      "Condition on columns of JobInvolvement\n"
     ]
    },
    {
     "data": {
      "text/html": [
       "<div>\n",
       "<style scoped>\n",
       "    .dataframe tbody tr th:only-of-type {\n",
       "        vertical-align: middle;\n",
       "    }\n",
       "\n",
       "    .dataframe tbody tr th {\n",
       "        vertical-align: top;\n",
       "    }\n",
       "\n",
       "    .dataframe thead th {\n",
       "        text-align: right;\n",
       "    }\n",
       "</style>\n",
       "<table border=\"1\" class=\"dataframe\">\n",
       "  <thead>\n",
       "    <tr style=\"text-align: right;\">\n",
       "      <th>JobInvolvement</th>\n",
       "      <th>1</th>\n",
       "      <th>2</th>\n",
       "      <th>3</th>\n",
       "      <th>4</th>\n",
       "    </tr>\n",
       "    <tr>\n",
       "      <th>Attrition</th>\n",
       "      <th></th>\n",
       "      <th></th>\n",
       "      <th></th>\n",
       "      <th></th>\n",
       "    </tr>\n",
       "  </thead>\n",
       "  <tbody>\n",
       "    <tr>\n",
       "      <th>0</th>\n",
       "      <td>66.27</td>\n",
       "      <td>81.07</td>\n",
       "      <td>85.6</td>\n",
       "      <td>90.97</td>\n",
       "    </tr>\n",
       "    <tr>\n",
       "      <th>1</th>\n",
       "      <td>33.73</td>\n",
       "      <td>18.93</td>\n",
       "      <td>14.4</td>\n",
       "      <td>9.03</td>\n",
       "    </tr>\n",
       "  </tbody>\n",
       "</table>\n",
       "</div>"
      ],
      "text/plain": [
       "JobInvolvement      1      2     3      4\n",
       "Attrition                                \n",
       "0               66.27  81.07  85.6  90.97\n",
       "1               33.73  18.93  14.4   9.03"
      ]
     },
     "metadata": {},
     "output_type": "display_data"
    },
    {
     "name": "stdout",
     "output_type": "stream",
     "text": [
      "-----------------------------------------------------------------------------------------------------------------\n",
      "\n"
     ]
    }
   ],
   "source": [
    "l = [\"BusinessTravel\", \"Department\",\"EducationField\",\"Gender\", \"MaritalStatus\", \"OverTime\",'JobLevel','JobSatisfaction',\n",
    "     'WorkLifeBalance','EnvironmentSatisfaction','JobInvolvement']\n",
    "for i in range(len(l)):\n",
    "    table = pd.crosstab(emp.Attrition, columns=emp[l[i]])\n",
    "    n = len(emp)\n",
    "    print(\"Frequency Table of \",l[i] )\n",
    "    display(table)\n",
    "    coltotal = table.sum(axis=0)\n",
    "    # coltotal\n",
    "    rowtotal = table.sum(axis=1)\n",
    "    #rowtotal\n",
    "    print(\"Joint Prob of\", l[i])\n",
    "    display(round(table/len(emp) *100, 2))\n",
    "    print(\"Condition on rows of\", l[i])\n",
    "    display(round(table.div(rowtotal, axis=0) *100,2))\n",
    "    print(\"Condition on columns of\", l[i])\n",
    "    display(round(table.div(coltotal, axis = 1) *100,2))\n",
    "    print(\"-----------------------------------------------------------------------------------------------------------------\\n\")"
   ]
  },
  {
   "cell_type": "markdown",
   "id": "273bd557",
   "metadata": {},
   "source": [
    "### Bivariate Analysis for Continous Variables"
   ]
  },
  {
   "cell_type": "markdown",
   "id": "1084d9c2",
   "metadata": {},
   "source": [
    "###### Monthly income of department"
   ]
  },
  {
   "cell_type": "code",
   "execution_count": 44,
   "id": "a1c11d07",
   "metadata": {},
   "outputs": [
    {
     "data": {
      "image/png": "[encoded data removed]",
      "text/plain": [
       "<Figure size 360x504 with 1 Axes>"
      ]
     },
     "metadata": {
      "needs_background": "light"
     },
     "output_type": "display_data"
    }
   ],
   "source": [
    "emp.boxplot(column='MonthlyIncome',\n",
    "            by = 'Department',\n",
    "            grid = False,\n",
    "            figsize= (5,7),\n",
    "            notch =True,\n",
    "             rot=90) #rotates x label by 90 degrees\n",
    "plt.ylabel('Monthly Income of employee',fontsize =12)\n",
    "plt.xlabel('Department')\n",
    "#plt.title('Boxplot of Weight', fontsize=14)\n",
    "plt.show()"
   ]
  },
  {
   "cell_type": "markdown",
   "id": "b6e51a90",
   "metadata": {},
   "source": [
    "- In the company employees from sales department are getting paid more.  "
   ]
  },
  {
   "cell_type": "markdown",
   "id": "2485f3f1",
   "metadata": {},
   "source": [
    "**Job level and Department**"
   ]
  },
  {
   "cell_type": "code",
   "execution_count": 48,
   "id": "e2a42536",
   "metadata": {},
   "outputs": [
    {
     "data": {
      "text/html": [
       "<div>\n",
       "<style scoped>\n",
       "    .dataframe tbody tr th:only-of-type {\n",
       "        vertical-align: middle;\n",
       "    }\n",
       "\n",
       "    .dataframe tbody tr th {\n",
       "        vertical-align: top;\n",
       "    }\n",
       "\n",
       "    .dataframe thead th {\n",
       "        text-align: right;\n",
       "    }\n",
       "</style>\n",
       "<table border=\"1\" class=\"dataframe\">\n",
       "  <thead>\n",
       "    <tr style=\"text-align: right;\">\n",
       "      <th>JobLevel</th>\n",
       "      <th>1</th>\n",
       "      <th>2</th>\n",
       "      <th>3</th>\n",
       "      <th>4</th>\n",
       "      <th>5</th>\n",
       "    </tr>\n",
       "    <tr>\n",
       "      <th>Department</th>\n",
       "      <th></th>\n",
       "      <th></th>\n",
       "      <th></th>\n",
       "      <th></th>\n",
       "      <th></th>\n",
       "    </tr>\n",
       "  </thead>\n",
       "  <tbody>\n",
       "    <tr>\n",
       "      <th>Human Resources</th>\n",
       "      <td>0.680272</td>\n",
       "      <td>0.000000</td>\n",
       "      <td>0.136054</td>\n",
       "      <td>0.000000</td>\n",
       "      <td>0.000000</td>\n",
       "    </tr>\n",
       "    <tr>\n",
       "      <th>Research &amp; Development</th>\n",
       "      <td>6.870748</td>\n",
       "      <td>1.020408</td>\n",
       "      <td>0.884354</td>\n",
       "      <td>0.068027</td>\n",
       "      <td>0.204082</td>\n",
       "    </tr>\n",
       "    <tr>\n",
       "      <th>Sales</th>\n",
       "      <td>2.176871</td>\n",
       "      <td>2.517007</td>\n",
       "      <td>1.156463</td>\n",
       "      <td>0.272109</td>\n",
       "      <td>0.136054</td>\n",
       "    </tr>\n",
       "  </tbody>\n",
       "</table>\n",
       "</div>"
      ],
      "text/plain": [
       "JobLevel                       1         2         3         4         5\n",
       "Department                                                              \n",
       "Human Resources         0.680272  0.000000  0.136054  0.000000  0.000000\n",
       "Research & Development  6.870748  1.020408  0.884354  0.068027  0.204082\n",
       "Sales                   2.176871  2.517007  1.156463  0.272109  0.136054"
      ]
     },
     "execution_count": 48,
     "metadata": {},
     "output_type": "execute_result"
    }
   ],
   "source": [
    "table = pd.crosstab(emp1.Department,columns= emp1.JobLevel)/len(emp) *100\n",
    "table"
   ]
  },
  {
   "cell_type": "markdown",
   "id": "71f64d3d",
   "metadata": {},
   "source": [
    "#### Monthly Income with Marital Status"
   ]
  },
  {
   "cell_type": "code",
   "execution_count": 49,
   "id": "be0cc1c3",
   "metadata": {},
   "outputs": [
    {
     "data": {
      "image/png": "[encoded data removed]",
      "text/plain": [
       "<Figure size 360x504 with 1 Axes>"
      ]
     },
     "metadata": {
      "needs_background": "light"
     },
     "output_type": "display_data"
    }
   ],
   "source": [
    "emp.boxplot(column=['MonthlyIncome'],\n",
    "            by = 'MaritalStatus', \n",
    "            grid = False,\n",
    "            figsize= (5,7),\n",
    "            notch =True,\n",
    "             rot=90)\n",
    "plt.show()"
   ]
  },
  {
   "cell_type": "markdown",
   "id": "8777cc8f",
   "metadata": {},
   "source": [
    "#### Total Working Years with Attrition"
   ]
  },
  {
   "cell_type": "code",
   "execution_count": 50,
   "id": "f42b8e58",
   "metadata": {},
   "outputs": [
    {
     "data": {
      "image/png": "[encoded data removed]",
      "text/plain": [
       "<Figure size 360x504 with 1 Axes>"
      ]
     },
     "metadata": {
      "needs_background": "light"
     },
     "output_type": "display_data"
    }
   ],
   "source": [
    "emp.boxplot(column='TotalWorkingYears',\n",
    "            by = 'Attrition',\n",
    "            grid = False,\n",
    "            figsize= (5,7),\n",
    "            notch =True,\n",
    "             rot=90)\n",
    "plt.ylabel('Total Working Years')\n",
    "plt.show()"
   ]
  },
  {
   "cell_type": "markdown",
   "id": "256270dd",
   "metadata": {},
   "source": [
    "The shape of box plot for employee leaving the company is narrow so,we can infer that employees with less working years have more chances of leaving the company"
   ]
  },
  {
   "cell_type": "markdown",
   "id": "1ef7c9a1",
   "metadata": {},
   "source": [
    "#### Years At Company and Attrition"
   ]
  },
  {
   "cell_type": "code",
   "execution_count": 51,
   "id": "a2e6c7da",
   "metadata": {},
   "outputs": [
    {
     "data": {
      "image/png": "[encoded data removed]",
      "text/plain": [
       "<Figure size 360x504 with 2 Axes>"
      ]
     },
     "metadata": {
      "needs_background": "light"
     },
     "output_type": "display_data"
    }
   ],
   "source": [
    "emp.boxplot(column=['YearsAtCompany','TotalWorkingYears'],\n",
    "            by = 'Attrition',\n",
    "            grid = False,\n",
    "            figsize= (5,7),\n",
    "            notch =True,\n",
    "             rot=90)\n",
    "plt.show()"
   ]
  },
  {
   "cell_type": "code",
   "execution_count": 52,
   "id": "becd15d4",
   "metadata": {},
   "outputs": [
    {
     "data": {
      "image/png": "[encoded data removed]",
      "text/plain": [
       "<Figure size 360x504 with 1 Axes>"
      ]
     },
     "metadata": {
      "needs_background": "light"
     },
     "output_type": "display_data"
    }
   ],
   "source": [
    "emp.boxplot(column='YearsInCurrentRole',\n",
    "            by = 'Attrition',\n",
    "            grid = False,\n",
    "            figsize= (5,7),\n",
    "            notch =True,\n",
    "             rot=90)\n",
    "plt.show()"
   ]
  },
  {
   "cell_type": "markdown",
   "id": "a2912bfe",
   "metadata": {},
   "source": [
    "#### Distance From Home"
   ]
  },
  {
   "cell_type": "code",
   "execution_count": 53,
   "id": "0350d66c",
   "metadata": {},
   "outputs": [
    {
     "data": {
      "image/png": "[encoded data removed]",
      "text/plain": [
       "<Figure size 360x504 with 1 Axes>"
      ]
     },
     "metadata": {
      "needs_background": "light"
     },
     "output_type": "display_data"
    }
   ],
   "source": [
    "emp.boxplot(column='DistanceFromHome',\n",
    "            by = 'Attrition',\n",
    "            grid = False,\n",
    "            figsize= (5,7),\n",
    "            notch =True,\n",
    "             rot=90)\n",
    "plt.show()"
   ]
  },
  {
   "cell_type": "code",
   "execution_count": 54,
   "id": "4fc65b5e",
   "metadata": {},
   "outputs": [
    {
     "data": {
      "text/plain": [
       "Attrition\n",
       "0     8.915653\n",
       "1    10.632911\n",
       "Name: DistanceFromHome, dtype: float64"
      ]
     },
     "execution_count": 54,
     "metadata": {},
     "output_type": "execute_result"
    }
   ],
   "source": [
    "emp.DistanceFromHome.groupby(emp.Attrition).mean()"
   ]
  },
  {
   "cell_type": "markdown",
   "id": "354d7558",
   "metadata": {},
   "source": [
    "-According to our analysis mean distance is more for employee leaving the company, so we can infer that distance from home is affecting attrition rate"
   ]
  },
  {
   "cell_type": "markdown",
   "id": "0867c5f5",
   "metadata": {},
   "source": [
    "#### Age"
   ]
  },
  {
   "cell_type": "code",
   "execution_count": 55,
   "id": "b125eb33",
   "metadata": {},
   "outputs": [
    {
     "data": {
      "image/png": "[encoded data removed]",
      "text/plain": [
       "<Figure size 360x504 with 1 Axes>"
      ]
     },
     "metadata": {
      "needs_background": "light"
     },
     "output_type": "display_data"
    }
   ],
   "source": [
    "emp.boxplot(column=['Age'],\n",
    "            by = 'Attrition', \n",
    "            grid = False,\n",
    "            figsize= (5,7),\n",
    "            notch =True,\n",
    "             rot=90)\n",
    "plt.show()"
   ]
  },
  {
   "cell_type": "code",
   "execution_count": 56,
   "id": "b0a476f8",
   "metadata": {},
   "outputs": [
    {
     "data": {
      "text/plain": [
       "count    237.000000\n",
       "mean      33.607595\n",
       "std        9.689350\n",
       "min       18.000000\n",
       "25%       28.000000\n",
       "50%       32.000000\n",
       "75%       39.000000\n",
       "max       58.000000\n",
       "Name: Age, dtype: float64"
      ]
     },
     "execution_count": 56,
     "metadata": {},
     "output_type": "execute_result"
    }
   ],
   "source": [
    "emp1.Age.describe()"
   ]
  },
  {
   "cell_type": "markdown",
   "id": "39c5e6ca",
   "metadata": {},
   "source": [
    "## Trivariate Analysis with Attrition"
   ]
  },
  {
   "cell_type": "markdown",
   "id": "2daff97f",
   "metadata": {},
   "source": [
    "####  Over time vs Martial Status"
   ]
  },
  {
   "cell_type": "code",
   "execution_count": 89,
   "id": "4de73f25",
   "metadata": {},
   "outputs": [],
   "source": [
    "emp_Over=emp[emp.OverTime=='Yes']  #Creating the data set where overtime is yes \n",
    "emp_notover=emp[emp.OverTime=='No'] #Creating the data set where overtime is yes"
   ]
  },
  {
   "cell_type": "code",
   "execution_count": 90,
   "id": "034f6bef",
   "metadata": {},
   "outputs": [
    {
     "data": {
      "text/html": [
       "<div>\n",
       "<style scoped>\n",
       "    .dataframe tbody tr th:only-of-type {\n",
       "        vertical-align: middle;\n",
       "    }\n",
       "\n",
       "    .dataframe tbody tr th {\n",
       "        vertical-align: top;\n",
       "    }\n",
       "\n",
       "    .dataframe thead th {\n",
       "        text-align: right;\n",
       "    }\n",
       "</style>\n",
       "<table border=\"1\" class=\"dataframe\">\n",
       "  <thead>\n",
       "    <tr style=\"text-align: right;\">\n",
       "      <th>MaritalStatus</th>\n",
       "      <th>Divorced</th>\n",
       "      <th>Married</th>\n",
       "      <th>Single</th>\n",
       "    </tr>\n",
       "    <tr>\n",
       "      <th>Attrition</th>\n",
       "      <th></th>\n",
       "      <th></th>\n",
       "      <th></th>\n",
       "    </tr>\n",
       "  </thead>\n",
       "  <tbody>\n",
       "    <tr>\n",
       "      <th>0</th>\n",
       "      <td>80.808081</td>\n",
       "      <td>76.88172</td>\n",
       "      <td>50.381679</td>\n",
       "    </tr>\n",
       "    <tr>\n",
       "      <th>1</th>\n",
       "      <td>19.191919</td>\n",
       "      <td>23.11828</td>\n",
       "      <td>49.618321</td>\n",
       "    </tr>\n",
       "  </tbody>\n",
       "</table>\n",
       "</div>"
      ],
      "text/plain": [
       "MaritalStatus   Divorced   Married     Single\n",
       "Attrition                                    \n",
       "0              80.808081  76.88172  50.381679\n",
       "1              19.191919  23.11828  49.618321"
      ]
     },
     "execution_count": 90,
     "metadata": {},
     "output_type": "execute_result"
    }
   ],
   "source": [
    "table=pd.crosstab(emp_Over.Attrition,columns=emp_Over.MaritalStatus)\n",
    "table\n",
    "coltotal = table.sum(axis=0)\n",
    "table/coltotal*100"
   ]
  },
  {
   "cell_type": "code",
   "execution_count": 91,
   "id": "798ec970",
   "metadata": {},
   "outputs": [
    {
     "data": {
      "text/html": [
       "<div>\n",
       "<style scoped>\n",
       "    .dataframe tbody tr th:only-of-type {\n",
       "        vertical-align: middle;\n",
       "    }\n",
       "\n",
       "    .dataframe tbody tr th {\n",
       "        vertical-align: top;\n",
       "    }\n",
       "\n",
       "    .dataframe thead th {\n",
       "        text-align: right;\n",
       "    }\n",
       "</style>\n",
       "<table border=\"1\" class=\"dataframe\">\n",
       "  <thead>\n",
       "    <tr style=\"text-align: right;\">\n",
       "      <th>MaritalStatus</th>\n",
       "      <th>Divorced</th>\n",
       "      <th>Married</th>\n",
       "      <th>Single</th>\n",
       "    </tr>\n",
       "    <tr>\n",
       "      <th>Attrition</th>\n",
       "      <th></th>\n",
       "      <th></th>\n",
       "      <th></th>\n",
       "    </tr>\n",
       "  </thead>\n",
       "  <tbody>\n",
       "    <tr>\n",
       "      <th>0</th>\n",
       "      <td>93.859649</td>\n",
       "      <td>91.581109</td>\n",
       "      <td>83.775811</td>\n",
       "    </tr>\n",
       "    <tr>\n",
       "      <th>1</th>\n",
       "      <td>6.140351</td>\n",
       "      <td>8.418891</td>\n",
       "      <td>16.224189</td>\n",
       "    </tr>\n",
       "  </tbody>\n",
       "</table>\n",
       "</div>"
      ],
      "text/plain": [
       "MaritalStatus   Divorced    Married     Single\n",
       "Attrition                                     \n",
       "0              93.859649  91.581109  83.775811\n",
       "1               6.140351   8.418891  16.224189"
      ]
     },
     "execution_count": 91,
     "metadata": {},
     "output_type": "execute_result"
    }
   ],
   "source": [
    "table=pd.crosstab(emp_notover.Attrition,columns=emp_notover.MaritalStatus)\n",
    "table\n",
    "coltotal = table.sum(axis=0)\n",
    "table/coltotal*100"
   ]
  },
  {
   "cell_type": "markdown",
   "id": "a3240f69",
   "metadata": {},
   "source": [
    "###### Joint Probabilty"
   ]
  },
  {
   "cell_type": "code",
   "execution_count": 92,
   "id": "c9440520",
   "metadata": {},
   "outputs": [
    {
     "data": {
      "text/html": [
       "<div>\n",
       "<style scoped>\n",
       "    .dataframe tbody tr th:only-of-type {\n",
       "        vertical-align: middle;\n",
       "    }\n",
       "\n",
       "    .dataframe tbody tr th {\n",
       "        vertical-align: top;\n",
       "    }\n",
       "\n",
       "    .dataframe thead th {\n",
       "        text-align: right;\n",
       "    }\n",
       "</style>\n",
       "<table border=\"1\" class=\"dataframe\">\n",
       "  <thead>\n",
       "    <tr style=\"text-align: right;\">\n",
       "      <th></th>\n",
       "      <th>MaritalStatus</th>\n",
       "      <th>Divorced</th>\n",
       "      <th>Married</th>\n",
       "      <th>Single</th>\n",
       "    </tr>\n",
       "    <tr>\n",
       "      <th>OverTime</th>\n",
       "      <th>Attrition</th>\n",
       "      <th></th>\n",
       "      <th></th>\n",
       "      <th></th>\n",
       "    </tr>\n",
       "  </thead>\n",
       "  <tbody>\n",
       "    <tr>\n",
       "      <th rowspan=\"2\" valign=\"top\">No</th>\n",
       "      <th>0</th>\n",
       "      <td>0.145578</td>\n",
       "      <td>0.303401</td>\n",
       "      <td>0.193197</td>\n",
       "    </tr>\n",
       "    <tr>\n",
       "      <th>1</th>\n",
       "      <td>0.009524</td>\n",
       "      <td>0.027891</td>\n",
       "      <td>0.037415</td>\n",
       "    </tr>\n",
       "    <tr>\n",
       "      <th rowspan=\"2\" valign=\"top\">Yes</th>\n",
       "      <th>0</th>\n",
       "      <td>0.054422</td>\n",
       "      <td>0.097279</td>\n",
       "      <td>0.044898</td>\n",
       "    </tr>\n",
       "    <tr>\n",
       "      <th>1</th>\n",
       "      <td>0.012925</td>\n",
       "      <td>0.029252</td>\n",
       "      <td>0.044218</td>\n",
       "    </tr>\n",
       "  </tbody>\n",
       "</table>\n",
       "</div>"
      ],
      "text/plain": [
       "MaritalStatus       Divorced   Married    Single\n",
       "OverTime Attrition                              \n",
       "No       0          0.145578  0.303401  0.193197\n",
       "         1          0.009524  0.027891  0.037415\n",
       "Yes      0          0.054422  0.097279  0.044898\n",
       "         1          0.012925  0.029252  0.044218"
      ]
     },
     "execution_count": 92,
     "metadata": {},
     "output_type": "execute_result"
    }
   ],
   "source": [
    "table=pd.crosstab([emp.OverTime,emp.Attrition],columns=emp.MaritalStatus)\n",
    "table\n",
    "coltotal = table.sum(axis=0)\n",
    "table/len(emp)"
   ]
  },
  {
   "cell_type": "markdown",
   "id": "e6aa052c",
   "metadata": {},
   "source": [
    "#### Job Level and Department"
   ]
  },
  {
   "cell_type": "code",
   "execution_count": 62,
   "id": "3ecf8631",
   "metadata": {},
   "outputs": [
    {
     "data": {
      "image/png": "[encoded data removed]",
      "text/plain": [
       "<Figure size 360x504 with 1 Axes>"
      ]
     },
     "metadata": {
      "needs_background": "light"
     },
     "output_type": "display_data"
    }
   ],
   "source": [
    "emp.boxplot(column=['MonthlyIncome'],\n",
    "            by = ['Department'], \n",
    "            grid = False,\n",
    "            figsize= (5,7),\n",
    "            notch =True,\n",
    "             rot=90)\n",
    "plt.show()"
   ]
  },
  {
   "cell_type": "code",
   "execution_count": 63,
   "id": "ebc77b66",
   "metadata": {},
   "outputs": [
    {
     "data": {
      "text/html": [
       "<div>\n",
       "<style scoped>\n",
       "    .dataframe tbody tr th:only-of-type {\n",
       "        vertical-align: middle;\n",
       "    }\n",
       "\n",
       "    .dataframe tbody tr th {\n",
       "        vertical-align: top;\n",
       "    }\n",
       "\n",
       "    .dataframe thead tr th {\n",
       "        text-align: left;\n",
       "    }\n",
       "\n",
       "    .dataframe thead tr:last-of-type th {\n",
       "        text-align: right;\n",
       "    }\n",
       "</style>\n",
       "<table border=\"1\" class=\"dataframe\">\n",
       "  <thead>\n",
       "    <tr>\n",
       "      <th>Department</th>\n",
       "      <th colspan=\"2\" halign=\"left\">Human Resources</th>\n",
       "      <th colspan=\"2\" halign=\"left\">Research &amp; Development</th>\n",
       "      <th colspan=\"2\" halign=\"left\">Sales</th>\n",
       "    </tr>\n",
       "    <tr>\n",
       "      <th>Attrition</th>\n",
       "      <th>0</th>\n",
       "      <th>1</th>\n",
       "      <th>0</th>\n",
       "      <th>1</th>\n",
       "      <th>0</th>\n",
       "      <th>1</th>\n",
       "    </tr>\n",
       "    <tr>\n",
       "      <th>JobLevel</th>\n",
       "      <th></th>\n",
       "      <th></th>\n",
       "      <th></th>\n",
       "      <th></th>\n",
       "      <th></th>\n",
       "      <th></th>\n",
       "    </tr>\n",
       "  </thead>\n",
       "  <tbody>\n",
       "    <tr>\n",
       "      <th>1</th>\n",
       "      <td>45.098039</td>\n",
       "      <td>83.333333</td>\n",
       "      <td>40.217391</td>\n",
       "      <td>75.939850</td>\n",
       "      <td>12.429379</td>\n",
       "      <td>34.782609</td>\n",
       "    </tr>\n",
       "    <tr>\n",
       "      <th>2</th>\n",
       "      <td>25.490196</td>\n",
       "      <td>0.000000</td>\n",
       "      <td>32.125604</td>\n",
       "      <td>11.278195</td>\n",
       "      <td>57.344633</td>\n",
       "      <td>40.217391</td>\n",
       "    </tr>\n",
       "    <tr>\n",
       "      <th>3</th>\n",
       "      <td>7.843137</td>\n",
       "      <td>16.666667</td>\n",
       "      <td>14.009662</td>\n",
       "      <td>9.774436</td>\n",
       "      <td>18.644068</td>\n",
       "      <td>18.478261</td>\n",
       "    </tr>\n",
       "    <tr>\n",
       "      <th>4</th>\n",
       "      <td>7.843137</td>\n",
       "      <td>0.000000</td>\n",
       "      <td>8.091787</td>\n",
       "      <td>0.751880</td>\n",
       "      <td>8.474576</td>\n",
       "      <td>4.347826</td>\n",
       "    </tr>\n",
       "    <tr>\n",
       "      <th>5</th>\n",
       "      <td>13.725490</td>\n",
       "      <td>0.000000</td>\n",
       "      <td>5.555556</td>\n",
       "      <td>2.255639</td>\n",
       "      <td>3.107345</td>\n",
       "      <td>2.173913</td>\n",
       "    </tr>\n",
       "  </tbody>\n",
       "</table>\n",
       "</div>"
      ],
      "text/plain": [
       "Department Human Resources            Research & Development             \\\n",
       "Attrition                0          1                      0          1   \n",
       "JobLevel                                                                  \n",
       "1                45.098039  83.333333              40.217391  75.939850   \n",
       "2                25.490196   0.000000              32.125604  11.278195   \n",
       "3                 7.843137  16.666667              14.009662   9.774436   \n",
       "4                 7.843137   0.000000               8.091787   0.751880   \n",
       "5                13.725490   0.000000               5.555556   2.255639   \n",
       "\n",
       "Department      Sales             \n",
       "Attrition           0          1  \n",
       "JobLevel                          \n",
       "1           12.429379  34.782609  \n",
       "2           57.344633  40.217391  \n",
       "3           18.644068  18.478261  \n",
       "4            8.474576   4.347826  \n",
       "5            3.107345   2.173913  "
      ]
     },
     "execution_count": 63,
     "metadata": {},
     "output_type": "execute_result"
    }
   ],
   "source": [
    "table=pd.crosstab(emp.JobLevel, columns=[emp.Department,emp.Attrition])\n",
    "coltotal = table.sum(axis=0)\n",
    "table.div(coltotal, axis = 1)*100"
   ]
  },
  {
   "cell_type": "code",
   "execution_count": 64,
   "id": "bcce0040",
   "metadata": {},
   "outputs": [],
   "source": [
    "table=pd.crosstab(emp.Attrition, columns=emp.Department)"
   ]
  },
  {
   "cell_type": "markdown",
   "id": "c8f875b0",
   "metadata": {},
   "source": [
    "####  Job Level vs Education "
   ]
  },
  {
   "cell_type": "code",
   "execution_count": 65,
   "id": "111927f3",
   "metadata": {},
   "outputs": [],
   "source": [
    "emp_J1=emp[emp.JobLevel==1] #Creating data set for different job level.\n",
    "emp_J2=emp[emp.JobLevel==2]\n",
    "emp_J3=emp[emp.JobLevel==3]\n",
    "emp_J4=emp[emp.JobLevel==4]\n",
    "emp_J5=emp[emp.JobLevel==5]\n"
   ]
  },
  {
   "cell_type": "code",
   "execution_count": 66,
   "id": "2ee355fe",
   "metadata": {},
   "outputs": [
    {
     "data": {
      "text/html": [
       "<div>\n",
       "<style scoped>\n",
       "    .dataframe tbody tr th:only-of-type {\n",
       "        vertical-align: middle;\n",
       "    }\n",
       "\n",
       "    .dataframe tbody tr th {\n",
       "        vertical-align: top;\n",
       "    }\n",
       "\n",
       "    .dataframe thead th {\n",
       "        text-align: right;\n",
       "    }\n",
       "</style>\n",
       "<table border=\"1\" class=\"dataframe\">\n",
       "  <thead>\n",
       "    <tr style=\"text-align: right;\">\n",
       "      <th>EducationField</th>\n",
       "      <th>Human Resources</th>\n",
       "      <th>Life Sciences</th>\n",
       "      <th>Marketing</th>\n",
       "      <th>Medical</th>\n",
       "      <th>Other</th>\n",
       "      <th>Technical Degree</th>\n",
       "    </tr>\n",
       "    <tr>\n",
       "      <th>Attrition</th>\n",
       "      <th></th>\n",
       "      <th></th>\n",
       "      <th></th>\n",
       "      <th></th>\n",
       "      <th></th>\n",
       "      <th></th>\n",
       "    </tr>\n",
       "  </thead>\n",
       "  <tbody>\n",
       "    <tr>\n",
       "      <th>0</th>\n",
       "      <td>53.846154</td>\n",
       "      <td>75.545852</td>\n",
       "      <td>42.857143</td>\n",
       "      <td>79.255319</td>\n",
       "      <td>80.0</td>\n",
       "      <td>61.290323</td>\n",
       "    </tr>\n",
       "    <tr>\n",
       "      <th>1</th>\n",
       "      <td>46.153846</td>\n",
       "      <td>24.454148</td>\n",
       "      <td>57.142857</td>\n",
       "      <td>20.744681</td>\n",
       "      <td>20.0</td>\n",
       "      <td>38.709677</td>\n",
       "    </tr>\n",
       "  </tbody>\n",
       "</table>\n",
       "</div>"
      ],
      "text/plain": [
       "EducationField  Human Resources  Life Sciences  Marketing    Medical  Other  \\\n",
       "Attrition                                                                     \n",
       "0                     53.846154      75.545852  42.857143  79.255319   80.0   \n",
       "1                     46.153846      24.454148  57.142857  20.744681   20.0   \n",
       "\n",
       "EducationField  Technical Degree  \n",
       "Attrition                         \n",
       "0                      61.290323  \n",
       "1                      38.709677  "
      ]
     },
     "execution_count": 66,
     "metadata": {},
     "output_type": "execute_result"
    }
   ],
   "source": [
    "table=pd.crosstab(emp_J1.Attrition,columns=emp_J1.EducationField)\n",
    "table\n",
    "coltotal = table.sum(axis=0)\n",
    "table/coltotal*100"
   ]
  },
  {
   "cell_type": "code",
   "execution_count": 67,
   "id": "72690a80",
   "metadata": {},
   "outputs": [
    {
     "data": {
      "text/html": [
       "<div>\n",
       "<style scoped>\n",
       "    .dataframe tbody tr th:only-of-type {\n",
       "        vertical-align: middle;\n",
       "    }\n",
       "\n",
       "    .dataframe tbody tr th {\n",
       "        vertical-align: top;\n",
       "    }\n",
       "\n",
       "    .dataframe thead th {\n",
       "        text-align: right;\n",
       "    }\n",
       "</style>\n",
       "<table border=\"1\" class=\"dataframe\">\n",
       "  <thead>\n",
       "    <tr style=\"text-align: right;\">\n",
       "      <th>EducationField</th>\n",
       "      <th>Human Resources</th>\n",
       "      <th>Life Sciences</th>\n",
       "      <th>Marketing</th>\n",
       "      <th>Medical</th>\n",
       "      <th>Other</th>\n",
       "      <th>Technical Degree</th>\n",
       "    </tr>\n",
       "    <tr>\n",
       "      <th>Attrition</th>\n",
       "      <th></th>\n",
       "      <th></th>\n",
       "      <th></th>\n",
       "      <th></th>\n",
       "      <th></th>\n",
       "      <th></th>\n",
       "    </tr>\n",
       "  </thead>\n",
       "  <tbody>\n",
       "    <tr>\n",
       "      <th>0</th>\n",
       "      <td>100.0</td>\n",
       "      <td>92.592593</td>\n",
       "      <td>83.908046</td>\n",
       "      <td>90.849673</td>\n",
       "      <td>88.235294</td>\n",
       "      <td>89.189189</td>\n",
       "    </tr>\n",
       "    <tr>\n",
       "      <th>1</th>\n",
       "      <td>0.0</td>\n",
       "      <td>7.407407</td>\n",
       "      <td>16.091954</td>\n",
       "      <td>9.150327</td>\n",
       "      <td>11.764706</td>\n",
       "      <td>10.810811</td>\n",
       "    </tr>\n",
       "  </tbody>\n",
       "</table>\n",
       "</div>"
      ],
      "text/plain": [
       "EducationField  Human Resources  Life Sciences  Marketing    Medical  \\\n",
       "Attrition                                                              \n",
       "0                         100.0      92.592593  83.908046  90.849673   \n",
       "1                           0.0       7.407407  16.091954   9.150327   \n",
       "\n",
       "EducationField      Other  Technical Degree  \n",
       "Attrition                                    \n",
       "0               88.235294         89.189189  \n",
       "1               11.764706         10.810811  "
      ]
     },
     "execution_count": 67,
     "metadata": {},
     "output_type": "execute_result"
    }
   ],
   "source": [
    "table=pd.crosstab(emp_J2.Attrition,columns=emp_J2.EducationField)\n",
    "table\n",
    "coltotal = table.sum(axis=0)\n",
    "table/coltotal*100"
   ]
  },
  {
   "cell_type": "code",
   "execution_count": 68,
   "id": "d16bd6dc",
   "metadata": {},
   "outputs": [
    {
     "data": {
      "text/html": [
       "<div>\n",
       "<style scoped>\n",
       "    .dataframe tbody tr th:only-of-type {\n",
       "        vertical-align: middle;\n",
       "    }\n",
       "\n",
       "    .dataframe tbody tr th {\n",
       "        vertical-align: top;\n",
       "    }\n",
       "\n",
       "    .dataframe thead th {\n",
       "        text-align: right;\n",
       "    }\n",
       "</style>\n",
       "<table border=\"1\" class=\"dataframe\">\n",
       "  <thead>\n",
       "    <tr style=\"text-align: right;\">\n",
       "      <th>EducationField</th>\n",
       "      <th>Human Resources</th>\n",
       "      <th>Life Sciences</th>\n",
       "      <th>Marketing</th>\n",
       "      <th>Medical</th>\n",
       "      <th>Other</th>\n",
       "      <th>Technical Degree</th>\n",
       "    </tr>\n",
       "    <tr>\n",
       "      <th>Attrition</th>\n",
       "      <th></th>\n",
       "      <th></th>\n",
       "      <th></th>\n",
       "      <th></th>\n",
       "      <th></th>\n",
       "      <th></th>\n",
       "    </tr>\n",
       "  </thead>\n",
       "  <tbody>\n",
       "    <tr>\n",
       "      <th>0</th>\n",
       "      <td>0.0</td>\n",
       "      <td>86.206897</td>\n",
       "      <td>81.25</td>\n",
       "      <td>85.714286</td>\n",
       "      <td>90.909091</td>\n",
       "      <td>87.5</td>\n",
       "    </tr>\n",
       "    <tr>\n",
       "      <th>1</th>\n",
       "      <td>100.0</td>\n",
       "      <td>13.793103</td>\n",
       "      <td>18.75</td>\n",
       "      <td>14.285714</td>\n",
       "      <td>9.090909</td>\n",
       "      <td>12.5</td>\n",
       "    </tr>\n",
       "  </tbody>\n",
       "</table>\n",
       "</div>"
      ],
      "text/plain": [
       "EducationField  Human Resources  Life Sciences  Marketing    Medical  \\\n",
       "Attrition                                                              \n",
       "0                           0.0      86.206897      81.25  85.714286   \n",
       "1                         100.0      13.793103      18.75  14.285714   \n",
       "\n",
       "EducationField      Other  Technical Degree  \n",
       "Attrition                                    \n",
       "0               90.909091              87.5  \n",
       "1                9.090909              12.5  "
      ]
     },
     "execution_count": 68,
     "metadata": {},
     "output_type": "execute_result"
    }
   ],
   "source": [
    "table=pd.crosstab(emp_J3.Attrition,columns=emp_J3.EducationField)\n",
    "table\n",
    "coltotal = table.sum(axis=0)\n",
    "table/coltotal*100"
   ]
  },
  {
   "cell_type": "code",
   "execution_count": 69,
   "id": "a5feb837",
   "metadata": {},
   "outputs": [
    {
     "data": {
      "text/html": [
       "<div>\n",
       "<style scoped>\n",
       "    .dataframe tbody tr th:only-of-type {\n",
       "        vertical-align: middle;\n",
       "    }\n",
       "\n",
       "    .dataframe tbody tr th {\n",
       "        vertical-align: top;\n",
       "    }\n",
       "\n",
       "    .dataframe thead th {\n",
       "        text-align: right;\n",
       "    }\n",
       "</style>\n",
       "<table border=\"1\" class=\"dataframe\">\n",
       "  <thead>\n",
       "    <tr style=\"text-align: right;\">\n",
       "      <th>EducationField</th>\n",
       "      <th>Human Resources</th>\n",
       "      <th>Life Sciences</th>\n",
       "      <th>Marketing</th>\n",
       "      <th>Medical</th>\n",
       "      <th>Other</th>\n",
       "      <th>Technical Degree</th>\n",
       "    </tr>\n",
       "    <tr>\n",
       "      <th>Attrition</th>\n",
       "      <th></th>\n",
       "      <th></th>\n",
       "      <th></th>\n",
       "      <th></th>\n",
       "      <th></th>\n",
       "      <th></th>\n",
       "    </tr>\n",
       "  </thead>\n",
       "  <tbody>\n",
       "    <tr>\n",
       "      <th>0</th>\n",
       "      <td>100.0</td>\n",
       "      <td>91.666667</td>\n",
       "      <td>90.909091</td>\n",
       "      <td>100.0</td>\n",
       "      <td>100.0</td>\n",
       "      <td>100.0</td>\n",
       "    </tr>\n",
       "    <tr>\n",
       "      <th>1</th>\n",
       "      <td>0.0</td>\n",
       "      <td>8.333333</td>\n",
       "      <td>9.090909</td>\n",
       "      <td>0.0</td>\n",
       "      <td>0.0</td>\n",
       "      <td>0.0</td>\n",
       "    </tr>\n",
       "  </tbody>\n",
       "</table>\n",
       "</div>"
      ],
      "text/plain": [
       "EducationField  Human Resources  Life Sciences  Marketing  Medical  Other  \\\n",
       "Attrition                                                                   \n",
       "0                         100.0      91.666667  90.909091    100.0  100.0   \n",
       "1                           0.0       8.333333   9.090909      0.0    0.0   \n",
       "\n",
       "EducationField  Technical Degree  \n",
       "Attrition                         \n",
       "0                          100.0  \n",
       "1                            0.0  "
      ]
     },
     "execution_count": 69,
     "metadata": {},
     "output_type": "execute_result"
    }
   ],
   "source": [
    "table=pd.crosstab(emp_J4.Attrition,columns=emp_J4.EducationField)\n",
    "table\n",
    "coltotal = table.sum(axis=0)\n",
    "table/coltotal*100"
   ]
  },
  {
   "cell_type": "code",
   "execution_count": 70,
   "id": "6cc605ba",
   "metadata": {},
   "outputs": [
    {
     "data": {
      "text/html": [
       "<div>\n",
       "<style scoped>\n",
       "    .dataframe tbody tr th:only-of-type {\n",
       "        vertical-align: middle;\n",
       "    }\n",
       "\n",
       "    .dataframe tbody tr th {\n",
       "        vertical-align: top;\n",
       "    }\n",
       "\n",
       "    .dataframe thead th {\n",
       "        text-align: right;\n",
       "    }\n",
       "</style>\n",
       "<table border=\"1\" class=\"dataframe\">\n",
       "  <thead>\n",
       "    <tr style=\"text-align: right;\">\n",
       "      <th>EducationField</th>\n",
       "      <th>Human Resources</th>\n",
       "      <th>Life Sciences</th>\n",
       "      <th>Marketing</th>\n",
       "      <th>Medical</th>\n",
       "      <th>Other</th>\n",
       "      <th>Technical Degree</th>\n",
       "    </tr>\n",
       "    <tr>\n",
       "      <th>Attrition</th>\n",
       "      <th></th>\n",
       "      <th></th>\n",
       "      <th></th>\n",
       "      <th></th>\n",
       "      <th></th>\n",
       "      <th></th>\n",
       "    </tr>\n",
       "  </thead>\n",
       "  <tbody>\n",
       "    <tr>\n",
       "      <th>0</th>\n",
       "      <td>100.0</td>\n",
       "      <td>96.153846</td>\n",
       "      <td>75.0</td>\n",
       "      <td>95.833333</td>\n",
       "      <td>100.0</td>\n",
       "      <td>66.666667</td>\n",
       "    </tr>\n",
       "    <tr>\n",
       "      <th>1</th>\n",
       "      <td>0.0</td>\n",
       "      <td>3.846154</td>\n",
       "      <td>25.0</td>\n",
       "      <td>4.166667</td>\n",
       "      <td>0.0</td>\n",
       "      <td>33.333333</td>\n",
       "    </tr>\n",
       "  </tbody>\n",
       "</table>\n",
       "</div>"
      ],
      "text/plain": [
       "EducationField  Human Resources  Life Sciences  Marketing    Medical  Other  \\\n",
       "Attrition                                                                     \n",
       "0                         100.0      96.153846       75.0  95.833333  100.0   \n",
       "1                           0.0       3.846154       25.0   4.166667    0.0   \n",
       "\n",
       "EducationField  Technical Degree  \n",
       "Attrition                         \n",
       "0                      66.666667  \n",
       "1                      33.333333  "
      ]
     },
     "execution_count": 70,
     "metadata": {},
     "output_type": "execute_result"
    }
   ],
   "source": [
    "table=pd.crosstab(emp_J5.Attrition,columns=emp_J5.EducationField)\n",
    "table\n",
    "coltotal = table.sum(axis=0)\n",
    "table/coltotal*100"
   ]
  },
  {
   "cell_type": "markdown",
   "id": "8878916f",
   "metadata": {},
   "source": [
    "####  Department and gender"
   ]
  },
  {
   "cell_type": "code",
   "execution_count": 71,
   "id": "97a109fa",
   "metadata": {},
   "outputs": [],
   "source": [
    "emp_male=emp[emp.Gender=='Male']\n",
    "emp_female=emp[emp.Gender=='Female']"
   ]
  },
  {
   "cell_type": "code",
   "execution_count": 72,
   "id": "a47082b3",
   "metadata": {},
   "outputs": [
    {
     "data": {
      "text/html": [
       "<div>\n",
       "<style scoped>\n",
       "    .dataframe tbody tr th:only-of-type {\n",
       "        vertical-align: middle;\n",
       "    }\n",
       "\n",
       "    .dataframe tbody tr th {\n",
       "        vertical-align: top;\n",
       "    }\n",
       "\n",
       "    .dataframe thead th {\n",
       "        text-align: right;\n",
       "    }\n",
       "</style>\n",
       "<table border=\"1\" class=\"dataframe\">\n",
       "  <thead>\n",
       "    <tr style=\"text-align: right;\">\n",
       "      <th>Department</th>\n",
       "      <th>Human Resources</th>\n",
       "      <th>Research &amp; Development</th>\n",
       "      <th>Sales</th>\n",
       "    </tr>\n",
       "    <tr>\n",
       "      <th>Attrition</th>\n",
       "      <th></th>\n",
       "      <th></th>\n",
       "      <th></th>\n",
       "    </tr>\n",
       "  </thead>\n",
       "  <tbody>\n",
       "    <tr>\n",
       "      <th>0</th>\n",
       "      <td>86.046512</td>\n",
       "      <td>84.536082</td>\n",
       "      <td>78.988327</td>\n",
       "    </tr>\n",
       "    <tr>\n",
       "      <th>1</th>\n",
       "      <td>13.953488</td>\n",
       "      <td>15.463918</td>\n",
       "      <td>21.011673</td>\n",
       "    </tr>\n",
       "  </tbody>\n",
       "</table>\n",
       "</div>"
      ],
      "text/plain": [
       "Department  Human Resources  Research & Development      Sales\n",
       "Attrition                                                     \n",
       "0                 86.046512               84.536082  78.988327\n",
       "1                 13.953488               15.463918  21.011673"
      ]
     },
     "execution_count": 72,
     "metadata": {},
     "output_type": "execute_result"
    }
   ],
   "source": [
    "table=pd.crosstab(emp_male.Attrition,columns=emp_male.Department)\n",
    "table\n",
    "coltotal = table.sum(axis=0)\n",
    "table/coltotal*100"
   ]
  },
  {
   "cell_type": "code",
   "execution_count": 73,
   "id": "93aa004a",
   "metadata": {},
   "outputs": [
    {
     "data": {
      "text/html": [
       "<div>\n",
       "<style scoped>\n",
       "    .dataframe tbody tr th:only-of-type {\n",
       "        vertical-align: middle;\n",
       "    }\n",
       "\n",
       "    .dataframe tbody tr th {\n",
       "        vertical-align: top;\n",
       "    }\n",
       "\n",
       "    .dataframe thead th {\n",
       "        text-align: right;\n",
       "    }\n",
       "</style>\n",
       "<table border=\"1\" class=\"dataframe\">\n",
       "  <thead>\n",
       "    <tr style=\"text-align: right;\">\n",
       "      <th>Department</th>\n",
       "      <th>Human Resources</th>\n",
       "      <th>Research &amp; Development</th>\n",
       "      <th>Sales</th>\n",
       "    </tr>\n",
       "    <tr>\n",
       "      <th>Attrition</th>\n",
       "      <th></th>\n",
       "      <th></th>\n",
       "      <th></th>\n",
       "    </tr>\n",
       "  </thead>\n",
       "  <tbody>\n",
       "    <tr>\n",
       "      <th>0</th>\n",
       "      <td>70.0</td>\n",
       "      <td>88.654354</td>\n",
       "      <td>79.89418</td>\n",
       "    </tr>\n",
       "    <tr>\n",
       "      <th>1</th>\n",
       "      <td>30.0</td>\n",
       "      <td>11.345646</td>\n",
       "      <td>20.10582</td>\n",
       "    </tr>\n",
       "  </tbody>\n",
       "</table>\n",
       "</div>"
      ],
      "text/plain": [
       "Department  Human Resources  Research & Development     Sales\n",
       "Attrition                                                    \n",
       "0                      70.0               88.654354  79.89418\n",
       "1                      30.0               11.345646  20.10582"
      ]
     },
     "execution_count": 73,
     "metadata": {},
     "output_type": "execute_result"
    }
   ],
   "source": [
    "table=pd.crosstab(emp_female.Attrition,columns=emp_female.Department)\n",
    "table\n",
    "coltotal = table.sum(axis=0)\n",
    "table/coltotal*100"
   ]
  },
  {
   "cell_type": "markdown",
   "id": "4cd73c9d",
   "metadata": {},
   "source": [
    "####  Gender and Bussiness travel"
   ]
  },
  {
   "cell_type": "code",
   "execution_count": 74,
   "id": "5a58fffe",
   "metadata": {},
   "outputs": [
    {
     "data": {
      "text/html": [
       "<div>\n",
       "<style scoped>\n",
       "    .dataframe tbody tr th:only-of-type {\n",
       "        vertical-align: middle;\n",
       "    }\n",
       "\n",
       "    .dataframe tbody tr th {\n",
       "        vertical-align: top;\n",
       "    }\n",
       "\n",
       "    .dataframe thead th {\n",
       "        text-align: right;\n",
       "    }\n",
       "</style>\n",
       "<table border=\"1\" class=\"dataframe\">\n",
       "  <thead>\n",
       "    <tr style=\"text-align: right;\">\n",
       "      <th>BusinessTravel</th>\n",
       "      <th>Non-Travel</th>\n",
       "      <th>Travel_Frequently</th>\n",
       "      <th>Travel_Rarely</th>\n",
       "    </tr>\n",
       "    <tr>\n",
       "      <th>Attrition</th>\n",
       "      <th></th>\n",
       "      <th></th>\n",
       "      <th></th>\n",
       "    </tr>\n",
       "  </thead>\n",
       "  <tbody>\n",
       "    <tr>\n",
       "      <th>0</th>\n",
       "      <td>91.089109</td>\n",
       "      <td>75.625</td>\n",
       "      <td>83.574879</td>\n",
       "    </tr>\n",
       "    <tr>\n",
       "      <th>1</th>\n",
       "      <td>8.910891</td>\n",
       "      <td>24.375</td>\n",
       "      <td>16.425121</td>\n",
       "    </tr>\n",
       "  </tbody>\n",
       "</table>\n",
       "</div>"
      ],
      "text/plain": [
       "BusinessTravel  Non-Travel  Travel_Frequently  Travel_Rarely\n",
       "Attrition                                                   \n",
       "0                91.089109             75.625      83.574879\n",
       "1                 8.910891             24.375      16.425121"
      ]
     },
     "execution_count": 74,
     "metadata": {},
     "output_type": "execute_result"
    }
   ],
   "source": [
    "table=pd.crosstab(emp_male.Attrition,columns=emp_male.BusinessTravel)\n",
    "table\n",
    "coltotal = table.sum(axis=0)\n",
    "table/coltotal*100"
   ]
  },
  {
   "cell_type": "code",
   "execution_count": 75,
   "id": "3db54168",
   "metadata": {},
   "outputs": [
    {
     "data": {
      "text/html": [
       "<div>\n",
       "<style scoped>\n",
       "    .dataframe tbody tr th:only-of-type {\n",
       "        vertical-align: middle;\n",
       "    }\n",
       "\n",
       "    .dataframe tbody tr th {\n",
       "        vertical-align: top;\n",
       "    }\n",
       "\n",
       "    .dataframe thead th {\n",
       "        text-align: right;\n",
       "    }\n",
       "</style>\n",
       "<table border=\"1\" class=\"dataframe\">\n",
       "  <thead>\n",
       "    <tr style=\"text-align: right;\">\n",
       "      <th>BusinessTravel</th>\n",
       "      <th>Non-Travel</th>\n",
       "      <th>Travel_Frequently</th>\n",
       "      <th>Travel_Rarely</th>\n",
       "    </tr>\n",
       "    <tr>\n",
       "      <th>Attrition</th>\n",
       "      <th></th>\n",
       "      <th></th>\n",
       "      <th></th>\n",
       "    </tr>\n",
       "  </thead>\n",
       "  <tbody>\n",
       "    <tr>\n",
       "      <th>0</th>\n",
       "      <td>93.877551</td>\n",
       "      <td>74.358974</td>\n",
       "      <td>87.203791</td>\n",
       "    </tr>\n",
       "    <tr>\n",
       "      <th>1</th>\n",
       "      <td>6.122449</td>\n",
       "      <td>25.641026</td>\n",
       "      <td>12.796209</td>\n",
       "    </tr>\n",
       "  </tbody>\n",
       "</table>\n",
       "</div>"
      ],
      "text/plain": [
       "BusinessTravel  Non-Travel  Travel_Frequently  Travel_Rarely\n",
       "Attrition                                                   \n",
       "0                93.877551          74.358974      87.203791\n",
       "1                 6.122449          25.641026      12.796209"
      ]
     },
     "execution_count": 75,
     "metadata": {},
     "output_type": "execute_result"
    }
   ],
   "source": [
    "table=pd.crosstab(emp_female.Attrition,columns=emp_female.BusinessTravel)\n",
    "table\n",
    "coltotal = table.sum(axis=0)\n",
    "table/coltotal*100"
   ]
  },
  {
   "cell_type": "markdown",
   "id": "db63370d",
   "metadata": {},
   "source": [
    "####  Travel and Worklife Balance"
   ]
  },
  {
   "cell_type": "code",
   "execution_count": 76,
   "id": "9714da9d",
   "metadata": {},
   "outputs": [],
   "source": [
    "emp_fre=emp[emp.BusinessTravel=='Travel_Frequently']\n",
    "emp_RARE=emp[emp.BusinessTravel=='Travel_Rarely']\n",
    "emp_nontrav=emp[emp.BusinessTravel=='Non-Travel']"
   ]
  },
  {
   "cell_type": "code",
   "execution_count": 77,
   "id": "7f4f9a70",
   "metadata": {},
   "outputs": [
    {
     "data": {
      "text/html": [
       "<div>\n",
       "<style scoped>\n",
       "    .dataframe tbody tr th:only-of-type {\n",
       "        vertical-align: middle;\n",
       "    }\n",
       "\n",
       "    .dataframe tbody tr th {\n",
       "        vertical-align: top;\n",
       "    }\n",
       "\n",
       "    .dataframe thead th {\n",
       "        text-align: right;\n",
       "    }\n",
       "</style>\n",
       "<table border=\"1\" class=\"dataframe\">\n",
       "  <thead>\n",
       "    <tr style=\"text-align: right;\">\n",
       "      <th>WorkLifeBalance</th>\n",
       "      <th>1</th>\n",
       "      <th>2</th>\n",
       "      <th>3</th>\n",
       "      <th>4</th>\n",
       "    </tr>\n",
       "    <tr>\n",
       "      <th>Attrition</th>\n",
       "      <th></th>\n",
       "      <th></th>\n",
       "      <th></th>\n",
       "      <th></th>\n",
       "    </tr>\n",
       "  </thead>\n",
       "  <tbody>\n",
       "    <tr>\n",
       "      <th>0</th>\n",
       "      <td>53.846154</td>\n",
       "      <td>77.272727</td>\n",
       "      <td>76.190476</td>\n",
       "      <td>73.333333</td>\n",
       "    </tr>\n",
       "    <tr>\n",
       "      <th>1</th>\n",
       "      <td>46.153846</td>\n",
       "      <td>22.727273</td>\n",
       "      <td>23.809524</td>\n",
       "      <td>26.666667</td>\n",
       "    </tr>\n",
       "  </tbody>\n",
       "</table>\n",
       "</div>"
      ],
      "text/plain": [
       "WorkLifeBalance          1          2          3          4\n",
       "Attrition                                                  \n",
       "0                53.846154  77.272727  76.190476  73.333333\n",
       "1                46.153846  22.727273  23.809524  26.666667"
      ]
     },
     "execution_count": 77,
     "metadata": {},
     "output_type": "execute_result"
    }
   ],
   "source": [
    "table=pd.crosstab(emp_fre.Attrition,columns=emp_fre.WorkLifeBalance)\n",
    "table\n",
    "coltotal = table.sum(axis=0)\n",
    "table/coltotal*100"
   ]
  },
  {
   "cell_type": "code",
   "execution_count": 78,
   "id": "e5f993df",
   "metadata": {},
   "outputs": [
    {
     "data": {
      "text/html": [
       "<div>\n",
       "<style scoped>\n",
       "    .dataframe tbody tr th:only-of-type {\n",
       "        vertical-align: middle;\n",
       "    }\n",
       "\n",
       "    .dataframe tbody tr th {\n",
       "        vertical-align: top;\n",
       "    }\n",
       "\n",
       "    .dataframe thead th {\n",
       "        text-align: right;\n",
       "    }\n",
       "</style>\n",
       "<table border=\"1\" class=\"dataframe\">\n",
       "  <thead>\n",
       "    <tr style=\"text-align: right;\">\n",
       "      <th>WorkLifeBalance</th>\n",
       "      <th>1</th>\n",
       "      <th>2</th>\n",
       "      <th>3</th>\n",
       "      <th>4</th>\n",
       "    </tr>\n",
       "    <tr>\n",
       "      <th>Attrition</th>\n",
       "      <th></th>\n",
       "      <th></th>\n",
       "      <th></th>\n",
       "      <th></th>\n",
       "    </tr>\n",
       "  </thead>\n",
       "  <tbody>\n",
       "    <tr>\n",
       "      <th>0</th>\n",
       "      <td>69.491525</td>\n",
       "      <td>83.817427</td>\n",
       "      <td>87.167449</td>\n",
       "      <td>83.653846</td>\n",
       "    </tr>\n",
       "    <tr>\n",
       "      <th>1</th>\n",
       "      <td>30.508475</td>\n",
       "      <td>16.182573</td>\n",
       "      <td>12.832551</td>\n",
       "      <td>16.346154</td>\n",
       "    </tr>\n",
       "  </tbody>\n",
       "</table>\n",
       "</div>"
      ],
      "text/plain": [
       "WorkLifeBalance          1          2          3          4\n",
       "Attrition                                                  \n",
       "0                69.491525  83.817427  87.167449  83.653846\n",
       "1                30.508475  16.182573  12.832551  16.346154"
      ]
     },
     "execution_count": 78,
     "metadata": {},
     "output_type": "execute_result"
    }
   ],
   "source": [
    "table=pd.crosstab(emp_RARE.Attrition,columns=emp_RARE.WorkLifeBalance)\n",
    "table\n",
    "coltotal = table.sum(axis=0)\n",
    "table/coltotal*100"
   ]
  },
  {
   "cell_type": "code",
   "execution_count": 79,
   "id": "16b84c09",
   "metadata": {},
   "outputs": [
    {
     "data": {
      "text/html": [
       "<div>\n",
       "<style scoped>\n",
       "    .dataframe tbody tr th:only-of-type {\n",
       "        vertical-align: middle;\n",
       "    }\n",
       "\n",
       "    .dataframe tbody tr th {\n",
       "        vertical-align: top;\n",
       "    }\n",
       "\n",
       "    .dataframe thead th {\n",
       "        text-align: right;\n",
       "    }\n",
       "</style>\n",
       "<table border=\"1\" class=\"dataframe\">\n",
       "  <thead>\n",
       "    <tr style=\"text-align: right;\">\n",
       "      <th>WorkLifeBalance</th>\n",
       "      <th>1</th>\n",
       "      <th>2</th>\n",
       "      <th>3</th>\n",
       "      <th>4</th>\n",
       "    </tr>\n",
       "    <tr>\n",
       "      <th>Attrition</th>\n",
       "      <th></th>\n",
       "      <th></th>\n",
       "      <th></th>\n",
       "      <th></th>\n",
       "    </tr>\n",
       "  </thead>\n",
       "  <tbody>\n",
       "    <tr>\n",
       "      <th>0</th>\n",
       "      <td>87.5</td>\n",
       "      <td>89.189189</td>\n",
       "      <td>94.186047</td>\n",
       "      <td>89.473684</td>\n",
       "    </tr>\n",
       "    <tr>\n",
       "      <th>1</th>\n",
       "      <td>12.5</td>\n",
       "      <td>10.810811</td>\n",
       "      <td>5.813953</td>\n",
       "      <td>10.526316</td>\n",
       "    </tr>\n",
       "  </tbody>\n",
       "</table>\n",
       "</div>"
      ],
      "text/plain": [
       "WorkLifeBalance     1          2          3          4\n",
       "Attrition                                             \n",
       "0                87.5  89.189189  94.186047  89.473684\n",
       "1                12.5  10.810811   5.813953  10.526316"
      ]
     },
     "execution_count": 79,
     "metadata": {},
     "output_type": "execute_result"
    }
   ],
   "source": [
    "table=pd.crosstab(emp_nontrav.Attrition,columns=emp_nontrav.WorkLifeBalance)\n",
    "table\n",
    "coltotal = table.sum(axis=0)\n",
    "table/coltotal*100"
   ]
  },
  {
   "cell_type": "code",
   "execution_count": 80,
   "id": "d50b25bf",
   "metadata": {
    "scrolled": false
   },
   "outputs": [
    {
     "data": {
      "text/html": [
       "<style  type=\"text/css\" >\n",
       "#T_9f217_row0_col0,#T_9f217_row1_col1,#T_9f217_row2_col2,#T_9f217_row3_col3,#T_9f217_row4_col4,#T_9f217_row5_col5,#T_9f217_row6_col6,#T_9f217_row7_col7,#T_9f217_row8_col8,#T_9f217_row9_col9,#T_9f217_row10_col10,#T_9f217_row11_col11,#T_9f217_row12_col12,#T_9f217_row13_col13{\n",
       "            background-color:  #023858;\n",
       "            color:  #f1f1f1;\n",
       "        }#T_9f217_row0_col1,#T_9f217_row2_col13,#T_9f217_row3_col11,#T_9f217_row6_col1,#T_9f217_row6_col13,#T_9f217_row10_col1{\n",
       "            background-color:  #fef6fa;\n",
       "            color:  #000000;\n",
       "        }#T_9f217_row0_col2,#T_9f217_row1_col13,#T_9f217_row3_col9,#T_9f217_row4_col3,#T_9f217_row6_col3,#T_9f217_row8_col3{\n",
       "            background-color:  #f0eaf4;\n",
       "            color:  #000000;\n",
       "        }#T_9f217_row0_col3,#T_9f217_row2_col7,#T_9f217_row3_col7,#T_9f217_row5_col4{\n",
       "            background-color:  #e8e4f0;\n",
       "            color:  #000000;\n",
       "        }#T_9f217_row0_col4,#T_9f217_row9_col6{\n",
       "            background-color:  #4c99c5;\n",
       "            color:  #000000;\n",
       "        }#T_9f217_row0_col5,#T_9f217_row2_col5,#T_9f217_row2_col8,#T_9f217_row3_col2,#T_9f217_row5_col2,#T_9f217_row6_col2,#T_9f217_row6_col5,#T_9f217_row6_col8,#T_9f217_row12_col2{\n",
       "            background-color:  #f2ecf5;\n",
       "            color:  #000000;\n",
       "        }#T_9f217_row0_col6,#T_9f217_row6_col0{\n",
       "            background-color:  #529bc7;\n",
       "            color:  #000000;\n",
       "        }#T_9f217_row0_col7{\n",
       "            background-color:  #0d75b3;\n",
       "            color:  #f1f1f1;\n",
       "        }#T_9f217_row0_col8,#T_9f217_row5_col8,#T_9f217_row8_col11,#T_9f217_row12_col13,#T_9f217_row13_col11{\n",
       "            background-color:  #f9f2f8;\n",
       "            color:  #000000;\n",
       "        }#T_9f217_row0_col9{\n",
       "            background-color:  #9fbad9;\n",
       "            color:  #000000;\n",
       "        }#T_9f217_row0_col10,#T_9f217_row10_col0,#T_9f217_row11_col0{\n",
       "            background-color:  #b8c6e0;\n",
       "            color:  #000000;\n",
       "        }#T_9f217_row0_col11{\n",
       "            background-color:  #d2d3e7;\n",
       "            color:  #000000;\n",
       "        }#T_9f217_row0_col12,#T_9f217_row12_col0{\n",
       "            background-color:  #bcc7e1;\n",
       "            color:  #000000;\n",
       "        }#T_9f217_row0_col13{\n",
       "            background-color:  #fbf4f9;\n",
       "            color:  #000000;\n",
       "        }#T_9f217_row1_col0,#T_9f217_row1_col2,#T_9f217_row1_col3,#T_9f217_row1_col4,#T_9f217_row1_col5,#T_9f217_row1_col6,#T_9f217_row1_col7,#T_9f217_row1_col8,#T_9f217_row1_col9,#T_9f217_row1_col10,#T_9f217_row1_col11,#T_9f217_row1_col12,#T_9f217_row4_col1,#T_9f217_row7_col1,#T_9f217_row8_col13{\n",
       "            background-color:  #fff7fb;\n",
       "            color:  #000000;\n",
       "        }#T_9f217_row2_col0,#T_9f217_row2_col4,#T_9f217_row3_col10,#T_9f217_row8_col7,#T_9f217_row13_col4,#T_9f217_row13_col7,#T_9f217_row13_col12{\n",
       "            background-color:  #e7e3f0;\n",
       "            color:  #000000;\n",
       "        }#T_9f217_row2_col1,#T_9f217_row5_col1{\n",
       "            background-color:  #f7f0f7;\n",
       "            color:  #000000;\n",
       "        }#T_9f217_row2_col3,#T_9f217_row10_col8,#T_9f217_row11_col2{\n",
       "            background-color:  #efe9f3;\n",
       "            color:  #000000;\n",
       "        }#T_9f217_row2_col6,#T_9f217_row2_col12,#T_9f217_row5_col6,#T_9f217_row8_col9{\n",
       "            background-color:  #ebe6f2;\n",
       "            color:  #000000;\n",
       "        }#T_9f217_row2_col9,#T_9f217_row8_col0,#T_9f217_row8_col2,#T_9f217_row11_col1{\n",
       "            background-color:  #ede8f3;\n",
       "            color:  #000000;\n",
       "        }#T_9f217_row2_col10,#T_9f217_row13_col10{\n",
       "            background-color:  #e6e2ef;\n",
       "            color:  #000000;\n",
       "        }#T_9f217_row2_col11,#T_9f217_row3_col8,#T_9f217_row10_col13{\n",
       "            background-color:  #f8f1f8;\n",
       "            color:  #000000;\n",
       "        }#T_9f217_row3_col0{\n",
       "            background-color:  #e4e1ef;\n",
       "            color:  #000000;\n",
       "        }#T_9f217_row3_col1,#T_9f217_row3_col13,#T_9f217_row9_col1,#T_9f217_row9_col13,#T_9f217_row13_col8{\n",
       "            background-color:  #faf3f9;\n",
       "            color:  #000000;\n",
       "        }#T_9f217_row3_col4,#T_9f217_row5_col0,#T_9f217_row5_col10,#T_9f217_row13_col0{\n",
       "            background-color:  #eae6f1;\n",
       "            color:  #000000;\n",
       "        }#T_9f217_row3_col5,#T_9f217_row7_col5,#T_9f217_row8_col5,#T_9f217_row11_col5{\n",
       "            background-color:  #f4edf6;\n",
       "            color:  #000000;\n",
       "        }#T_9f217_row3_col6,#T_9f217_row10_col3,#T_9f217_row13_col3,#T_9f217_row13_col6{\n",
       "            background-color:  #ede7f2;\n",
       "            color:  #000000;\n",
       "        }#T_9f217_row3_col12{\n",
       "            background-color:  #e5e1ef;\n",
       "            color:  #000000;\n",
       "        }#T_9f217_row4_col0,#T_9f217_row11_col12{\n",
       "            background-color:  #4e9ac6;\n",
       "            color:  #000000;\n",
       "        }#T_9f217_row4_col2,#T_9f217_row4_col8,#T_9f217_row5_col3,#T_9f217_row9_col2,#T_9f217_row9_col3{\n",
       "            background-color:  #f1ebf4;\n",
       "            color:  #000000;\n",
       "        }#T_9f217_row4_col5,#T_9f217_row7_col2,#T_9f217_row8_col1,#T_9f217_row9_col5,#T_9f217_row10_col5,#T_9f217_row11_col3,#T_9f217_row13_col5{\n",
       "            background-color:  #f1ebf5;\n",
       "            color:  #000000;\n",
       "        }#T_9f217_row4_col6,#T_9f217_row6_col4{\n",
       "            background-color:  #034369;\n",
       "            color:  #f1f1f1;\n",
       "        }#T_9f217_row4_col7,#T_9f217_row7_col4{\n",
       "            background-color:  #04649e;\n",
       "            color:  #f1f1f1;\n",
       "        }#T_9f217_row4_col9{\n",
       "            background-color:  #4697c4;\n",
       "            color:  #000000;\n",
       "        }#T_9f217_row4_col10{\n",
       "            background-color:  #7eadd1;\n",
       "            color:  #000000;\n",
       "        }#T_9f217_row4_col11{\n",
       "            background-color:  #a7bddb;\n",
       "            color:  #000000;\n",
       "        }#T_9f217_row4_col12{\n",
       "            background-color:  #84b0d3;\n",
       "            color:  #000000;\n",
       "        }#T_9f217_row4_col13,#T_9f217_row7_col13{\n",
       "            background-color:  #fbf3f9;\n",
       "            color:  #000000;\n",
       "        }#T_9f217_row5_col7,#T_9f217_row13_col9{\n",
       "            background-color:  #ece7f2;\n",
       "            color:  #000000;\n",
       "        }#T_9f217_row5_col9{\n",
       "            background-color:  #eee8f3;\n",
       "            color:  #000000;\n",
       "        }#T_9f217_row5_col11,#T_9f217_row12_col1{\n",
       "            background-color:  #fdf5fa;\n",
       "            color:  #000000;\n",
       "        }#T_9f217_row5_col12,#T_9f217_row7_col3,#T_9f217_row10_col2{\n",
       "            background-color:  #eee9f3;\n",
       "            color:  #000000;\n",
       "        }#T_9f217_row5_col13{\n",
       "            background-color:  #fcf4fa;\n",
       "            color:  #000000;\n",
       "        }#T_9f217_row6_col7{\n",
       "            background-color:  #0566a0;\n",
       "            color:  #f1f1f1;\n",
       "        }#T_9f217_row6_col9{\n",
       "            background-color:  #509ac6;\n",
       "            color:  #000000;\n",
       "        }#T_9f217_row6_col10,#T_9f217_row10_col6{\n",
       "            background-color:  #88b1d4;\n",
       "            color:  #000000;\n",
       "        }#T_9f217_row6_col11{\n",
       "            background-color:  #a9bfdc;\n",
       "            color:  #000000;\n",
       "        }#T_9f217_row6_col12{\n",
       "            background-color:  #8fb4d6;\n",
       "            color:  #000000;\n",
       "        }#T_9f217_row7_col0{\n",
       "            background-color:  #0f76b3;\n",
       "            color:  #f1f1f1;\n",
       "        }#T_9f217_row7_col6{\n",
       "            background-color:  #0567a1;\n",
       "            color:  #f1f1f1;\n",
       "        }#T_9f217_row7_col8{\n",
       "            background-color:  #f6eff7;\n",
       "            color:  #000000;\n",
       "        }#T_9f217_row7_col9{\n",
       "            background-color:  #2383ba;\n",
       "            color:  #000000;\n",
       "        }#T_9f217_row7_col10,#T_9f217_row7_col12{\n",
       "            background-color:  #63a2cb;\n",
       "            color:  #000000;\n",
       "        }#T_9f217_row7_col11{\n",
       "            background-color:  #93b5d6;\n",
       "            color:  #000000;\n",
       "        }#T_9f217_row8_col4{\n",
       "            background-color:  #e0deed;\n",
       "            color:  #000000;\n",
       "        }#T_9f217_row8_col6{\n",
       "            background-color:  #e3e0ee;\n",
       "            color:  #000000;\n",
       "        }#T_9f217_row8_col10{\n",
       "            background-color:  #e0dded;\n",
       "            color:  #000000;\n",
       "        }#T_9f217_row8_col12,#T_9f217_row12_col3{\n",
       "            background-color:  #e9e5f1;\n",
       "            color:  #000000;\n",
       "        }#T_9f217_row9_col0{\n",
       "            background-color:  #9ab8d8;\n",
       "            color:  #000000;\n",
       "        }#T_9f217_row9_col4{\n",
       "            background-color:  #4094c3;\n",
       "            color:  #000000;\n",
       "        }#T_9f217_row9_col7{\n",
       "            background-color:  #2081b9;\n",
       "            color:  #000000;\n",
       "        }#T_9f217_row9_col8{\n",
       "            background-color:  #f4eef6;\n",
       "            color:  #000000;\n",
       "        }#T_9f217_row9_col10{\n",
       "            background-color:  #0569a4;\n",
       "            color:  #f1f1f1;\n",
       "        }#T_9f217_row9_col11{\n",
       "            background-color:  #348ebf;\n",
       "            color:  #000000;\n",
       "        }#T_9f217_row9_col12{\n",
       "            background-color:  #0567a2;\n",
       "            color:  #f1f1f1;\n",
       "        }#T_9f217_row10_col4{\n",
       "            background-color:  #7dacd1;\n",
       "            color:  #000000;\n",
       "        }#T_9f217_row10_col7{\n",
       "            background-color:  #60a1ca;\n",
       "            color:  #000000;\n",
       "        }#T_9f217_row10_col9{\n",
       "            background-color:  #0569a5;\n",
       "            color:  #f1f1f1;\n",
       "        }#T_9f217_row10_col11{\n",
       "            background-color:  #549cc7;\n",
       "            color:  #000000;\n",
       "        }#T_9f217_row10_col12,#T_9f217_row12_col10{\n",
       "            background-color:  #056faf;\n",
       "            color:  #f1f1f1;\n",
       "        }#T_9f217_row11_col4{\n",
       "            background-color:  #89b1d4;\n",
       "            color:  #000000;\n",
       "        }#T_9f217_row11_col6,#T_9f217_row12_col6{\n",
       "            background-color:  #8eb3d5;\n",
       "            color:  #000000;\n",
       "        }#T_9f217_row11_col7{\n",
       "            background-color:  #78abd0;\n",
       "            color:  #000000;\n",
       "        }#T_9f217_row11_col8,#T_9f217_row12_col5{\n",
       "            background-color:  #f5eef6;\n",
       "            color:  #000000;\n",
       "        }#T_9f217_row11_col9{\n",
       "            background-color:  #2786bb;\n",
       "            color:  #000000;\n",
       "        }#T_9f217_row11_col10{\n",
       "            background-color:  #3d93c2;\n",
       "            color:  #000000;\n",
       "        }#T_9f217_row11_col13{\n",
       "            background-color:  #faf2f8;\n",
       "            color:  #000000;\n",
       "        }#T_9f217_row12_col4{\n",
       "            background-color:  #81aed2;\n",
       "            color:  #000000;\n",
       "        }#T_9f217_row12_col7{\n",
       "            background-color:  #62a2cb;\n",
       "            color:  #000000;\n",
       "        }#T_9f217_row12_col8{\n",
       "            background-color:  #f5eff6;\n",
       "            color:  #000000;\n",
       "        }#T_9f217_row12_col9{\n",
       "            background-color:  #0568a3;\n",
       "            color:  #f1f1f1;\n",
       "        }#T_9f217_row12_col11{\n",
       "            background-color:  #67a4cc;\n",
       "            color:  #000000;\n",
       "        }#T_9f217_row13_col1{\n",
       "            background-color:  #d9d8ea;\n",
       "            color:  #000000;\n",
       "        }#T_9f217_row13_col2{\n",
       "            background-color:  #f3edf5;\n",
       "            color:  #000000;\n",
       "        }</style><table id=\"T_9f217_\" ><thead>    <tr>        <th class=\"blank level0\" ></th>        <th class=\"col_heading level0 col0\" >Age</th>        <th class=\"col_heading level0 col1\" >Attrition</th>        <th class=\"col_heading level0 col2\" >EnvironmentSatisfaction</th>        <th class=\"col_heading level0 col3\" >JobInvolvement</th>        <th class=\"col_heading level0 col4\" >JobLevel</th>        <th class=\"col_heading level0 col5\" >JobSatisfaction</th>        <th class=\"col_heading level0 col6\" >MonthlyIncome</th>        <th class=\"col_heading level0 col7\" >TotalWorkingYears</th>        <th class=\"col_heading level0 col8\" >WorkLifeBalance</th>        <th class=\"col_heading level0 col9\" >YearsAtCompany</th>        <th class=\"col_heading level0 col10\" >YearsInCurrentRole</th>        <th class=\"col_heading level0 col11\" >YearsSinceLastPromotion</th>        <th class=\"col_heading level0 col12\" >YearsWithCurrManager</th>        <th class=\"col_heading level0 col13\" >DistanceFromHome</th>    </tr></thead><tbody>\n",
       "                <tr>\n",
       "                        <th id=\"T_9f217_level0_row0\" class=\"row_heading level0 row0\" >Age</th>\n",
       "                        <td id=\"T_9f217_row0_col0\" class=\"data row0 col0\" >1.000000</td>\n",
       "                        <td id=\"T_9f217_row0_col1\" class=\"data row0 col1\" >-0.159205</td>\n",
       "                        <td id=\"T_9f217_row0_col2\" class=\"data row0 col2\" >0.010146</td>\n",
       "                        <td id=\"T_9f217_row0_col3\" class=\"data row0 col3\" >0.029820</td>\n",
       "                        <td id=\"T_9f217_row0_col4\" class=\"data row0 col4\" >0.509604</td>\n",
       "                        <td id=\"T_9f217_row0_col5\" class=\"data row0 col5\" >-0.004892</td>\n",
       "                        <td id=\"T_9f217_row0_col6\" class=\"data row0 col6\" >0.497855</td>\n",
       "                        <td id=\"T_9f217_row0_col7\" class=\"data row0 col7\" >0.680381</td>\n",
       "                        <td id=\"T_9f217_row0_col8\" class=\"data row0 col8\" >-0.021490</td>\n",
       "                        <td id=\"T_9f217_row0_col9\" class=\"data row0 col9\" >0.311309</td>\n",
       "                        <td id=\"T_9f217_row0_col10\" class=\"data row0 col10\" >0.212901</td>\n",
       "                        <td id=\"T_9f217_row0_col11\" class=\"data row0 col11\" >0.216513</td>\n",
       "                        <td id=\"T_9f217_row0_col12\" class=\"data row0 col12\" >0.202089</td>\n",
       "                        <td id=\"T_9f217_row0_col13\" class=\"data row0 col13\" >-0.001686</td>\n",
       "            </tr>\n",
       "            <tr>\n",
       "                        <th id=\"T_9f217_level0_row1\" class=\"row_heading level0 row1\" >Attrition</th>\n",
       "                        <td id=\"T_9f217_row1_col0\" class=\"data row1 col0\" >-0.159205</td>\n",
       "                        <td id=\"T_9f217_row1_col1\" class=\"data row1 col1\" >1.000000</td>\n",
       "                        <td id=\"T_9f217_row1_col2\" class=\"data row1 col2\" >-0.103369</td>\n",
       "                        <td id=\"T_9f217_row1_col3\" class=\"data row1 col3\" >-0.130016</td>\n",
       "                        <td id=\"T_9f217_row1_col4\" class=\"data row1 col4\" >-0.169105</td>\n",
       "                        <td id=\"T_9f217_row1_col5\" class=\"data row1 col5\" >-0.103481</td>\n",
       "                        <td id=\"T_9f217_row1_col6\" class=\"data row1 col6\" >-0.159840</td>\n",
       "                        <td id=\"T_9f217_row1_col7\" class=\"data row1 col7\" >-0.171063</td>\n",
       "                        <td id=\"T_9f217_row1_col8\" class=\"data row1 col8\" >-0.063939</td>\n",
       "                        <td id=\"T_9f217_row1_col9\" class=\"data row1 col9\" >-0.134392</td>\n",
       "                        <td id=\"T_9f217_row1_col10\" class=\"data row1 col10\" >-0.160545</td>\n",
       "                        <td id=\"T_9f217_row1_col11\" class=\"data row1 col11\" >-0.033019</td>\n",
       "                        <td id=\"T_9f217_row1_col12\" class=\"data row1 col12\" >-0.156199</td>\n",
       "                        <td id=\"T_9f217_row1_col13\" class=\"data row1 col13\" >0.077924</td>\n",
       "            </tr>\n",
       "            <tr>\n",
       "                        <th id=\"T_9f217_level0_row2\" class=\"row_heading level0 row2\" >EnvironmentSatisfaction</th>\n",
       "                        <td id=\"T_9f217_row2_col0\" class=\"data row2 col0\" >0.010146</td>\n",
       "                        <td id=\"T_9f217_row2_col1\" class=\"data row2 col1\" >-0.103369</td>\n",
       "                        <td id=\"T_9f217_row2_col2\" class=\"data row2 col2\" >1.000000</td>\n",
       "                        <td id=\"T_9f217_row2_col3\" class=\"data row2 col3\" >-0.008278</td>\n",
       "                        <td id=\"T_9f217_row2_col4\" class=\"data row2 col4\" >0.001212</td>\n",
       "                        <td id=\"T_9f217_row2_col5\" class=\"data row2 col5\" >-0.006784</td>\n",
       "                        <td id=\"T_9f217_row2_col6\" class=\"data row2 col6\" >-0.006259</td>\n",
       "                        <td id=\"T_9f217_row2_col7\" class=\"data row2 col7\" >-0.002693</td>\n",
       "                        <td id=\"T_9f217_row2_col8\" class=\"data row2 col8\" >0.027627</td>\n",
       "                        <td id=\"T_9f217_row2_col9\" class=\"data row2 col9\" >0.001458</td>\n",
       "                        <td id=\"T_9f217_row2_col10\" class=\"data row2 col10\" >0.018007</td>\n",
       "                        <td id=\"T_9f217_row2_col11\" class=\"data row2 col11\" >0.016194</td>\n",
       "                        <td id=\"T_9f217_row2_col12\" class=\"data row2 col12\" >-0.004999</td>\n",
       "                        <td id=\"T_9f217_row2_col13\" class=\"data row2 col13\" >-0.016075</td>\n",
       "            </tr>\n",
       "            <tr>\n",
       "                        <th id=\"T_9f217_level0_row3\" class=\"row_heading level0 row3\" >JobInvolvement</th>\n",
       "                        <td id=\"T_9f217_row3_col0\" class=\"data row3 col0\" >0.029820</td>\n",
       "                        <td id=\"T_9f217_row3_col1\" class=\"data row3 col1\" >-0.130016</td>\n",
       "                        <td id=\"T_9f217_row3_col2\" class=\"data row3 col2\" >-0.008278</td>\n",
       "                        <td id=\"T_9f217_row3_col3\" class=\"data row3 col3\" >1.000000</td>\n",
       "                        <td id=\"T_9f217_row3_col4\" class=\"data row3 col4\" >-0.012630</td>\n",
       "                        <td id=\"T_9f217_row3_col5\" class=\"data row3 col5\" >-0.021476</td>\n",
       "                        <td id=\"T_9f217_row3_col6\" class=\"data row3 col6\" >-0.015271</td>\n",
       "                        <td id=\"T_9f217_row3_col7\" class=\"data row3 col7\" >-0.005533</td>\n",
       "                        <td id=\"T_9f217_row3_col8\" class=\"data row3 col8\" >-0.014617</td>\n",
       "                        <td id=\"T_9f217_row3_col9\" class=\"data row3 col9\" >-0.021355</td>\n",
       "                        <td id=\"T_9f217_row3_col10\" class=\"data row3 col10\" >0.008717</td>\n",
       "                        <td id=\"T_9f217_row3_col11\" class=\"data row3 col11\" >-0.024184</td>\n",
       "                        <td id=\"T_9f217_row3_col12\" class=\"data row3 col12\" >0.025976</td>\n",
       "                        <td id=\"T_9f217_row3_col13\" class=\"data row3 col13\" >0.008783</td>\n",
       "            </tr>\n",
       "            <tr>\n",
       "                        <th id=\"T_9f217_level0_row4\" class=\"row_heading level0 row4\" >JobLevel</th>\n",
       "                        <td id=\"T_9f217_row4_col0\" class=\"data row4 col0\" >0.509604</td>\n",
       "                        <td id=\"T_9f217_row4_col1\" class=\"data row4 col1\" >-0.169105</td>\n",
       "                        <td id=\"T_9f217_row4_col2\" class=\"data row4 col2\" >0.001212</td>\n",
       "                        <td id=\"T_9f217_row4_col3\" class=\"data row4 col3\" >-0.012630</td>\n",
       "                        <td id=\"T_9f217_row4_col4\" class=\"data row4 col4\" >1.000000</td>\n",
       "                        <td id=\"T_9f217_row4_col5\" class=\"data row4 col5\" >-0.001944</td>\n",
       "                        <td id=\"T_9f217_row4_col6\" class=\"data row4 col6\" >0.950300</td>\n",
       "                        <td id=\"T_9f217_row4_col7\" class=\"data row4 col7\" >0.782208</td>\n",
       "                        <td id=\"T_9f217_row4_col8\" class=\"data row4 col8\" >0.037818</td>\n",
       "                        <td id=\"T_9f217_row4_col9\" class=\"data row4 col9\" >0.534739</td>\n",
       "                        <td id=\"T_9f217_row4_col10\" class=\"data row4 col10\" >0.389447</td>\n",
       "                        <td id=\"T_9f217_row4_col11\" class=\"data row4 col11\" >0.353885</td>\n",
       "                        <td id=\"T_9f217_row4_col12\" class=\"data row4 col12\" >0.375281</td>\n",
       "                        <td id=\"T_9f217_row4_col13\" class=\"data row4 col13\" >0.005303</td>\n",
       "            </tr>\n",
       "            <tr>\n",
       "                        <th id=\"T_9f217_level0_row5\" class=\"row_heading level0 row5\" >JobSatisfaction</th>\n",
       "                        <td id=\"T_9f217_row5_col0\" class=\"data row5 col0\" >-0.004892</td>\n",
       "                        <td id=\"T_9f217_row5_col1\" class=\"data row5 col1\" >-0.103481</td>\n",
       "                        <td id=\"T_9f217_row5_col2\" class=\"data row5 col2\" >-0.006784</td>\n",
       "                        <td id=\"T_9f217_row5_col3\" class=\"data row5 col3\" >-0.021476</td>\n",
       "                        <td id=\"T_9f217_row5_col4\" class=\"data row5 col4\" >-0.001944</td>\n",
       "                        <td id=\"T_9f217_row5_col5\" class=\"data row5 col5\" >1.000000</td>\n",
       "                        <td id=\"T_9f217_row5_col6\" class=\"data row5 col6\" >-0.007157</td>\n",
       "                        <td id=\"T_9f217_row5_col7\" class=\"data row5 col7\" >-0.020185</td>\n",
       "                        <td id=\"T_9f217_row5_col8\" class=\"data row5 col8\" >-0.019459</td>\n",
       "                        <td id=\"T_9f217_row5_col9\" class=\"data row5 col9\" >-0.003803</td>\n",
       "                        <td id=\"T_9f217_row5_col10\" class=\"data row5 col10\" >-0.002305</td>\n",
       "                        <td id=\"T_9f217_row5_col11\" class=\"data row5 col11\" >-0.018214</td>\n",
       "                        <td id=\"T_9f217_row5_col12\" class=\"data row5 col12\" >-0.027656</td>\n",
       "                        <td id=\"T_9f217_row5_col13\" class=\"data row5 col13\" >-0.003669</td>\n",
       "            </tr>\n",
       "            <tr>\n",
       "                        <th id=\"T_9f217_level0_row6\" class=\"row_heading level0 row6\" >MonthlyIncome</th>\n",
       "                        <td id=\"T_9f217_row6_col0\" class=\"data row6 col0\" >0.497855</td>\n",
       "                        <td id=\"T_9f217_row6_col1\" class=\"data row6 col1\" >-0.159840</td>\n",
       "                        <td id=\"T_9f217_row6_col2\" class=\"data row6 col2\" >-0.006259</td>\n",
       "                        <td id=\"T_9f217_row6_col3\" class=\"data row6 col3\" >-0.015271</td>\n",
       "                        <td id=\"T_9f217_row6_col4\" class=\"data row6 col4\" >0.950300</td>\n",
       "                        <td id=\"T_9f217_row6_col5\" class=\"data row6 col5\" >-0.007157</td>\n",
       "                        <td id=\"T_9f217_row6_col6\" class=\"data row6 col6\" >1.000000</td>\n",
       "                        <td id=\"T_9f217_row6_col7\" class=\"data row6 col7\" >0.772893</td>\n",
       "                        <td id=\"T_9f217_row6_col8\" class=\"data row6 col8\" >0.030683</td>\n",
       "                        <td id=\"T_9f217_row6_col9\" class=\"data row6 col9\" >0.514285</td>\n",
       "                        <td id=\"T_9f217_row6_col10\" class=\"data row6 col10\" >0.363818</td>\n",
       "                        <td id=\"T_9f217_row6_col11\" class=\"data row6 col11\" >0.344978</td>\n",
       "                        <td id=\"T_9f217_row6_col12\" class=\"data row6 col12\" >0.344079</td>\n",
       "                        <td id=\"T_9f217_row6_col13\" class=\"data row6 col13\" >-0.017014</td>\n",
       "            </tr>\n",
       "            <tr>\n",
       "                        <th id=\"T_9f217_level0_row7\" class=\"row_heading level0 row7\" >TotalWorkingYears</th>\n",
       "                        <td id=\"T_9f217_row7_col0\" class=\"data row7 col0\" >0.680381</td>\n",
       "                        <td id=\"T_9f217_row7_col1\" class=\"data row7 col1\" >-0.171063</td>\n",
       "                        <td id=\"T_9f217_row7_col2\" class=\"data row7 col2\" >-0.002693</td>\n",
       "                        <td id=\"T_9f217_row7_col3\" class=\"data row7 col3\" >-0.005533</td>\n",
       "                        <td id=\"T_9f217_row7_col4\" class=\"data row7 col4\" >0.782208</td>\n",
       "                        <td id=\"T_9f217_row7_col5\" class=\"data row7 col5\" >-0.020185</td>\n",
       "                        <td id=\"T_9f217_row7_col6\" class=\"data row7 col6\" >0.772893</td>\n",
       "                        <td id=\"T_9f217_row7_col7\" class=\"data row7 col7\" >1.000000</td>\n",
       "                        <td id=\"T_9f217_row7_col8\" class=\"data row7 col8\" >0.001008</td>\n",
       "                        <td id=\"T_9f217_row7_col9\" class=\"data row7 col9\" >0.628133</td>\n",
       "                        <td id=\"T_9f217_row7_col10\" class=\"data row7 col10\" >0.460365</td>\n",
       "                        <td id=\"T_9f217_row7_col11\" class=\"data row7 col11\" >0.404858</td>\n",
       "                        <td id=\"T_9f217_row7_col12\" class=\"data row7 col12\" >0.459188</td>\n",
       "                        <td id=\"T_9f217_row7_col13\" class=\"data row7 col13\" >0.004628</td>\n",
       "            </tr>\n",
       "            <tr>\n",
       "                        <th id=\"T_9f217_level0_row8\" class=\"row_heading level0 row8\" >WorkLifeBalance</th>\n",
       "                        <td id=\"T_9f217_row8_col0\" class=\"data row8 col0\" >-0.021490</td>\n",
       "                        <td id=\"T_9f217_row8_col1\" class=\"data row8 col1\" >-0.063939</td>\n",
       "                        <td id=\"T_9f217_row8_col2\" class=\"data row8 col2\" >0.027627</td>\n",
       "                        <td id=\"T_9f217_row8_col3\" class=\"data row8 col3\" >-0.014617</td>\n",
       "                        <td id=\"T_9f217_row8_col4\" class=\"data row8 col4\" >0.037818</td>\n",
       "                        <td id=\"T_9f217_row8_col5\" class=\"data row8 col5\" >-0.019459</td>\n",
       "                        <td id=\"T_9f217_row8_col6\" class=\"data row8 col6\" >0.030683</td>\n",
       "                        <td id=\"T_9f217_row8_col7\" class=\"data row8 col7\" >0.001008</td>\n",
       "                        <td id=\"T_9f217_row8_col8\" class=\"data row8 col8\" >1.000000</td>\n",
       "                        <td id=\"T_9f217_row8_col9\" class=\"data row8 col9\" >0.012089</td>\n",
       "                        <td id=\"T_9f217_row8_col10\" class=\"data row8 col10\" >0.049856</td>\n",
       "                        <td id=\"T_9f217_row8_col11\" class=\"data row8 col11\" >0.008941</td>\n",
       "                        <td id=\"T_9f217_row8_col12\" class=\"data row8 col12\" >0.002759</td>\n",
       "                        <td id=\"T_9f217_row8_col13\" class=\"data row8 col13\" >-0.026556</td>\n",
       "            </tr>\n",
       "            <tr>\n",
       "                        <th id=\"T_9f217_level0_row9\" class=\"row_heading level0 row9\" >YearsAtCompany</th>\n",
       "                        <td id=\"T_9f217_row9_col0\" class=\"data row9 col0\" >0.311309</td>\n",
       "                        <td id=\"T_9f217_row9_col1\" class=\"data row9 col1\" >-0.134392</td>\n",
       "                        <td id=\"T_9f217_row9_col2\" class=\"data row9 col2\" >0.001458</td>\n",
       "                        <td id=\"T_9f217_row9_col3\" class=\"data row9 col3\" >-0.021355</td>\n",
       "                        <td id=\"T_9f217_row9_col4\" class=\"data row9 col4\" >0.534739</td>\n",
       "                        <td id=\"T_9f217_row9_col5\" class=\"data row9 col5\" >-0.003803</td>\n",
       "                        <td id=\"T_9f217_row9_col6\" class=\"data row9 col6\" >0.514285</td>\n",
       "                        <td id=\"T_9f217_row9_col7\" class=\"data row9 col7\" >0.628133</td>\n",
       "                        <td id=\"T_9f217_row9_col8\" class=\"data row9 col8\" >0.012089</td>\n",
       "                        <td id=\"T_9f217_row9_col9\" class=\"data row9 col9\" >1.000000</td>\n",
       "                        <td id=\"T_9f217_row9_col10\" class=\"data row9 col10\" >0.758754</td>\n",
       "                        <td id=\"T_9f217_row9_col11\" class=\"data row9 col11\" >0.618409</td>\n",
       "                        <td id=\"T_9f217_row9_col12\" class=\"data row9 col12\" >0.769212</td>\n",
       "                        <td id=\"T_9f217_row9_col13\" class=\"data row9 col13\" >0.009508</td>\n",
       "            </tr>\n",
       "            <tr>\n",
       "                        <th id=\"T_9f217_level0_row10\" class=\"row_heading level0 row10\" >YearsInCurrentRole</th>\n",
       "                        <td id=\"T_9f217_row10_col0\" class=\"data row10 col0\" >0.212901</td>\n",
       "                        <td id=\"T_9f217_row10_col1\" class=\"data row10 col1\" >-0.160545</td>\n",
       "                        <td id=\"T_9f217_row10_col2\" class=\"data row10 col2\" >0.018007</td>\n",
       "                        <td id=\"T_9f217_row10_col3\" class=\"data row10 col3\" >0.008717</td>\n",
       "                        <td id=\"T_9f217_row10_col4\" class=\"data row10 col4\" >0.389447</td>\n",
       "                        <td id=\"T_9f217_row10_col5\" class=\"data row10 col5\" >-0.002305</td>\n",
       "                        <td id=\"T_9f217_row10_col6\" class=\"data row10 col6\" >0.363818</td>\n",
       "                        <td id=\"T_9f217_row10_col7\" class=\"data row10 col7\" >0.460365</td>\n",
       "                        <td id=\"T_9f217_row10_col8\" class=\"data row10 col8\" >0.049856</td>\n",
       "                        <td id=\"T_9f217_row10_col9\" class=\"data row10 col9\" >0.758754</td>\n",
       "                        <td id=\"T_9f217_row10_col10\" class=\"data row10 col10\" >1.000000</td>\n",
       "                        <td id=\"T_9f217_row10_col11\" class=\"data row10 col11\" >0.548056</td>\n",
       "                        <td id=\"T_9f217_row10_col12\" class=\"data row10 col12\" >0.714365</td>\n",
       "                        <td id=\"T_9f217_row10_col13\" class=\"data row10 col13\" >0.018845</td>\n",
       "            </tr>\n",
       "            <tr>\n",
       "                        <th id=\"T_9f217_level0_row11\" class=\"row_heading level0 row11\" >YearsSinceLastPromotion</th>\n",
       "                        <td id=\"T_9f217_row11_col0\" class=\"data row11 col0\" >0.216513</td>\n",
       "                        <td id=\"T_9f217_row11_col1\" class=\"data row11 col1\" >-0.033019</td>\n",
       "                        <td id=\"T_9f217_row11_col2\" class=\"data row11 col2\" >0.016194</td>\n",
       "                        <td id=\"T_9f217_row11_col3\" class=\"data row11 col3\" >-0.024184</td>\n",
       "                        <td id=\"T_9f217_row11_col4\" class=\"data row11 col4\" >0.353885</td>\n",
       "                        <td id=\"T_9f217_row11_col5\" class=\"data row11 col5\" >-0.018214</td>\n",
       "                        <td id=\"T_9f217_row11_col6\" class=\"data row11 col6\" >0.344978</td>\n",
       "                        <td id=\"T_9f217_row11_col7\" class=\"data row11 col7\" >0.404858</td>\n",
       "                        <td id=\"T_9f217_row11_col8\" class=\"data row11 col8\" >0.008941</td>\n",
       "                        <td id=\"T_9f217_row11_col9\" class=\"data row11 col9\" >0.618409</td>\n",
       "                        <td id=\"T_9f217_row11_col10\" class=\"data row11 col10\" >0.548056</td>\n",
       "                        <td id=\"T_9f217_row11_col11\" class=\"data row11 col11\" >1.000000</td>\n",
       "                        <td id=\"T_9f217_row11_col12\" class=\"data row11 col12\" >0.510224</td>\n",
       "                        <td id=\"T_9f217_row11_col13\" class=\"data row11 col13\" >0.010029</td>\n",
       "            </tr>\n",
       "            <tr>\n",
       "                        <th id=\"T_9f217_level0_row12\" class=\"row_heading level0 row12\" >YearsWithCurrManager</th>\n",
       "                        <td id=\"T_9f217_row12_col0\" class=\"data row12 col0\" >0.202089</td>\n",
       "                        <td id=\"T_9f217_row12_col1\" class=\"data row12 col1\" >-0.156199</td>\n",
       "                        <td id=\"T_9f217_row12_col2\" class=\"data row12 col2\" >-0.004999</td>\n",
       "                        <td id=\"T_9f217_row12_col3\" class=\"data row12 col3\" >0.025976</td>\n",
       "                        <td id=\"T_9f217_row12_col4\" class=\"data row12 col4\" >0.375281</td>\n",
       "                        <td id=\"T_9f217_row12_col5\" class=\"data row12 col5\" >-0.027656</td>\n",
       "                        <td id=\"T_9f217_row12_col6\" class=\"data row12 col6\" >0.344079</td>\n",
       "                        <td id=\"T_9f217_row12_col7\" class=\"data row12 col7\" >0.459188</td>\n",
       "                        <td id=\"T_9f217_row12_col8\" class=\"data row12 col8\" >0.002759</td>\n",
       "                        <td id=\"T_9f217_row12_col9\" class=\"data row12 col9\" >0.769212</td>\n",
       "                        <td id=\"T_9f217_row12_col10\" class=\"data row12 col10\" >0.714365</td>\n",
       "                        <td id=\"T_9f217_row12_col11\" class=\"data row12 col11\" >0.510224</td>\n",
       "                        <td id=\"T_9f217_row12_col12\" class=\"data row12 col12\" >1.000000</td>\n",
       "                        <td id=\"T_9f217_row12_col13\" class=\"data row12 col13\" >0.014406</td>\n",
       "            </tr>\n",
       "            <tr>\n",
       "                        <th id=\"T_9f217_level0_row13\" class=\"row_heading level0 row13\" >DistanceFromHome</th>\n",
       "                        <td id=\"T_9f217_row13_col0\" class=\"data row13 col0\" >-0.001686</td>\n",
       "                        <td id=\"T_9f217_row13_col1\" class=\"data row13 col1\" >0.077924</td>\n",
       "                        <td id=\"T_9f217_row13_col2\" class=\"data row13 col2\" >-0.016075</td>\n",
       "                        <td id=\"T_9f217_row13_col3\" class=\"data row13 col3\" >0.008783</td>\n",
       "                        <td id=\"T_9f217_row13_col4\" class=\"data row13 col4\" >0.005303</td>\n",
       "                        <td id=\"T_9f217_row13_col5\" class=\"data row13 col5\" >-0.003669</td>\n",
       "                        <td id=\"T_9f217_row13_col6\" class=\"data row13 col6\" >-0.017014</td>\n",
       "                        <td id=\"T_9f217_row13_col7\" class=\"data row13 col7\" >0.004628</td>\n",
       "                        <td id=\"T_9f217_row13_col8\" class=\"data row13 col8\" >-0.026556</td>\n",
       "                        <td id=\"T_9f217_row13_col9\" class=\"data row13 col9\" >0.009508</td>\n",
       "                        <td id=\"T_9f217_row13_col10\" class=\"data row13 col10\" >0.018845</td>\n",
       "                        <td id=\"T_9f217_row13_col11\" class=\"data row13 col11\" >0.010029</td>\n",
       "                        <td id=\"T_9f217_row13_col12\" class=\"data row13 col12\" >0.014406</td>\n",
       "                        <td id=\"T_9f217_row13_col13\" class=\"data row13 col13\" >1.000000</td>\n",
       "            </tr>\n",
       "    </tbody></table>"
      ],
      "text/plain": [
       "<pandas.io.formats.style.Styler at 0x25413337910>"
      ]
     },
     "execution_count": 80,
     "metadata": {},
     "output_type": "execute_result"
    }
   ],
   "source": [
    "#Correlation matrix (with colour gradient)\n",
    "corr = emp.corr()\n",
    "corr.style.background_gradient()"
   ]
  },
  {
   "cell_type": "markdown",
   "id": "7fcbd3e1",
   "metadata": {},
   "source": [
    "#### Age vs Monthly Income"
   ]
  },
  {
   "cell_type": "code",
   "execution_count": 82,
   "id": "967f80c7",
   "metadata": {},
   "outputs": [
    {
     "data": {
      "image/png": "[encoded data removed]",
      "text/plain": [
       "<Figure size 432x288 with 1 Axes>"
      ]
     },
     "metadata": {
      "needs_background": "light"
     },
     "output_type": "display_data"
    }
   ],
   "source": [
    "plt.scatter(emp1.Age,emp1.MonthlyIncome) #for employees who left the company\n",
    "plt.xlabel('Age')\n",
    "plt.ylabel('Monthly Income');"
   ]
  },
  {
   "cell_type": "code",
   "execution_count": 83,
   "id": "1a8a331f",
   "metadata": {},
   "outputs": [
    {
     "data": {
      "image/png": "[encoded data removed]",
      "text/plain": [
       "<Figure size 432x288 with 1 Axes>"
      ]
     },
     "metadata": {
      "needs_background": "light"
     },
     "output_type": "display_data"
    }
   ],
   "source": [
    "plt.scatter(emp0.Age,emp0.MonthlyIncome) #for employees who stayed the company.\n",
    "plt.xlabel('Age')\n",
    "plt.ylabel('Monthly Income');"
   ]
  }
 ],
 "metadata": {
  "kernelspec": {
   "display_name": "Python 3",
   "language": "python",
   "name": "python3"
  },
  "language_info": {
   "codemirror_mode": {
    "name": "ipython",
    "version": 3
   },
   "file_extension": ".py",
   "mimetype": "text/x-python",
   "name": "python",
   "nbconvert_exporter": "python",
   "pygments_lexer": "ipython3",
   "version": "3.8.8"
  }
 },
 "nbformat": 4,
 "nbformat_minor": 5
}
